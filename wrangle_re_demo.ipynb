{
 "cells": [
  {
   "cell_type": "markdown",
   "metadata": {},
   "source": [
    "# Regular expressions"
   ]
  },
  {
   "cell_type": "markdown",
   "metadata": {},
   "source": [
    "Reference\n",
    "\n",
    "1. parsing log files - https://remejy.com/method-to-parse-a-tomcat-access-log-file-with-python-regex/"
   ]
  },
  {
   "cell_type": "code",
   "execution_count": 1,
   "metadata": {},
   "outputs": [],
   "source": [
    "import re\n",
    "import pandas as pd"
   ]
  },
  {
   "cell_type": "code",
   "execution_count": 2,
   "metadata": {},
   "outputs": [],
   "source": [
    "text = 'Around 2,500 patients are taking part in clinical trails #Coronavirus'"
   ]
  },
  {
   "cell_type": "markdown",
   "metadata": {},
   "source": [
    "### FIND operation"
   ]
  },
  {
   "cell_type": "markdown",
   "metadata": {},
   "source": [
    "**Extracting single characters, only lower case**\n"
   ]
  },
  {
   "cell_type": "code",
   "execution_count": 4,
   "metadata": {},
   "outputs": [
    {
     "data": {
      "text/plain": [
       "['r', 'o', 'u', 'n', 'd', 'p', 'a', 't', 'i', 'e']"
      ]
     },
     "execution_count": 4,
     "metadata": {},
     "output_type": "execute_result"
    }
   ],
   "source": [
    "\n",
    "re.findall('[a-z]', text)[:10] # Find all lower case characters"
   ]
  },
  {
   "cell_type": "markdown",
   "metadata": {},
   "source": [
    "**Extracting group of characters or words, only lower case**"
   ]
  },
  {
   "cell_type": "code",
   "execution_count": 5,
   "metadata": {},
   "outputs": [
    {
     "name": "stdout",
     "output_type": "stream",
     "text": [
      "Around 2,500 patients are taking part in clinical trails #Coronavirus\n"
     ]
    },
    {
     "data": {
      "text/plain": [
       "['round',\n",
       " 'patients',\n",
       " 'are',\n",
       " 'taking',\n",
       " 'part',\n",
       " 'in',\n",
       " 'clinical',\n",
       " 'trails',\n",
       " 'oronavirus']"
      ]
     },
     "execution_count": 5,
     "metadata": {},
     "output_type": "execute_result"
    }
   ],
   "source": [
    "print(text)\n",
    "re.findall('[a-z]+', text) # Find all sequency of lower case characters"
   ]
  },
  {
   "cell_type": "markdown",
   "metadata": {},
   "source": [
    "**Extracting group of characters or words, both lower & upper case words**"
   ]
  },
  {
   "cell_type": "code",
   "execution_count": 6,
   "metadata": {},
   "outputs": [
    {
     "name": "stdout",
     "output_type": "stream",
     "text": [
      "Around 2,500 patients are taking part in clinical trails #Coronavirus\n"
     ]
    },
    {
     "data": {
      "text/plain": [
       "['Around',\n",
       " 'patients',\n",
       " 'are',\n",
       " 'taking',\n",
       " 'part',\n",
       " 'in',\n",
       " 'clinical',\n",
       " 'trails',\n",
       " 'Coronavirus']"
      ]
     },
     "execution_count": 6,
     "metadata": {},
     "output_type": "execute_result"
    }
   ],
   "source": [
    "print(text)\n",
    "re.findall('[a-zA-Z]+', text) # Find all sequency of lower & upper case characters"
   ]
  },
  {
   "cell_type": "markdown",
   "metadata": {},
   "source": [
    "**Extracting words(numbers/alphabets-lower as well as upper case/underscores) sequence**"
   ]
  },
  {
   "cell_type": "code",
   "execution_count": 8,
   "metadata": {},
   "outputs": [
    {
     "name": "stdout",
     "output_type": "stream",
     "text": [
      "Around 2,500 patients are taking part in clinical trails #Coronavirus\n"
     ]
    },
    {
     "data": {
      "text/plain": [
       "['Around',\n",
       " '2',\n",
       " '500',\n",
       " 'patients',\n",
       " 'are',\n",
       " 'taking',\n",
       " 'part',\n",
       " 'in',\n",
       " 'clinical',\n",
       " 'trails',\n",
       " 'Coronavirus']"
      ]
     },
     "execution_count": 8,
     "metadata": {},
     "output_type": "execute_result"
    }
   ],
   "source": [
    "print(text)\n",
    "re.findall('\\w+', text) # Find all sequency of word characters"
   ]
  },
  {
   "cell_type": "markdown",
   "metadata": {},
   "source": [
    "### SUBSTITUTE operation"
   ]
  },
  {
   "cell_type": "markdown",
   "metadata": {},
   "source": [
    "**Replace anything which is NOT WORD sequence(i.e. number/alphabets/underscore) with nothing - here whitespace also replaced**<br>\n",
    "NOT speacified using carat^ symbol."
   ]
  },
  {
   "cell_type": "code",
   "execution_count": 9,
   "metadata": {},
   "outputs": [
    {
     "name": "stdout",
     "output_type": "stream",
     "text": [
      "Around 2,500 patients are taking part in clinical trails #Coronavirus\n"
     ]
    },
    {
     "data": {
      "text/plain": [
       "'Around2500patientsaretakingpartinclinicaltrailsCoronavirus'"
      ]
     },
     "execution_count": 9,
     "metadata": {},
     "output_type": "execute_result"
    }
   ],
   "source": [
    "print(text)\n",
    "re.sub('[^\\w+]', '', text)"
   ]
  },
  {
   "cell_type": "markdown",
   "metadata": {},
   "source": [
    "**Replace anything which is NOT WORD sequence (i.e. number/alphabets/underscore) and space, with nothing - here we retain the whitespace**"
   ]
  },
  {
   "cell_type": "code",
   "execution_count": 10,
   "metadata": {},
   "outputs": [
    {
     "name": "stdout",
     "output_type": "stream",
     "text": [
      "Around 2,500 patients are taking part in clinical trails #Coronavirus\n"
     ]
    },
    {
     "data": {
      "text/plain": [
       "'Around 2500 patients are taking part in clinical trails Coronavirus'"
      ]
     },
     "execution_count": 10,
     "metadata": {},
     "output_type": "execute_result"
    }
   ],
   "source": [
    "print(text)\n",
    "re.sub('[^\\w+\\s]', '', text)"
   ]
  },
  {
   "cell_type": "markdown",
   "metadata": {},
   "source": [
    "## Extracting hashtags"
   ]
  },
  {
   "cell_type": "markdown",
   "metadata": {},
   "source": [
    "**Extract any word sequence(alphabets/numbers/underscores) that starts with a # symbol**"
   ]
  },
  {
   "cell_type": "code",
   "execution_count": 11,
   "metadata": {},
   "outputs": [
    {
     "name": "stdout",
     "output_type": "stream",
     "text": [
      "Around 2,500 patients are taking part in clinical trails #Coronavirus\n",
      "['#Coronavirus']\n"
     ]
    }
   ],
   "source": [
    "print(text)\n",
    "print(re.findall('#\\w+', text))"
   ]
  },
  {
   "cell_type": "code",
   "execution_count": 28,
   "metadata": {},
   "outputs": [
    {
     "name": "stdout",
     "output_type": "stream",
     "text": [
      "(400, 5)\n"
     ]
    },
    {
     "data": {
      "text/html": [
       "<div>\n",
       "<style scoped>\n",
       "    .dataframe tbody tr th:only-of-type {\n",
       "        vertical-align: middle;\n",
       "    }\n",
       "\n",
       "    .dataframe tbody tr th {\n",
       "        vertical-align: top;\n",
       "    }\n",
       "\n",
       "    .dataframe thead th {\n",
       "        text-align: right;\n",
       "    }\n",
       "</style>\n",
       "<table border=\"1\" class=\"dataframe\">\n",
       "  <thead>\n",
       "    <tr style=\"text-align: right;\">\n",
       "      <th></th>\n",
       "      <th>created_at</th>\n",
       "      <th>language</th>\n",
       "      <th>likes</th>\n",
       "      <th>retweets</th>\n",
       "      <th>text</th>\n",
       "    </tr>\n",
       "  </thead>\n",
       "  <tbody>\n",
       "    <tr>\n",
       "      <th>0</th>\n",
       "      <td>2020-06-17 03:27:56</td>\n",
       "      <td>en</td>\n",
       "      <td>123212.0</td>\n",
       "      <td>18568.0</td>\n",
       "      <td>96% Approval Rating in the Republican Party. T...</td>\n",
       "    </tr>\n",
       "    <tr>\n",
       "      <th>1</th>\n",
       "      <td>2020-06-17 02:45:33</td>\n",
       "      <td>und</td>\n",
       "      <td>0.0</td>\n",
       "      <td>7942.0</td>\n",
       "      <td>RT @TONYxTWO: @thejtlewis @JoeBiden https://t....</td>\n",
       "    </tr>\n",
       "    <tr>\n",
       "      <th>2</th>\n",
       "      <td>2020-06-17 02:38:20</td>\n",
       "      <td>en</td>\n",
       "      <td>0.0</td>\n",
       "      <td>23815.0</td>\n",
       "      <td>RT @thejtlewis: “Trump isn’t going to accept t...</td>\n",
       "    </tr>\n",
       "    <tr>\n",
       "      <th>3</th>\n",
       "      <td>2020-06-17 02:37:01</td>\n",
       "      <td>en</td>\n",
       "      <td>0.0</td>\n",
       "      <td>6781.0</td>\n",
       "      <td>RT @thejtlewis: With the utmost respect, I tha...</td>\n",
       "    </tr>\n",
       "    <tr>\n",
       "      <th>4</th>\n",
       "      <td>2020-06-17 02:31:11</td>\n",
       "      <td>en</td>\n",
       "      <td>56840.0</td>\n",
       "      <td>14231.0</td>\n",
       "      <td>A GREAT woman. Her son is looking down from he...</td>\n",
       "    </tr>\n",
       "  </tbody>\n",
       "</table>\n",
       "</div>"
      ],
      "text/plain": [
       "            created_at language     likes  retweets  \\\n",
       "0  2020-06-17 03:27:56       en  123212.0   18568.0   \n",
       "1  2020-06-17 02:45:33      und       0.0    7942.0   \n",
       "2  2020-06-17 02:38:20       en       0.0   23815.0   \n",
       "3  2020-06-17 02:37:01       en       0.0    6781.0   \n",
       "4  2020-06-17 02:31:11       en   56840.0   14231.0   \n",
       "\n",
       "                                                text  \n",
       "0  96% Approval Rating in the Republican Party. T...  \n",
       "1  RT @TONYxTWO: @thejtlewis @JoeBiden https://t....  \n",
       "2  RT @thejtlewis: “Trump isn’t going to accept t...  \n",
       "3  RT @thejtlewis: With the utmost respect, I tha...  \n",
       "4  A GREAT woman. Her son is looking down from he...  "
      ]
     },
     "execution_count": 28,
     "metadata": {},
     "output_type": "execute_result"
    }
   ],
   "source": [
    "tweets = pd.read_csv('/Users/sylvia/Desktop/datasets/tweets_donald_trump.csv')\n",
    "print(tweets.shape)\n",
    "tweets.head()"
   ]
  },
  {
   "cell_type": "code",
   "execution_count": 29,
   "metadata": {},
   "outputs": [
    {
     "data": {
      "text/plain": [
       "0                        []\n",
       "1                        []\n",
       "2                        []\n",
       "3                        []\n",
       "4                        []\n",
       "5                        []\n",
       "6                        []\n",
       "7                        []\n",
       "8                        []\n",
       "9                        []\n",
       "10                       []\n",
       "11                       []\n",
       "12                       []\n",
       "13                       []\n",
       "14                       []\n",
       "15                       []\n",
       "16                       []\n",
       "17                       []\n",
       "18                       []\n",
       "19                       []\n",
       "20                       []\n",
       "21                       []\n",
       "22                       []\n",
       "23                       []\n",
       "24                       []\n",
       "25                       []\n",
       "26                       []\n",
       "27                       []\n",
       "28                       []\n",
       "29                       []\n",
       "30                       []\n",
       "31                       []\n",
       "32                       []\n",
       "33                       []\n",
       "34                       []\n",
       "35                       []\n",
       "36                       []\n",
       "37                       []\n",
       "38                       []\n",
       "39                       []\n",
       "40                       []\n",
       "41                       []\n",
       "42                       []\n",
       "43                       []\n",
       "44                       []\n",
       "45                       []\n",
       "46                       []\n",
       "47                       []\n",
       "48               [#ArmyBda]\n",
       "49    [#HappyBirthdayTrump]\n",
       "Name: text, dtype: object"
      ]
     },
     "execution_count": 29,
     "metadata": {},
     "output_type": "execute_result"
    }
   ],
   "source": [
    "tweets['text'].apply(lambda v: re.findall('#\\w+', v)).head(50)\n",
    "                                                          "
   ]
  },
  {
   "cell_type": "code",
   "execution_count": 30,
   "metadata": {},
   "outputs": [
    {
     "name": "stdout",
     "output_type": "stream",
     "text": [
      "[]\n",
      "[]\n",
      "[]\n",
      "[]\n",
      "[]\n",
      "[]\n",
      "[]\n",
      "[]\n",
      "[]\n",
      "[]\n"
     ]
    }
   ],
   "source": [
    "all_hashtags = []\n",
    "for row in tweets['text'].head(10):\n",
    "    row_hashtags = re.findall('#\\w+', row)\n",
    "    print(row_hashtags)"
   ]
  },
  {
   "cell_type": "markdown",
   "metadata": {},
   "source": [
    "**Find all hashtags in all rows & store in a list**"
   ]
  },
  {
   "cell_type": "code",
   "execution_count": 31,
   "metadata": {},
   "outputs": [],
   "source": [
    "all_hashtags = []\n",
    "for row in tweets['text']:\n",
    "    row_hashtags = re.findall('#\\w+', row)\n",
    "    all_hashtags.extend(row_hashtags)"
   ]
  },
  {
   "cell_type": "code",
   "execution_count": 32,
   "metadata": {},
   "outputs": [
    {
     "data": {
      "text/plain": [
       "23"
      ]
     },
     "execution_count": 32,
     "metadata": {},
     "output_type": "execute_result"
    }
   ],
   "source": [
    "len(all_hashtags)"
   ]
  },
  {
   "cell_type": "code",
   "execution_count": 33,
   "metadata": {},
   "outputs": [
    {
     "data": {
      "text/plain": [
       "['#ArmyBda',\n",
       " '#HappyBirthdayTrump',\n",
       " '#GoArmy',\n",
       " '#USMA2020',\n",
       " '#WithVisionWeLead',\n",
       " '#JUSTI',\n",
       " '#BarelyThereBiden',\n",
       " '#MAGA',\n",
       " '#NHSEN',\n",
       " '#2A']"
      ]
     },
     "execution_count": 33,
     "metadata": {},
     "output_type": "execute_result"
    }
   ],
   "source": [
    "all_hashtags[:10]"
   ]
  },
  {
   "cell_type": "markdown",
   "metadata": {},
   "source": [
    "**Check how many times hashtag repeated in data using value counts**"
   ]
  },
  {
   "cell_type": "code",
   "execution_count": 27,
   "metadata": {},
   "outputs": [
    {
     "data": {
      "text/plain": [
       "#MAGA            4\n",
       "#2A              2\n",
       "#NH01            1\n",
       "#FoxNews         1\n",
       "#Democrats       1\n",
       "#PPPworks        1\n",
       "#JobsReport      1\n",
       "#jobsreport      1\n",
       "#AMERICAFirst    1\n",
       "#WGDP            1\n",
       "dtype: int64"
      ]
     },
     "execution_count": 27,
     "metadata": {},
     "output_type": "execute_result"
    }
   ],
   "source": [
    "freq_hashtags = pd.Series(all_hashtags).value_counts()\n",
    "freq_hashtags.head(10)"
   ]
  },
  {
   "cell_type": "markdown",
   "metadata": {},
   "source": [
    "## Groups"
   ]
  },
  {
   "cell_type": "code",
   "execution_count": 34,
   "metadata": {},
   "outputs": [
    {
     "data": {
      "text/html": [
       "<div>\n",
       "<style scoped>\n",
       "    .dataframe tbody tr th:only-of-type {\n",
       "        vertical-align: middle;\n",
       "    }\n",
       "\n",
       "    .dataframe tbody tr th {\n",
       "        vertical-align: top;\n",
       "    }\n",
       "\n",
       "    .dataframe thead th {\n",
       "        text-align: right;\n",
       "    }\n",
       "</style>\n",
       "<table border=\"1\" class=\"dataframe\">\n",
       "  <thead>\n",
       "    <tr style=\"text-align: right;\">\n",
       "      <th></th>\n",
       "      <th>title</th>\n",
       "      <th>location</th>\n",
       "      <th>experience</th>\n",
       "      <th>skills</th>\n",
       "      <th>company</th>\n",
       "      <th>salary</th>\n",
       "      <th>description</th>\n",
       "      <th>posted_date</th>\n",
       "    </tr>\n",
       "  </thead>\n",
       "  <tbody>\n",
       "    <tr>\n",
       "      <th>0</th>\n",
       "      <td>Data Science</td>\n",
       "      <td>Mumbai</td>\n",
       "      <td>2-4 yrs</td>\n",
       "      <td>Algorithms, Machine Learning, Python, Java, Da...</td>\n",
       "      <td>Netcore Solutions Pvt Ltd</td>\n",
       "      <td>2,00,000 - 7,00,000 P.A.</td>\n",
       "      <td>At least 2 year of experience in data engineer...</td>\n",
       "      <td>1 day ago</td>\n",
       "    </tr>\n",
       "    <tr>\n",
       "      <th>1</th>\n",
       "      <td>Analyst / Sr. Analyst (data Science)</td>\n",
       "      <td>Gurgaon</td>\n",
       "      <td>5-8 yrs</td>\n",
       "      <td>predictive modeling, predictive analytics, mac...</td>\n",
       "      <td>Cvent India Pvt. Ltd.</td>\n",
       "      <td>5,00,000 - 10,00,000 P.A.</td>\n",
       "      <td>Strong experience on providing predictive mode...</td>\n",
       "      <td>Today</td>\n",
       "    </tr>\n",
       "  </tbody>\n",
       "</table>\n",
       "</div>"
      ],
      "text/plain": [
       "                                  title location experience  \\\n",
       "0                          Data Science   Mumbai    2-4 yrs   \n",
       "1  Analyst / Sr. Analyst (data Science)  Gurgaon    5-8 yrs   \n",
       "\n",
       "                                              skills  \\\n",
       "0  Algorithms, Machine Learning, Python, Java, Da...   \n",
       "1  predictive modeling, predictive analytics, mac...   \n",
       "\n",
       "                     company                           salary  \\\n",
       "0  Netcore Solutions Pvt Ltd       2,00,000 - 7,00,000 P.A.     \n",
       "1      Cvent India Pvt. Ltd.      5,00,000 - 10,00,000 P.A.     \n",
       "\n",
       "                                         description posted_date  \n",
       "0  At least 2 year of experience in data engineer...   1 day ago  \n",
       "1  Strong experience on providing predictive mode...       Today  "
      ]
     },
     "execution_count": 34,
     "metadata": {},
     "output_type": "execute_result"
    }
   ],
   "source": [
    "jobs = pd.read_csv('/Users/sylvia/Desktop/datasets/datascience_jobs.csv')\n",
    "jobs.head(2)"
   ]
  },
  {
   "cell_type": "code",
   "execution_count": 37,
   "metadata": {},
   "outputs": [
    {
     "data": {
      "text/plain": [
       "array(['    2,00,000 - 7,00,000 P.A.  ',\n",
       "       '    5,00,000 - 10,00,000 P.A.  ',\n",
       "       '    10,00,000 - 15,00,000 P.A.  ', '  Not disclosed ',\n",
       "       '    2,00,000 - 4,25,000 P.A.  ', '    4,00,000 - 8,00,000 P.A.  ',\n",
       "       '    1,00,000 - 3,00,000 P.A.  ', '    1,25,000 - 3,00,000 P.A.  ',\n",
       "       '    1,25,000 - 4,00,000 P.A. Best salary as per Industry & ...  ',\n",
       "       '    2,50,000 - 7,50,000 P.A.  ', '    4,00,000 - 7,50,000 P.A.  ',\n",
       "       '    22,50,000 - 35,00,000 P.A.  ',\n",
       "       '    12,00,000 - 18,00,000 P.A.  ',\n",
       "       '    13,00,000 - 20,00,000 P.A.  ',\n",
       "       '    3,00,000 - 8,00,000 P.A. 40%  ',\n",
       "       '    8,00,000 - 10,00,000 P.A.  ',\n",
       "       '    1,00,000 - 4,00,000 P.A.  ', '    50,000 - 2,00,000 P.A.  ',\n",
       "       '    7,00,000 - 17,00,000 P.A.  ',\n",
       "       '    6,00,000 - 12,00,000 P.A.  ',\n",
       "       '    10,00,000 - 20,00,000 P.A.  ', '    Rs. 1.50 Lac/month  ',\n",
       "       '    PB-3 Rs15600-39100 with minimum pay of Rs30000 + AGP of...  ',\n",
       "       '    Fellowship amount is Rs.60,000/- per month  ',\n",
       "       '    Pay Scale: Pay Band : Rs.37400-67000(minimum pay of Rs....  ',\n",
       "       '    Pay Scale: Academic Grade Pay: Rs. 7000- Pay Band (Rs.)...  ',\n",
       "       '    PB-3 Rs. (15600-39100) + Academic Grade Pay Rs. 8000/-  ',\n",
       "       '    Not disclosed  ',\n",
       "       '    Minimum Basic Pay Rs.101500/- (Academic Pay Level 12 an...  ',\n",
       "       '    Pay Level/Pay Band:Minimum Basic Pay Rs.57700/- or 6890...  ',\n",
       "       '    Minimum Basic Pay: Rs.139600/- (Academic Pay Level 13A2...  ',\n",
       "       '    Pay Level 12 (Rs.101500-167400) with minimum Pay of Rs....  ',\n",
       "       '    PB-3 with Grade Pay of Rs. 7000/-  ',\n",
       "       '    PB-3 with Grade Pay of Rs. 6000/-+ 07 additional non-co...  ',\n",
       "       '    4,00,000 - 6,00,000 P.A.  ',\n",
       "       '    7,00,000 - 12,00,000 P.A.  ',\n",
       "       '    20,00,000 - 25,00,000 P.A.  ',\n",
       "       '    30,00,000 - 40,00,000 P.A.  ',\n",
       "       '    4,00,000 - 9,00,000 P.A. DOE  ',\n",
       "       '    50,000 - 3,00,000 P.A.  ', '    4,00,000 - 7,00,000 P.A.  ',\n",
       "       '    14,00,000 - 24,00,000 P.A.  ',\n",
       "       '    12,00,000 - 15,00,000 P.A.  ',\n",
       "       '    15,00,000 - 30,00,000 P.A.  ',\n",
       "       '    10,00,000 - 14,00,000 P.A.  ',\n",
       "       '    45,00,000 - 50,00,000 P.A.  ',\n",
       "       '    15,00,000 - 25,00,000 P.A. skype Interview available  ',\n",
       "       '    9,50,000 - 18,00,000 P.A.  ',\n",
       "       '    6,00,000 - 7,00,000 P.A.  ',\n",
       "       '    15,00,000 - 22,50,000 P.A.  ',\n",
       "       '    10,00,000 - 16,00,000 P.A.  ',\n",
       "       '    8,00,000 - 18,00,000 P.A.  ',\n",
       "       '    20,00,000 - 35,00,000 P.A. +perks & Benefits  ',\n",
       "       '    5,00,000 - 15,00,000 P.A.  ',\n",
       "       '    16,00,000 - 31,00,000 P.A.  ',\n",
       "       '    2,75,000 - 6,00,000 P.A.  ',\n",
       "       '    50,000 - 1,75,000 P.A. Salary as Per Skills & Industry  ',\n",
       "       '    1,25,000 - 2,50,000 P.A.  ',\n",
       "       '    6,00,000 - 15,00,000 P.A. other  ',\n",
       "       '    4,00,000 - 9,00,000 P.A.  ',\n",
       "       '    8,00,000 - 16,00,000 P.A.  ',\n",
       "       '    25,00,000 - 40,00,000 P.A. Salary is not a bar for righ...  ',\n",
       "       '    7,00,000 - 13,00,000 P.A.  ',\n",
       "       '    2,75,000 - 7,75,000 P.A.  ',\n",
       "       '    5,00,000 - 11,00,000 P.A. Good as per the market  ',\n",
       "       '    35,00,000 - 55,00,000 P.A. Competitive Remuneration Pac...  ',\n",
       "       '    9,50,000 - 19,50,000 P.A.  ',\n",
       "       '    18,00,000 - 30,00,000 P.A.  ',\n",
       "       '    2,00,000 - 5,50,000 P.A.  ', '    3,50,000 - 5,50,000 P.A.  ',\n",
       "       '    50,00,000 - 1 Cr & above P.A.  ',\n",
       "       '    2,25,000 - 2,50,000 P.A.  ',\n",
       "       '    8,00,000 - 18,00,000 P.A. Exceptional package offered f...  ',\n",
       "       '    12,00,000 - 20,00,000 P.A.  ',\n",
       "       '    18,00,000 - 20,00,000 P.A.  ',\n",
       "       '    12,00,000 - 18,00,000 P.A. Plus Variables  ',\n",
       "       '    20,00,000 - 35,00,000 P.A.  ',\n",
       "       '    18,00,000 - 25,00,000 P.A.  ',\n",
       "       '    9,00,000 - 18,00,000 P.A.  ', '    90,000 - 1,00,000 P.A.  ',\n",
       "       '    19,00,000 - 30,00,000 P.A.  ',\n",
       "       '    8,00,000 - 13,00,000 P.A.  ',\n",
       "       '    11,00,000 - 19,00,000 P.A.  ',\n",
       "       '    7,00,000 - 11,00,000 P.A.  ',\n",
       "       '    3,00,000 - 5,00,000 P.A.  ',\n",
       "       '    5,00,000 - 12,00,000 P.A.  ',\n",
       "       '    5,50,000 - 15,50,000 P.A.  ',\n",
       "       '    16,00,000 - 25,00,000 P.A.  ',\n",
       "       '    35,00,000 - 55,00,000 P.A.  ',\n",
       "       '    27,50,000 - 40,00,000 P.A.  ',\n",
       "       '    6,00,000 - 13,00,000 P.A.  ',\n",
       "       '    5,50,000 - 7,50,000 P.A. Negotiable  ',\n",
       "       '    1,50,000 - 3,75,000 P.A.  ',\n",
       "       '    8,00,000 - 16,00,000 P.A. Insurance and Other Statutory...  ',\n",
       "       '    10,00,000 - 16,00,000 P.A. Best in the Industry  ',\n",
       "       '    40,00,000 - 70,00,000 P.A.  ',\n",
       "       '    15,00,000 - 18,00,000 P.A.  ',\n",
       "       '    11,00,000 - 13,00,000 P.A.  ',\n",
       "       '    15,00,000 - 25,00,000 P.A. Excellent benefits & perks. ...  ',\n",
       "       '    27,50,000 - 42,50,000 P.A.  ',\n",
       "       '    15,00,000 - 25,00,000 P.A.  ',\n",
       "       '    1,00,000 - 6,00,000 P.A.  ',\n",
       "       '    14,00,000 - 22,50,000 P.A.  ',\n",
       "       '    6,00,000 - 8,00,000 P.A.  ', '    1,25,000 - 1,50,000 P.A.  ',\n",
       "       '    3,00,000 - 8,00,000 P.A.  ',\n",
       "       '    6,00,000 - 11,00,000 P.A.  ',\n",
       "       '    3,00,000 - 6,00,000 P.A.  ',\n",
       "       '    30,00,000 - 40,00,000 P.A. GBP Â£ 30000 - Â£ 40000  ',\n",
       "       '    12,00,000 - 22,00,000 P.A.  ', '    1,00,000 & above P.A.  ',\n",
       "       '    1,50,000 - 5,50,000 P.A.  ',\n",
       "       '    15,00,000 - 20,00,000 P.A. 75.00 LPA - 90.00 LPA  ',\n",
       "       '    3,00,000 - 5,50,000 P.A.  ',\n",
       "       '    30,00,000 - 45,00,000 P.A. As per company policy  ',\n",
       "       '    1,25,000 - 4,00,000 P.A. Yearly Bonuses  ',\n",
       "       '    8,50,000 - 14,00,000 P.A.  ',\n",
       "       '    1,75,000 - 2,75,000 P.A.  ',\n",
       "       '    2,25,000 - 5,00,000 P.A. Interested candidates need to ...  ',\n",
       "       '    1,00,000 - 5,00,000 P.A.  ', '    4,75,000 - 6,00,000 P.A.  ',\n",
       "       '    5,00,000 - 7,00,000 P.A.  ', '    3,75,000 - 5,00,000 P.A.  ',\n",
       "       '    25,00,000 - 40,00,000 P.A.  ',\n",
       "       '    30,00,000 - 45,00,000 P.A. Best in the industry  ',\n",
       "       '    15,00,000 - 20,00,000 P.A.  ',\n",
       "       '    20,00,000 - 27,50,000 P.A.  ',\n",
       "       '    4,00,000 - 6,00,000 P.A. As per industry standard  ',\n",
       "       '    1,25,000 - 3,25,000 P.A.  ',\n",
       "       '    3,50,000 - 6,00,000 P.A. reimbursement will be given  ',\n",
       "       '    20,00,000 - 27,50,000 P.A. Best In The Industry  ',\n",
       "       '    22,50,000 - 27,50,000 P.A.  ',\n",
       "       '    3,00,000 - 6,00,000 P.A. No bar for the right candidate...  ',\n",
       "       '    1,25,000 - 1,50,000 P.A. Quarterly incentives & Annual ...  ',\n",
       "       '    50,00,000 - 80,00,000 P.A.  ',\n",
       "       '    18,00,000 - 22,50,000 P.A.  ',\n",
       "       '    6,00,000 - 16,00,000 P.A. Qualcomm provides our employe...  ',\n",
       "       '    35,00,000 - 45,00,000 P.A. Best In The Industry  ',\n",
       "       '    11,00,000 - 17,00,000 P.A.  ',\n",
       "       '    8,00,000 - 11,00,000 P.A.  ',\n",
       "       '    11,00,000 - 21,00,000 P.A.  ',\n",
       "       '    2,75,000 - 5,50,000 P.A.  ', '    2,00,000 - 3,25,000 P.A.  ',\n",
       "       '    4,50,000 - 9,00,000 P.A.  ',\n",
       "       '    1,25,000 - 2,50,000 P.A. Attractive Incentives!!  ',\n",
       "       '    2,00,000 - 6,00,000 P.A.  ', '    35,000 - 45,000 P.A.  ',\n",
       "       '    6,00,000 - 16,00,000 P.A.  ',\n",
       "       '    20,00,000 - 30,00,000 P.A.  ',\n",
       "       '    45,00,000 - 70,00,000 P.A.  ',\n",
       "       '    25,00,000 - 30,00,000 P.A.  ',\n",
       "       '    8,00,000 - 11,00,000 P.A. Pf+bonus+medical Insurance  ',\n",
       "       '    50,00,000 P.A.  ',\n",
       "       '    10,00,000 - 11,00,000 P.A. Salary + PF + Bonus + Medica...  ',\n",
       "       '    10,00,000 - 12,00,000 P.A.  ',\n",
       "       '    7,00,000 - 9,00,000 P.A.  ',\n",
       "       '    3,50,000 - 4,25,000 P.A. Incentives  ',\n",
       "       '    4,75,000 - 9,50,000 P.A.  ', '    2,00,000 - 3,00,000 P.A.  ',\n",
       "       '    Scale of Pay: Minimum Pay of Rs.20140 in PB3 (Rs.15600 ...  ',\n",
       "       '    Scale of Pay: Minimum Pay of Rs.30000 in PB3 (Rs.15600 ...  ',\n",
       "       '    Scale of Pay:- Minimum Pay of Rs.42800 in PB4 (Rs.37400...  ',\n",
       "       '    Minimum Pay of Rs.48000 in PB4 (Rs.37400 - 67000) plus ...  ',\n",
       "       '    7,00,000 - 15,00,000 P.A.  ',\n",
       "       '    8,50,000 - 12,00,000 P.A.  ',\n",
       "       '    Rs.15,600-39,100 (PB-3) with AGP of Rs. 7000/-  ',\n",
       "       '    Rs.15,600-39,100 (PB-3) with AGP of Rs. 6000/- + 07 add...  ',\n",
       "       '    Rs.15,600-39,100 (PB-3) with AGP of Rs. 8000  ',\n",
       "       '    Rs.37400-67000 (PB-4) with AGP 9500/-  ',\n",
       "       '    Rs.37400-67000 (PB-4) with AGP 10500/-  ',\n",
       "       '    Scale of Pay (is revised periodically as per GoI order)...  ',\n",
       "       '    PB-3 Rs. 15600 - Rs. 39100/- + AGP Rs. 8000/-  ',\n",
       "       '    PB-4: Rs. 37400 - Rs. 67000 + Academic Grade Pay Rs. 9500  ',\n",
       "       '    PB-4: Rs. 37400 - Rs. 67000 + Academic Grade Pay Rs. 10500  ',\n",
       "       '    7,00,000 - 10,00,000 P.A.  ',\n",
       "       '    14,00,000 - 20,00,000 P.A.  ',\n",
       "       '    6,50,000 - 16,50,000 P.A.  ',\n",
       "       '    10,00,000 - 20,00,000 P.A. DOE  ',\n",
       "       '    7,00,000 - 14,00,000 P.A.  ',\n",
       "       '    45,00,000 - 65,00,000 P.A.  ',\n",
       "       '    7,00,000 - 16,00,000 P.A.  ',\n",
       "       '    8,00,000 - 12,00,000 P.A.  ',\n",
       "       '    1,00,000 - 6,00,000 P.A. Best In the Industry  ',\n",
       "       '    9,00,000 - 13,00,000 P.A.  ',\n",
       "       '    2,00,000 - 4,00,000 P.A.  ', '    3,00,000 - 7,00,000 P.A.  ',\n",
       "       '    13,00,000 - 15,00,000 P.A.  ',\n",
       "       '    50,00,000 - 70,00,000 P.A.  ',\n",
       "       '    35,00,000 - 45,00,000 P.A.  ',\n",
       "       '    8,00,000 - 17,00,000 P.A.  ',\n",
       "       '    25,00,000 - 37,50,000 P.A.  ',\n",
       "       '    40,00,000 - 60,00,000 P.A.  ',\n",
       "       '    10,00,000 - 17,00,000 P.A.  ',\n",
       "       '    17,00,000 - 22,50,000 P.A.  ',\n",
       "       '    8,00,000 - 15,00,000 P.A.  ',\n",
       "       '    16,00,000 - 20,00,000 P.A.  ',\n",
       "       '    1,50,000 - 6,00,000 P.A.  ',\n",
       "       '    4,50,000 - 8,00,000 P.A. Best in industry  ',\n",
       "       '    2,50,000 - 3,00,000 P.A.  ', '    1,25,000 - 6,25,000 P.A.  ',\n",
       "       '    15,00,000 - 20,00,000 P.A. Sign-on Bonus, Relocations C...  ',\n",
       "       '    2,00,000 - 3,00,000 P.A. Huge process incentives, Shift...  ',\n",
       "       '    5,00,000 - 8,00,000 P.A. 5 day week company. Incentives...  ',\n",
       "       '    20,00,000 - 35,00,000 P.A. !!!!! Immediate joiners will...  ',\n",
       "       '    25,00,000 - 32,50,000 P.A.  ',\n",
       "       '    6,00,000 - 14,00,000 P.A.  ',\n",
       "       '    5,00,000 - 7,50,000 P.A.  ', '    3,50,000 - 7,00,000 P.A.  ',\n",
       "       '    12,00,000 - 22,00,000 P.A. Excellent Salary  ',\n",
       "       '    15,00,000 - 25,00,000 P.A. Best Salary offering reputed...  ',\n",
       "       '    9,00,000 - 15,00,000 P.A. Excellent Salary  ',\n",
       "       '    40,00,000 - 80,00,000 P.A.  ',\n",
       "       '    4,00,000 - 5,00,000 P.A.  ',\n",
       "       '    3,00,000 - 7,00,000 P.A. + Both side Pick/drop + Incent...  ',\n",
       "       '    4,00,000 - 7,00,000 P.A. Very Attractive Performance In...  ',\n",
       "       '    4,00,000 - 7,00,000 P.A. All employee benefits & perks ...  ',\n",
       "       '    7,50,000 - 17,50,000 P.A.  ',\n",
       "       '    30,000 - 40,000 P.A. Generous Equity  ',\n",
       "       '    1,50,000 - 3,25,000 P.A.  ',\n",
       "       '    8,00,000 - 18,00,000 P.A. Salary Not a constraint for t...  ',\n",
       "       '    2,00,000 - 5,00,000 P.A.  ',\n",
       "       '    2,25,000 - 3,50,000 P.A. Negotiable  ',\n",
       "       '    30,00,000 - 35,00,000 P.A.  ',\n",
       "       '    4,00,000 - 7,50,000 P.A. Salary Not A Constraint For De...  ',\n",
       "       '    50,00,000 - 1 Cr & above P.A. 75.00 LPA - 1.0 Cr  ',\n",
       "       '    15,00,000 - 20,00,000 P.A. Relocation bonus, Variable pay  ',\n",
       "       '    Pay Scale:70,000 -75,000  ',\n",
       "       '    Pay Scale:90,000 -1,00,000  ',\n",
       "       '    6,50,000 P.A. Your initial compensation will be INR 6.5...  ',\n",
       "       '    5,00,000 - 6,50,000 P.A.  ',\n",
       "       '    15,00,000 - 27,50,000 P.A.  ', '    Rs. 28,000/-  ',\n",
       "       '    Rs. 36,000/-  ', '    Rs. 48200/50600/53000/55400/57800/-  ',\n",
       "       '    11,00,000 - 15,00,000 P.A.  ',\n",
       "       '    4,00,000 - 4,50,000 P.A.  ',\n",
       "       '    6,50,000 - 13,00,000 P.A.  ',\n",
       "       '    8,50,000 - 13,00,000 P.A.  ',\n",
       "       '    6,00,000 - 8,50,000 P.A.  ',\n",
       "       '    Pay Level 11 of VII CPC (Pay Band PB-3 Rs.15600-39100 +...  ',\n",
       "       '    9,00,000 - 11,00,000 P.A.  ',\n",
       "       '    11,00,000 - 20,00,000 P.A.  ',\n",
       "       '    5,00,000 - 11,00,000 P.A.  ',\n",
       "       '    5,00,000 - 8,00,000 P.A.  ',\n",
       "       '    17,00,000 - 32,00,000 P.A.  ',\n",
       "       '    3,25,000 - 8,25,000 P.A.  ',\n",
       "       '    10,00,000 - 20,00,000 P.A. Best In The Industry  ',\n",
       "       '    2,25,000 - 5,50,000 P.A. Best  in Industry Salary Packa...  ',\n",
       "       '    50,00,000 - 90,00,000 P.A.  ',\n",
       "       '    30,00,000 - 45,00,000 P.A.  ',\n",
       "       '    10,00,000 - 20,00,000 P.A. As per Corrent CTC & Eperien...  ',\n",
       "       '    9,00,000 - 19,00,000 P.A.  ',\n",
       "       '    20,00,000 - 30,00,000 P.A. Competitive Remuneration Pac...  ',\n",
       "       '    35,00,000 - 50,00,000 P.A.  ',\n",
       "       '    7,00,000 - 17,00,000 P.A. Best in the Industry  ',\n",
       "       '    5,00,000 - 9,00,000 P.A.  ',\n",
       "       '    30,00,000 - 35,00,000 P.A. Excellent Perks and faciliti...  ',\n",
       "       '    90,000 - 1,25,000 P.A.  ', '    20,00,000 - 32,50,000 P.A.  ',\n",
       "       '    5,00,000 - 9,50,000 P.A.  ', '    5,50,000 - 7,00,000 P.A.  ',\n",
       "       '    8,00,000 - 9,50,000 P.A.  ', '    6,00,000 - 9,00,000 P.A.  ',\n",
       "       '    3,50,000 - 5,00,000 P.A.  ', '    4,75,000 - 8,00,000 P.A.  ',\n",
       "       '    4,50,000 - 7,50,000 P.A.  ',\n",
       "       '    9,50,000 - 11,00,000 P.A.  ',\n",
       "       '    2,75,000 - 5,00,000 P.A.  ',\n",
       "       '    6,00,000 - 10,00,000 P.A.  ',\n",
       "       '    7,50,000 - 12,00,000 P.A.  ',\n",
       "       '    11,00,000 - 14,00,000 P.A.  ',\n",
       "       '    5,50,000 - 9,50,000 P.A.  ',\n",
       "       '    8,00,000 - 14,00,000 P.A.  ',\n",
       "       '    5,50,000 - 15,00,000 P.A.  ',\n",
       "       '    7,00,000 - 8,50,000 P.A.  ', '    1,50,000 - 3,00,000 P.A.  ',\n",
       "       '    2,25,000 - 3,25,000 P.A.  ',\n",
       "       '    7,50,000 - 11,00,000 P.A.  ',\n",
       "       '    5,00,000 - 10,00,000 P.A. Very competitive salary packages  ',\n",
       "       '    9,00,000 - 15,00,000 P.A.  '], dtype=object)"
      ]
     },
     "execution_count": 37,
     "metadata": {},
     "output_type": "execute_result"
    }
   ],
   "source": [
    "jobs['salary'].unique()"
   ]
  },
  {
   "cell_type": "markdown",
   "metadata": {},
   "source": [
    "**Extract salary range**"
   ]
  },
  {
   "cell_type": "code",
   "execution_count": 38,
   "metadata": {},
   "outputs": [
    {
     "data": {
      "text/plain": [
       "['500000 - 1000000 P.A.']"
      ]
     },
     "execution_count": 38,
     "metadata": {},
     "output_type": "execute_result"
    }
   ],
   "source": [
    "salary = '5,00,000 - 10,00,000 P.A.'\n",
    "\n",
    "# replacing commas with space before passing to findall regex\n",
    "re.findall('[0-9]+ - [0-9]+ P.A.', salary.replace(',', ''))\n"
   ]
  },
  {
   "cell_type": "markdown",
   "metadata": {},
   "source": [
    "**Extract minimum number/feature from range using grouping**"
   ]
  },
  {
   "cell_type": "code",
   "execution_count": 40,
   "metadata": {},
   "outputs": [
    {
     "data": {
      "text/plain": [
       "['500000']"
      ]
     },
     "execution_count": 40,
     "metadata": {},
     "output_type": "execute_result"
    }
   ],
   "source": [
    "re.findall('([0-9]+) - [0-9]+ P.A.', salary.replace(',', ''))"
   ]
  },
  {
   "cell_type": "markdown",
   "metadata": {},
   "source": [
    "**Extract maximum number/feature from range using grouping**"
   ]
  },
  {
   "cell_type": "code",
   "execution_count": 41,
   "metadata": {},
   "outputs": [
    {
     "data": {
      "text/plain": [
       "['1000000']"
      ]
     },
     "execution_count": 41,
     "metadata": {},
     "output_type": "execute_result"
    }
   ],
   "source": [
    "re.findall('[0-9]+ - ([0-9]+) P.A.', salary.replace(',', ''))"
   ]
  },
  {
   "cell_type": "markdown",
   "metadata": {},
   "source": [
    "**Extract salary from whole dataset**"
   ]
  },
  {
   "cell_type": "code",
   "execution_count": 42,
   "metadata": {},
   "outputs": [],
   "source": [
    "def get_salary_min(row):\n",
    "    row = row.replace(',', '')\n",
    "    pattern = '([0-9]+) - [0-9]+ P.A.'\n",
    "    salary = re.findall(pattern, row)\n",
    "    if len(salary):\n",
    "        return salary[0]\n",
    "    else:\n",
    "        return None"
   ]
  },
  {
   "cell_type": "code",
   "execution_count": 43,
   "metadata": {},
   "outputs": [
    {
     "data": {
      "text/html": [
       "<div>\n",
       "<style scoped>\n",
       "    .dataframe tbody tr th:only-of-type {\n",
       "        vertical-align: middle;\n",
       "    }\n",
       "\n",
       "    .dataframe tbody tr th {\n",
       "        vertical-align: top;\n",
       "    }\n",
       "\n",
       "    .dataframe thead th {\n",
       "        text-align: right;\n",
       "    }\n",
       "</style>\n",
       "<table border=\"1\" class=\"dataframe\">\n",
       "  <thead>\n",
       "    <tr style=\"text-align: right;\">\n",
       "      <th></th>\n",
       "      <th>salary</th>\n",
       "      <th>salary_min</th>\n",
       "    </tr>\n",
       "  </thead>\n",
       "  <tbody>\n",
       "    <tr>\n",
       "      <th>0</th>\n",
       "      <td>2,00,000 - 7,00,000 P.A.</td>\n",
       "      <td>200000</td>\n",
       "    </tr>\n",
       "    <tr>\n",
       "      <th>1</th>\n",
       "      <td>5,00,000 - 10,00,000 P.A.</td>\n",
       "      <td>500000</td>\n",
       "    </tr>\n",
       "    <tr>\n",
       "      <th>2</th>\n",
       "      <td>10,00,000 - 15,00,000 P.A.</td>\n",
       "      <td>1000000</td>\n",
       "    </tr>\n",
       "    <tr>\n",
       "      <th>3</th>\n",
       "      <td>Not disclosed</td>\n",
       "      <td>None</td>\n",
       "    </tr>\n",
       "    <tr>\n",
       "      <th>4</th>\n",
       "      <td>Not disclosed</td>\n",
       "      <td>None</td>\n",
       "    </tr>\n",
       "  </tbody>\n",
       "</table>\n",
       "</div>"
      ],
      "text/plain": [
       "                             salary salary_min\n",
       "0        2,00,000 - 7,00,000 P.A.       200000\n",
       "1       5,00,000 - 10,00,000 P.A.       500000\n",
       "2      10,00,000 - 15,00,000 P.A.      1000000\n",
       "3                    Not disclosed        None\n",
       "4                    Not disclosed        None"
      ]
     },
     "execution_count": 43,
     "metadata": {},
     "output_type": "execute_result"
    }
   ],
   "source": [
    "jobs['salary_min'] = jobs['salary'].apply(get_salary_min)\n",
    "jobs[['salary', 'salary_min']].head()"
   ]
  },
  {
   "cell_type": "markdown",
   "metadata": {},
   "source": [
    "**Convert Salary from String datatype to numeric column so mathematical operations can be performed**"
   ]
  },
  {
   "cell_type": "code",
   "execution_count": 45,
   "metadata": {},
   "outputs": [
    {
     "data": {
      "text/plain": [
       "0        200000.0\n",
       "1        500000.0\n",
       "2       1000000.0\n",
       "3             NaN\n",
       "4             NaN\n",
       "          ...    \n",
       "3995          NaN\n",
       "3996          NaN\n",
       "3997          NaN\n",
       "3998          NaN\n",
       "3999          NaN\n",
       "Name: salary_min, Length: 4000, dtype: float64"
      ]
     },
     "execution_count": 45,
     "metadata": {},
     "output_type": "execute_result"
    }
   ],
   "source": [
    "jobs['salary_min'] = pd.to_numeric(jobs['salary_min'],\n",
    "                                  errors='coerce')\n",
    "\n",
    "# Using errors='coerce'. It will replace all non-numeric values with NaN\n",
    "jobs['salary_min']"
   ]
  },
  {
   "cell_type": "code",
   "execution_count": null,
   "metadata": {},
   "outputs": [],
   "source": []
  }
 ],
 "metadata": {
  "kernelspec": {
   "display_name": "Python 3 (ipykernel)",
   "language": "python",
   "name": "python3"
  },
  "language_info": {
   "codemirror_mode": {
    "name": "ipython",
    "version": 3
   },
   "file_extension": ".py",
   "mimetype": "text/x-python",
   "name": "python",
   "nbconvert_exporter": "python",
   "pygments_lexer": "ipython3",
   "version": "3.7.7"
  }
 },
 "nbformat": 4,
 "nbformat_minor": 2
}
