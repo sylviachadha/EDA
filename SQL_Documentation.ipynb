{
 "cells": [
  {
   "cell_type": "markdown",
   "id": "6fa2166e",
   "metadata": {},
   "source": [
    "# Documentation"
   ]
  },
  {
   "cell_type": "markdown",
   "id": "1c01cae9",
   "metadata": {},
   "source": [
    "1. Postgres"
   ]
  },
  {
   "cell_type": "markdown",
   "id": "89398870",
   "metadata": {},
   "source": [
    "https://www.postgresql.org/docs/current/sql.html"
   ]
  },
  {
   "cell_type": "code",
   "execution_count": null,
   "id": "c3b1528a",
   "metadata": {},
   "outputs": [],
   "source": []
  },
  {
   "cell_type": "code",
   "execution_count": null,
   "id": "123525fd",
   "metadata": {},
   "outputs": [],
   "source": []
  }
 ],
 "metadata": {
  "kernelspec": {
   "display_name": "Python 3 (ipykernel)",
   "language": "python",
   "name": "python3"
  },
  "language_info": {
   "codemirror_mode": {
    "name": "ipython",
    "version": 3
   },
   "file_extension": ".py",
   "mimetype": "text/x-python",
   "name": "python",
   "nbconvert_exporter": "python",
   "pygments_lexer": "ipython3",
   "version": "3.8.15"
  }
 },
 "nbformat": 4,
 "nbformat_minor": 5
}
