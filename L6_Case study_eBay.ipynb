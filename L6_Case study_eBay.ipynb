{
 "cells": [
  {
   "cell_type": "markdown",
   "metadata": {},
   "source": [
    "# Project: Data Analysis for eBay Car Sales in Germany\n",
    "\n",
    "# Normal way of conducting eda analysis (Sample analysis)\n",
    "\n",
    "# Reference for Hackethon, ML\n",
    "\n",
    "\n",
    "\n",
    "## Table of Contents\n",
    "<ul>\n",
    "<li><a href=\"#intro\">Introduction</a></li>\n",
    "<li><a href=\"#wrangling\">Data Wrangling</a></li>\n",
    "<li><a href=\"#eda\">Exploratory Data Analysis</a></li>\n",
    "</ul>"
   ]
  },
  {
   "cell_type": "markdown",
   "metadata": {},
   "source": [
    "## With respect to ML predictive modelling, EDA is majorly done for feature selection so we can check correlations among variables & do not feed redundant or duplicate features to model however w.r.t only EDA MODULE we are focussed at answering some specific questions as below using descriptive statistics,visualizations & we explore data w.r.t those questions.\n",
    "\n",
    "**The project amis to answer the following questions:**\n",
    "> - **Question 1:** What is the most common brands of cars in Germany and their listed average prices?\n",
    "> - **Question 2:** Among common brands, are there large differences on kilometer that can affect listing price?\n",
    "> - **Question 3:** What are the factors that can affect car prices?"
   ]
  },
  {
   "cell_type": "markdown",
   "metadata": {},
   "source": [
    "## Steps in ML Modelling\n",
    "\n",
    "### 1. Read Dataset and Basic info for dataset \n",
    "### 2. Data Cleaning based on info() like nullcount, datatypes & descriptive statistics using describe()\n",
    "### 3. Once you have clean data you do EDA - Visualizations, Correlations etc\n",
    "### 4. Then you do Feature Selection\n",
    "### 5. Then Modelling by preparing data into train-test split."
   ]
  },
  {
   "cell_type": "markdown",
   "metadata": {},
   "source": [
    "<a id='intro'></a>\n",
    "## Introduction\n",
    "\n",
    "> This project will analyze the vehicle market in Germany. The dataset used in the project was scraped and uploaded to Kaggle https://www.kaggle.com/orgesleka/used-cars-database/data, saved as 'auto_kaggle.csv'.\n",
    "\n",
    "**The data columns description as following:**\n",
    "- `dateCrawled` - When this ad was first crawled. All field-values are taken from this date.\n",
    "- `name` - Name of the car.\n",
    "- `seller` - Whether the seller is private or a dealer.\n",
    "- `offerType` - The type of listing\n",
    "- `price` - The price on the ad to sell the car.\n",
    "- `abtest` - Whether the listing is included in an A/B test.\n",
    "- `vehicleType` - The vehicle Type.\n",
    "- `yearOfRegistration` - The year in which which year the car was first registered.\n",
    "- `gearbox` - The transmission type.\n",
    "- `powerPS` - The power of the car in PS.\n",
    "- `model` - The car model name.\n",
    "- `kilometer` - How many kilometers the car has driven.\n",
    "- `monthOfRegistration` - The month of year the car was first registered.\n",
    "- `fuelType` - What type of fuel the car uses.\n",
    "- `brand` - The brand of the car.\n",
    "- `notRepairedDamage` - If the car has a damage which is not yet repaired.\n",
    "- `dateCreated` - The date on which the eBay listing was created.\n",
    "- `nrOfPictures` - The number of pictures in the ad.\n",
    "- `postalCode` - The postal code for the location of the vehicle.\n",
    "- `lastSeenOnline` - When the crawler saw this ad last online.\n"
   ]
  },
  {
   "cell_type": "markdown",
   "metadata": {},
   "source": [
    "<a id='wrangling'></a>\n",
    "## Data Wrangling\n",
    "\n",
    "## Step1_1. Initial Data Exploring and drop irrelevant columns and duplicated rows"
   ]
  },
  {
   "cell_type": "code",
   "execution_count": 1,
   "metadata": {},
   "outputs": [
    {
     "name": "stderr",
     "output_type": "stream",
     "text": [
      "\n",
      "Bad key text.latex.preview in file /Users/sylvia/opt/anaconda3/envs/TF1/lib/python3.7/site-packages/matplotlib/mpl-data/stylelib/_classic_test.mplstyle, line 123 ('text.latex.preview : False')\n",
      "You probably need to get an updated matplotlibrc file from\n",
      "https://github.com/matplotlib/matplotlib/blob/v3.5.1/matplotlibrc.template\n",
      "or from the matplotlib source distribution\n",
      "\n",
      "Bad key mathtext.fallback_to_cm in file /Users/sylvia/opt/anaconda3/envs/TF1/lib/python3.7/site-packages/matplotlib/mpl-data/stylelib/_classic_test.mplstyle, line 155 ('mathtext.fallback_to_cm : True  # When True, use symbols from the Computer Modern')\n",
      "You probably need to get an updated matplotlibrc file from\n",
      "https://github.com/matplotlib/matplotlib/blob/v3.5.1/matplotlibrc.template\n",
      "or from the matplotlib source distribution\n",
      "\n",
      "Bad key savefig.jpeg_quality in file /Users/sylvia/opt/anaconda3/envs/TF1/lib/python3.7/site-packages/matplotlib/mpl-data/stylelib/_classic_test.mplstyle, line 418 ('savefig.jpeg_quality: 95       # when a jpeg is saved, the default quality parameter.')\n",
      "You probably need to get an updated matplotlibrc file from\n",
      "https://github.com/matplotlib/matplotlib/blob/v3.5.1/matplotlibrc.template\n",
      "or from the matplotlib source distribution\n",
      "\n",
      "Bad key keymap.all_axes in file /Users/sylvia/opt/anaconda3/envs/TF1/lib/python3.7/site-packages/matplotlib/mpl-data/stylelib/_classic_test.mplstyle, line 466 ('keymap.all_axes : a                 # enable all axes')\n",
      "You probably need to get an updated matplotlibrc file from\n",
      "https://github.com/matplotlib/matplotlib/blob/v3.5.1/matplotlibrc.template\n",
      "or from the matplotlib source distribution\n",
      "\n",
      "Bad key animation.avconv_path in file /Users/sylvia/opt/anaconda3/envs/TF1/lib/python3.7/site-packages/matplotlib/mpl-data/stylelib/_classic_test.mplstyle, line 477 ('animation.avconv_path: avconv     # Path to avconv binary. Without full path')\n",
      "You probably need to get an updated matplotlibrc file from\n",
      "https://github.com/matplotlib/matplotlib/blob/v3.5.1/matplotlibrc.template\n",
      "or from the matplotlib source distribution\n",
      "\n",
      "Bad key animation.avconv_args in file /Users/sylvia/opt/anaconda3/envs/TF1/lib/python3.7/site-packages/matplotlib/mpl-data/stylelib/_classic_test.mplstyle, line 479 ('animation.avconv_args:            # Additional arguments to pass to avconv')\n",
      "You probably need to get an updated matplotlibrc file from\n",
      "https://github.com/matplotlib/matplotlib/blob/v3.5.1/matplotlibrc.template\n",
      "or from the matplotlib source distribution\n"
     ]
    },
    {
     "data": {
      "text/html": [
       "<div>\n",
       "<style scoped>\n",
       "    .dataframe tbody tr th:only-of-type {\n",
       "        vertical-align: middle;\n",
       "    }\n",
       "\n",
       "    .dataframe tbody tr th {\n",
       "        vertical-align: top;\n",
       "    }\n",
       "\n",
       "    .dataframe thead th {\n",
       "        text-align: right;\n",
       "    }\n",
       "</style>\n",
       "<table border=\"1\" class=\"dataframe\">\n",
       "  <thead>\n",
       "    <tr style=\"text-align: right;\">\n",
       "      <th></th>\n",
       "      <th>dateCrawled</th>\n",
       "      <th>name</th>\n",
       "      <th>seller</th>\n",
       "      <th>offerType</th>\n",
       "      <th>price</th>\n",
       "      <th>abtest</th>\n",
       "      <th>vehicleType</th>\n",
       "      <th>yearOfRegistration</th>\n",
       "      <th>gearbox</th>\n",
       "      <th>powerPS</th>\n",
       "      <th>model</th>\n",
       "      <th>kilometer</th>\n",
       "      <th>monthOfRegistration</th>\n",
       "      <th>fuelType</th>\n",
       "      <th>brand</th>\n",
       "      <th>notRepairedDamage</th>\n",
       "      <th>dateCreated</th>\n",
       "      <th>nrOfPictures</th>\n",
       "      <th>postalCode</th>\n",
       "      <th>lastSeen</th>\n",
       "    </tr>\n",
       "  </thead>\n",
       "  <tbody>\n",
       "    <tr>\n",
       "      <th>0</th>\n",
       "      <td>2016-03-24 11:52:17</td>\n",
       "      <td>Golf_3_1.6</td>\n",
       "      <td>privat</td>\n",
       "      <td>Angebot</td>\n",
       "      <td>480</td>\n",
       "      <td>test</td>\n",
       "      <td>NaN</td>\n",
       "      <td>1993</td>\n",
       "      <td>manuell</td>\n",
       "      <td>0</td>\n",
       "      <td>golf</td>\n",
       "      <td>150000</td>\n",
       "      <td>0</td>\n",
       "      <td>benzin</td>\n",
       "      <td>volkswagen</td>\n",
       "      <td>NaN</td>\n",
       "      <td>2016-03-24 00:00:00</td>\n",
       "      <td>0</td>\n",
       "      <td>70435</td>\n",
       "      <td>2016-04-07 03:16:57</td>\n",
       "    </tr>\n",
       "    <tr>\n",
       "      <th>1</th>\n",
       "      <td>2016-03-24 10:58:45</td>\n",
       "      <td>A5_Sportback_2.7_Tdi</td>\n",
       "      <td>privat</td>\n",
       "      <td>Angebot</td>\n",
       "      <td>18300</td>\n",
       "      <td>test</td>\n",
       "      <td>coupe</td>\n",
       "      <td>2011</td>\n",
       "      <td>manuell</td>\n",
       "      <td>190</td>\n",
       "      <td>NaN</td>\n",
       "      <td>125000</td>\n",
       "      <td>5</td>\n",
       "      <td>diesel</td>\n",
       "      <td>audi</td>\n",
       "      <td>ja</td>\n",
       "      <td>2016-03-24 00:00:00</td>\n",
       "      <td>0</td>\n",
       "      <td>66954</td>\n",
       "      <td>2016-04-07 01:46:50</td>\n",
       "    </tr>\n",
       "    <tr>\n",
       "      <th>2</th>\n",
       "      <td>2016-03-14 12:52:21</td>\n",
       "      <td>Jeep_Grand_Cherokee_\"Overland\"</td>\n",
       "      <td>privat</td>\n",
       "      <td>Angebot</td>\n",
       "      <td>9800</td>\n",
       "      <td>test</td>\n",
       "      <td>suv</td>\n",
       "      <td>2004</td>\n",
       "      <td>automatik</td>\n",
       "      <td>163</td>\n",
       "      <td>grand</td>\n",
       "      <td>125000</td>\n",
       "      <td>8</td>\n",
       "      <td>diesel</td>\n",
       "      <td>jeep</td>\n",
       "      <td>NaN</td>\n",
       "      <td>2016-03-14 00:00:00</td>\n",
       "      <td>0</td>\n",
       "      <td>90480</td>\n",
       "      <td>2016-04-05 12:47:46</td>\n",
       "    </tr>\n",
       "    <tr>\n",
       "      <th>3</th>\n",
       "      <td>2016-03-17 16:54:04</td>\n",
       "      <td>GOLF_4_1_4__3TÜRER</td>\n",
       "      <td>privat</td>\n",
       "      <td>Angebot</td>\n",
       "      <td>1500</td>\n",
       "      <td>test</td>\n",
       "      <td>kleinwagen</td>\n",
       "      <td>2001</td>\n",
       "      <td>manuell</td>\n",
       "      <td>75</td>\n",
       "      <td>golf</td>\n",
       "      <td>150000</td>\n",
       "      <td>6</td>\n",
       "      <td>benzin</td>\n",
       "      <td>volkswagen</td>\n",
       "      <td>nein</td>\n",
       "      <td>2016-03-17 00:00:00</td>\n",
       "      <td>0</td>\n",
       "      <td>91074</td>\n",
       "      <td>2016-03-17 17:40:17</td>\n",
       "    </tr>\n",
       "    <tr>\n",
       "      <th>4</th>\n",
       "      <td>2016-03-31 17:25:20</td>\n",
       "      <td>Skoda_Fabia_1.4_TDI_PD_Classic</td>\n",
       "      <td>privat</td>\n",
       "      <td>Angebot</td>\n",
       "      <td>3600</td>\n",
       "      <td>test</td>\n",
       "      <td>kleinwagen</td>\n",
       "      <td>2008</td>\n",
       "      <td>manuell</td>\n",
       "      <td>69</td>\n",
       "      <td>fabia</td>\n",
       "      <td>90000</td>\n",
       "      <td>7</td>\n",
       "      <td>diesel</td>\n",
       "      <td>skoda</td>\n",
       "      <td>nein</td>\n",
       "      <td>2016-03-31 00:00:00</td>\n",
       "      <td>0</td>\n",
       "      <td>60437</td>\n",
       "      <td>2016-04-06 10:17:21</td>\n",
       "    </tr>\n",
       "  </tbody>\n",
       "</table>\n",
       "</div>"
      ],
      "text/plain": [
       "           dateCrawled                            name  seller offerType  \\\n",
       "0  2016-03-24 11:52:17                      Golf_3_1.6  privat   Angebot   \n",
       "1  2016-03-24 10:58:45            A5_Sportback_2.7_Tdi  privat   Angebot   \n",
       "2  2016-03-14 12:52:21  Jeep_Grand_Cherokee_\"Overland\"  privat   Angebot   \n",
       "3  2016-03-17 16:54:04              GOLF_4_1_4__3TÜRER  privat   Angebot   \n",
       "4  2016-03-31 17:25:20  Skoda_Fabia_1.4_TDI_PD_Classic  privat   Angebot   \n",
       "\n",
       "   price abtest vehicleType  yearOfRegistration    gearbox  powerPS  model  \\\n",
       "0    480   test         NaN                1993    manuell        0   golf   \n",
       "1  18300   test       coupe                2011    manuell      190    NaN   \n",
       "2   9800   test         suv                2004  automatik      163  grand   \n",
       "3   1500   test  kleinwagen                2001    manuell       75   golf   \n",
       "4   3600   test  kleinwagen                2008    manuell       69  fabia   \n",
       "\n",
       "   kilometer  monthOfRegistration fuelType       brand notRepairedDamage  \\\n",
       "0     150000                    0   benzin  volkswagen               NaN   \n",
       "1     125000                    5   diesel        audi                ja   \n",
       "2     125000                    8   diesel        jeep               NaN   \n",
       "3     150000                    6   benzin  volkswagen              nein   \n",
       "4      90000                    7   diesel       skoda              nein   \n",
       "\n",
       "           dateCreated  nrOfPictures  postalCode             lastSeen  \n",
       "0  2016-03-24 00:00:00             0       70435  2016-04-07 03:16:57  \n",
       "1  2016-03-24 00:00:00             0       66954  2016-04-07 01:46:50  \n",
       "2  2016-03-14 00:00:00             0       90480  2016-04-05 12:47:46  \n",
       "3  2016-03-17 00:00:00             0       91074  2016-03-17 17:40:17  \n",
       "4  2016-03-31 00:00:00             0       60437  2016-04-06 10:17:21  "
      ]
     },
     "execution_count": 1,
     "metadata": {},
     "output_type": "execute_result"
    }
   ],
   "source": [
    "# Import the libraries we will use\n",
    "import matplotlib.pyplot as plt\n",
    "import seaborn as sns\n",
    "import pandas as pd\n",
    "import numpy as np\n",
    "\n",
    "# Loading data and check information and first 3 rows\n",
    "autos=pd.read_csv('autos_kaggle.csv', encoding='Latin-1')\n",
    "autos.head()"
   ]
  },
  {
   "cell_type": "code",
   "execution_count": 2,
   "metadata": {},
   "outputs": [],
   "source": [
    "pd.set_option('display.max_rows', 500)\n",
    "pd.set_option('display.max_columns', 500)"
   ]
  },
  {
   "cell_type": "code",
   "execution_count": 3,
   "metadata": {},
   "outputs": [],
   "source": [
    "import warnings\n",
    "warnings.filterwarnings('ignore')\n"
   ]
  },
  {
   "cell_type": "code",
   "execution_count": 4,
   "metadata": {},
   "outputs": [
    {
     "data": {
      "text/plain": [
       "(371528, 20)"
      ]
     },
     "execution_count": 4,
     "metadata": {},
     "output_type": "execute_result"
    }
   ],
   "source": [
    "autos.shape"
   ]
  },
  {
   "cell_type": "code",
   "execution_count": 5,
   "metadata": {},
   "outputs": [
    {
     "name": "stdout",
     "output_type": "stream",
     "text": [
      "<class 'pandas.core.frame.DataFrame'>\n",
      "RangeIndex: 371528 entries, 0 to 371527\n",
      "Data columns (total 20 columns):\n",
      " #   Column               Non-Null Count   Dtype \n",
      "---  ------               --------------   ----- \n",
      " 0   dateCrawled          371528 non-null  object\n",
      " 1   name                 371528 non-null  object\n",
      " 2   seller               371528 non-null  object\n",
      " 3   offerType            371528 non-null  object\n",
      " 4   price                371528 non-null  int64 \n",
      " 5   abtest               371528 non-null  object\n",
      " 6   vehicleType          333659 non-null  object\n",
      " 7   yearOfRegistration   371528 non-null  int64 \n",
      " 8   gearbox              351319 non-null  object\n",
      " 9   powerPS              371528 non-null  int64 \n",
      " 10  model                351044 non-null  object\n",
      " 11  kilometer            371528 non-null  int64 \n",
      " 12  monthOfRegistration  371528 non-null  int64 \n",
      " 13  fuelType             338142 non-null  object\n",
      " 14  brand                371528 non-null  object\n",
      " 15  notRepairedDamage    299468 non-null  object\n",
      " 16  dateCreated          371528 non-null  object\n",
      " 17  nrOfPictures         371528 non-null  int64 \n",
      " 18  postalCode           371528 non-null  int64 \n",
      " 19  lastSeen             371528 non-null  object\n",
      "dtypes: int64(7), object(13)\n",
      "memory usage: 56.7+ MB\n"
     ]
    }
   ],
   "source": [
    "autos.info()"
   ]
  },
  {
   "cell_type": "markdown",
   "metadata": {},
   "source": [
    "**Analysis**\n",
    "\n",
    "Based on intial info about dataset which has 20 columns there are few columns which have missing data. These are-\n",
    "- vehicleType, gearbox, model, fuelType, notRepairedDamage have null values.\n",
    "- notRepairedDamage,offertype is in german.\n",
    "- yearOfRegistration, 'monthOfRegistration' & 'postalCode' should be categorical.\n"
   ]
  },
  {
   "cell_type": "code",
   "execution_count": 6,
   "metadata": {},
   "outputs": [
    {
     "data": {
      "text/plain": [
       "dateCrawled                0\n",
       "name                       0\n",
       "seller                     0\n",
       "offerType                  0\n",
       "price                      0\n",
       "abtest                     0\n",
       "vehicleType            37869\n",
       "yearOfRegistration         0\n",
       "gearbox                20209\n",
       "powerPS                    0\n",
       "model                  20484\n",
       "kilometer                  0\n",
       "monthOfRegistration        0\n",
       "fuelType               33386\n",
       "brand                      0\n",
       "notRepairedDamage      72060\n",
       "dateCreated                0\n",
       "nrOfPictures               0\n",
       "postalCode                 0\n",
       "lastSeen                   0\n",
       "dtype: int64"
      ]
     },
     "execution_count": 6,
     "metadata": {},
     "output_type": "execute_result"
    }
   ],
   "source": [
    "autos.isnull().sum()"
   ]
  },
  {
   "cell_type": "code",
   "execution_count": 7,
   "metadata": {},
   "outputs": [
    {
     "data": {
      "text/plain": [
       "limousine     95894\n",
       "kleinwagen    80023\n",
       "kombi         67564\n",
       "bus           30201\n",
       "cabrio        22898\n",
       "coupe         19015\n",
       "suv           14707\n",
       "andere         3357\n",
       "Name: vehicleType, dtype: int64"
      ]
     },
     "execution_count": 7,
     "metadata": {},
     "output_type": "execute_result"
    }
   ],
   "source": [
    "v = autos['vehicleType'].value_counts()\n",
    "v"
   ]
  },
  {
   "cell_type": "code",
   "execution_count": 8,
   "metadata": {},
   "outputs": [
    {
     "data": {
      "text/plain": [
       "manuell      274214\n",
       "automatik     77105\n",
       "Name: gearbox, dtype: int64"
      ]
     },
     "execution_count": 8,
     "metadata": {},
     "output_type": "execute_result"
    }
   ],
   "source": [
    "autos['gearbox'].value_counts()"
   ]
  },
  {
   "cell_type": "code",
   "execution_count": 9,
   "metadata": {},
   "outputs": [
    {
     "name": "stdout",
     "output_type": "stream",
     "text": [
      "golf                  30070\n",
      "andere                26400\n",
      "3er                   20567\n",
      "polo                  13092\n",
      "corsa                 12573\n",
      "astra                 10830\n",
      "passat                10306\n",
      "a4                    10257\n",
      "c_klasse               8775\n",
      "5er                    8546\n",
      "e_klasse               7561\n",
      "a3                     6604\n",
      "a6                     6023\n",
      "focus                  5950\n",
      "fiesta                 5775\n",
      "transporter            5528\n",
      "twingo                 4953\n",
      "2_reihe                4816\n",
      "fortwo                 4338\n",
      "a_klasse               4316\n",
      "vectra                 4255\n",
      "1er                    3837\n",
      "mondeo                 3626\n",
      "clio                   3553\n",
      "touran                 3540\n",
      "3_reihe                3503\n",
      "punto                  3349\n",
      "zafira                 3049\n",
      "megane                 2927\n",
      "ibiza                  2702\n",
      "ka                     2702\n",
      "lupo                   2594\n",
      "x_reihe                2307\n",
      "octavia                2195\n",
      "cooper                 2124\n",
      "fabia                  2080\n",
      "clk                    1854\n",
      "micra                  1758\n",
      "caddy                  1648\n",
      "80                     1606\n",
      "sharan                 1556\n",
      "scenic                 1447\n",
      "omega                  1417\n",
      "slk                    1386\n",
      "leon                   1374\n",
      "laguna                 1364\n",
      "civic                  1350\n",
      "tt                     1325\n",
      "1_reihe                1306\n",
      "6_reihe                1291\n",
      "i_reihe                1253\n",
      "galaxy                 1168\n",
      "m_klasse               1147\n",
      "7er                    1143\n",
      "meriva                 1052\n",
      "yaris                  1034\n",
      "s_klasse               1032\n",
      "mx_reihe               1020\n",
      "a5                     1018\n",
      "kangoo                  958\n",
      "911                     954\n",
      "b_klasse                937\n",
      "500                     927\n",
      "tiguan                  916\n",
      "vito                    914\n",
      "escort                  910\n",
      "one                     902\n",
      "arosa                   899\n",
      "z_reihe                 890\n",
      "bora                    872\n",
      "colt                    869\n",
      "beetle                  859\n",
      "berlingo                825\n",
      "sprinter                793\n",
      "tigra                   789\n",
      "v40                     782\n",
      "transit                 764\n",
      "touareg                 745\n",
      "fox                     744\n",
      "swift                   706\n",
      "insignia                699\n",
      "c_max                   694\n",
      "corolla                 685\n",
      "panda                   676\n",
      "seicento                670\n",
      "sl                      669\n",
      "v70                     645\n",
      "4_reihe                 640\n",
      "scirocco                638\n",
      "156                     629\n",
      "a1                      622\n",
      "primera                 621\n",
      "espace                  620\n",
      "grand                   609\n",
      "stilo                   603\n",
      "almera                  584\n",
      "a8                      582\n",
      "147                     572\n",
      "avensis                 567\n",
      "qashqai                 549\n",
      "eos                     536\n",
      "c3                      506\n",
      "c5                      493\n",
      "signum                  493\n",
      "kaefer                  471\n",
      "s_max                   457\n",
      "5_reihe                 451\n",
      "q5                      449\n",
      "c4                      447\n",
      "matiz                   444\n",
      "ducato                  437\n",
      "aygo                    430\n",
      "agila                   430\n",
      "viano                   423\n",
      "getz                    422\n",
      "601                     419\n",
      "100                     417\n",
      "combo                   417\n",
      "carisma                 414\n",
      "cayenne                 409\n",
      "boxster                 404\n",
      "alhambra                401\n",
      "cordoba                 399\n",
      "c2                      396\n",
      "superb                  395\n",
      "c1                      391\n",
      "kuga                    388\n",
      "forfour                 386\n",
      "rio                     379\n",
      "jetta                   377\n",
      "cuore                   374\n",
      "altea                   373\n",
      "a2                      373\n",
      "kadett                  367\n",
      "rav                     365\n",
      "picanto                 362\n",
      "sorento                 360\n",
      "m_reihe                 358\n",
      "accord                  352\n",
      "cr_reihe                351\n",
      "up                      348\n",
      "vivaro                  343\n",
      "q7                      343\n",
      "toledo                  343\n",
      "voyager                 343\n",
      "xc_reihe                338\n",
      "bravo                   331\n",
      "santa                   326\n",
      "doblo                   325\n",
      "logan                   322\n",
      "modus                   321\n",
      "verso                   312\n",
      "ptcruiser               309\n",
      "cl                      308\n",
      "sportage                307\n",
      "jazz                    302\n",
      "fusion                  301\n",
      "sandero                 295\n",
      "mustang                 284\n",
      "roomster                276\n",
      "carnival                273\n",
      "ceed                    258\n",
      "6er                     258\n",
      "galant                  257\n",
      "v50                     255\n",
      "q3                      240\n",
      "tucson                  239\n",
      "lancer                  238\n",
      "auris                   237\n",
      "impreza                 234\n",
      "phaeton                 227\n",
      "freelander              226\n",
      "glk                     226\n",
      "calibra                 217\n",
      "pajero                  217\n",
      "x_trail                 216\n",
      "jimny                   212\n",
      "850                     212\n",
      "159                     212\n",
      "spider                  209\n",
      "ypsilon                 209\n",
      "duster                  204\n",
      "clubman                 204\n",
      "yeti                    199\n",
      "c_reihe                 198\n",
      "cc                      194\n",
      "roadster                181\n",
      "cherokee                180\n",
      "x_type                  177\n",
      "g_klasse                176\n",
      "captiva                 173\n",
      "v_klasse                168\n",
      "wrangler                165\n",
      "legacy                  160\n",
      "s60                     152\n",
      "300c                    148\n",
      "rx_reihe                144\n",
      "defender                141\n",
      "justy                   139\n",
      "sirion                  139\n",
      "forester                133\n",
      "outlander               131\n",
      "note                    130\n",
      "niva                    129\n",
      "s_type                  128\n",
      "spark                   125\n",
      "navara                  123\n",
      "r19                     123\n",
      "cx_reihe                120\n",
      "aveo                    117\n",
      "900                     117\n",
      "antara                  111\n",
      "90                      104\n",
      "discovery               103\n",
      "juke                    103\n",
      "exeo                    100\n",
      "range_rover_sport        99\n",
      "kalos                    95\n",
      "range_rover              94\n",
      "citigo                   91\n",
      "lanos                    89\n",
      "mii                      81\n",
      "crossfire                66\n",
      "range_rover_evoque       65\n",
      "gl                       64\n",
      "nubira                   62\n",
      "move                     60\n",
      "lybra                    54\n",
      "145                      50\n",
      "v60                      48\n",
      "croma                    45\n",
      "amarok                   42\n",
      "delta                    40\n",
      "lodgy                    35\n",
      "terios                   35\n",
      "9000                     31\n",
      "charade                  27\n",
      "b_max                    26\n",
      "musa                     25\n",
      "materia                  18\n",
      "200                      18\n",
      "kappa                    15\n",
      "samara                   13\n",
      "elefantino               11\n",
      "i3                       10\n",
      "kalina                    9\n",
      "serie_2                   8\n",
      "rangerover                6\n",
      "serie_3                   4\n",
      "serie_1                   2\n",
      "discovery_sport           1\n",
      "Name: model, dtype: int64\n",
      "Total models 251\n"
     ]
    }
   ],
   "source": [
    "m = autos['model'].value_counts()\n",
    "print(m)\n",
    "print('Total models',len(m))"
   ]
  },
  {
   "cell_type": "code",
   "execution_count": 10,
   "metadata": {},
   "outputs": [
    {
     "data": {
      "text/plain": [
       "benzin     223857\n",
       "diesel     107746\n",
       "lpg          5378\n",
       "cng           571\n",
       "hybrid        278\n",
       "andere        208\n",
       "elektro       104\n",
       "Name: fuelType, dtype: int64"
      ]
     },
     "execution_count": 10,
     "metadata": {},
     "output_type": "execute_result"
    }
   ],
   "source": [
    "autos['fuelType'].value_counts()"
   ]
  },
  {
   "cell_type": "code",
   "execution_count": 11,
   "metadata": {},
   "outputs": [
    {
     "data": {
      "text/plain": [
       "nein    263182\n",
       "ja       36286\n",
       "Name: notRepairedDamage, dtype: int64"
      ]
     },
     "execution_count": 11,
     "metadata": {},
     "output_type": "execute_result"
    }
   ],
   "source": [
    "autos['notRepairedDamage'].value_counts()\n"
   ]
  },
  {
   "cell_type": "code",
   "execution_count": 12,
   "metadata": {},
   "outputs": [
    {
     "data": {
      "text/plain": [
       "test       192585\n",
       "control    178943\n",
       "Name: abtest, dtype: int64"
      ]
     },
     "execution_count": 12,
     "metadata": {},
     "output_type": "execute_result"
    }
   ],
   "source": [
    "autos['abtest'].value_counts()"
   ]
  },
  {
   "cell_type": "markdown",
   "metadata": {},
   "source": [
    "**Descriptive Statistics for Numerical Columns**"
   ]
  },
  {
   "cell_type": "code",
   "execution_count": 13,
   "metadata": {},
   "outputs": [
    {
     "data": {
      "text/html": [
       "<div>\n",
       "<style scoped>\n",
       "    .dataframe tbody tr th:only-of-type {\n",
       "        vertical-align: middle;\n",
       "    }\n",
       "\n",
       "    .dataframe tbody tr th {\n",
       "        vertical-align: top;\n",
       "    }\n",
       "\n",
       "    .dataframe thead th {\n",
       "        text-align: right;\n",
       "    }\n",
       "</style>\n",
       "<table border=\"1\" class=\"dataframe\">\n",
       "  <thead>\n",
       "    <tr style=\"text-align: right;\">\n",
       "      <th></th>\n",
       "      <th>price</th>\n",
       "      <th>yearOfRegistration</th>\n",
       "      <th>powerPS</th>\n",
       "      <th>kilometer</th>\n",
       "      <th>monthOfRegistration</th>\n",
       "      <th>nrOfPictures</th>\n",
       "      <th>postalCode</th>\n",
       "    </tr>\n",
       "  </thead>\n",
       "  <tbody>\n",
       "    <tr>\n",
       "      <th>count</th>\n",
       "      <td>3.715280e+05</td>\n",
       "      <td>371528.000000</td>\n",
       "      <td>371528.000000</td>\n",
       "      <td>371528.000000</td>\n",
       "      <td>371528.000000</td>\n",
       "      <td>371528.0</td>\n",
       "      <td>371528.00000</td>\n",
       "    </tr>\n",
       "    <tr>\n",
       "      <th>mean</th>\n",
       "      <td>1.729514e+04</td>\n",
       "      <td>2004.577997</td>\n",
       "      <td>115.549477</td>\n",
       "      <td>125618.688228</td>\n",
       "      <td>5.734445</td>\n",
       "      <td>0.0</td>\n",
       "      <td>50820.66764</td>\n",
       "    </tr>\n",
       "    <tr>\n",
       "      <th>std</th>\n",
       "      <td>3.587954e+06</td>\n",
       "      <td>92.866598</td>\n",
       "      <td>192.139578</td>\n",
       "      <td>40112.337051</td>\n",
       "      <td>3.712412</td>\n",
       "      <td>0.0</td>\n",
       "      <td>25799.08247</td>\n",
       "    </tr>\n",
       "    <tr>\n",
       "      <th>min</th>\n",
       "      <td>0.000000e+00</td>\n",
       "      <td>1000.000000</td>\n",
       "      <td>0.000000</td>\n",
       "      <td>5000.000000</td>\n",
       "      <td>0.000000</td>\n",
       "      <td>0.0</td>\n",
       "      <td>1067.00000</td>\n",
       "    </tr>\n",
       "    <tr>\n",
       "      <th>25%</th>\n",
       "      <td>1.150000e+03</td>\n",
       "      <td>1999.000000</td>\n",
       "      <td>70.000000</td>\n",
       "      <td>125000.000000</td>\n",
       "      <td>3.000000</td>\n",
       "      <td>0.0</td>\n",
       "      <td>30459.00000</td>\n",
       "    </tr>\n",
       "    <tr>\n",
       "      <th>50%</th>\n",
       "      <td>2.950000e+03</td>\n",
       "      <td>2003.000000</td>\n",
       "      <td>105.000000</td>\n",
       "      <td>150000.000000</td>\n",
       "      <td>6.000000</td>\n",
       "      <td>0.0</td>\n",
       "      <td>49610.00000</td>\n",
       "    </tr>\n",
       "    <tr>\n",
       "      <th>75%</th>\n",
       "      <td>7.200000e+03</td>\n",
       "      <td>2008.000000</td>\n",
       "      <td>150.000000</td>\n",
       "      <td>150000.000000</td>\n",
       "      <td>9.000000</td>\n",
       "      <td>0.0</td>\n",
       "      <td>71546.00000</td>\n",
       "    </tr>\n",
       "    <tr>\n",
       "      <th>max</th>\n",
       "      <td>2.147484e+09</td>\n",
       "      <td>9999.000000</td>\n",
       "      <td>20000.000000</td>\n",
       "      <td>150000.000000</td>\n",
       "      <td>12.000000</td>\n",
       "      <td>0.0</td>\n",
       "      <td>99998.00000</td>\n",
       "    </tr>\n",
       "  </tbody>\n",
       "</table>\n",
       "</div>"
      ],
      "text/plain": [
       "              price  yearOfRegistration        powerPS      kilometer  \\\n",
       "count  3.715280e+05       371528.000000  371528.000000  371528.000000   \n",
       "mean   1.729514e+04         2004.577997     115.549477  125618.688228   \n",
       "std    3.587954e+06           92.866598     192.139578   40112.337051   \n",
       "min    0.000000e+00         1000.000000       0.000000    5000.000000   \n",
       "25%    1.150000e+03         1999.000000      70.000000  125000.000000   \n",
       "50%    2.950000e+03         2003.000000     105.000000  150000.000000   \n",
       "75%    7.200000e+03         2008.000000     150.000000  150000.000000   \n",
       "max    2.147484e+09         9999.000000   20000.000000  150000.000000   \n",
       "\n",
       "       monthOfRegistration  nrOfPictures    postalCode  \n",
       "count        371528.000000      371528.0  371528.00000  \n",
       "mean              5.734445           0.0   50820.66764  \n",
       "std               3.712412           0.0   25799.08247  \n",
       "min               0.000000           0.0    1067.00000  \n",
       "25%               3.000000           0.0   30459.00000  \n",
       "50%               6.000000           0.0   49610.00000  \n",
       "75%               9.000000           0.0   71546.00000  \n",
       "max              12.000000           0.0   99998.00000  "
      ]
     },
     "execution_count": 13,
     "metadata": {},
     "output_type": "execute_result"
    }
   ],
   "source": [
    "autos.describe()"
   ]
  },
  {
   "cell_type": "markdown",
   "metadata": {},
   "source": [
    "**Descriptive Statistics for Categorical Columns**"
   ]
  },
  {
   "cell_type": "code",
   "execution_count": 14,
   "metadata": {},
   "outputs": [
    {
     "data": {
      "text/html": [
       "<div>\n",
       "<style scoped>\n",
       "    .dataframe tbody tr th:only-of-type {\n",
       "        vertical-align: middle;\n",
       "    }\n",
       "\n",
       "    .dataframe tbody tr th {\n",
       "        vertical-align: top;\n",
       "    }\n",
       "\n",
       "    .dataframe thead th {\n",
       "        text-align: right;\n",
       "    }\n",
       "</style>\n",
       "<table border=\"1\" class=\"dataframe\">\n",
       "  <thead>\n",
       "    <tr style=\"text-align: right;\">\n",
       "      <th></th>\n",
       "      <th>dateCrawled</th>\n",
       "      <th>name</th>\n",
       "      <th>seller</th>\n",
       "      <th>offerType</th>\n",
       "      <th>abtest</th>\n",
       "      <th>vehicleType</th>\n",
       "      <th>gearbox</th>\n",
       "      <th>model</th>\n",
       "      <th>fuelType</th>\n",
       "      <th>brand</th>\n",
       "      <th>notRepairedDamage</th>\n",
       "      <th>dateCreated</th>\n",
       "      <th>lastSeen</th>\n",
       "    </tr>\n",
       "  </thead>\n",
       "  <tbody>\n",
       "    <tr>\n",
       "      <th>count</th>\n",
       "      <td>371528</td>\n",
       "      <td>371528</td>\n",
       "      <td>371528</td>\n",
       "      <td>371528</td>\n",
       "      <td>371528</td>\n",
       "      <td>333659</td>\n",
       "      <td>351319</td>\n",
       "      <td>351044</td>\n",
       "      <td>338142</td>\n",
       "      <td>371528</td>\n",
       "      <td>299468</td>\n",
       "      <td>371528</td>\n",
       "      <td>371528</td>\n",
       "    </tr>\n",
       "    <tr>\n",
       "      <th>unique</th>\n",
       "      <td>280500</td>\n",
       "      <td>233531</td>\n",
       "      <td>2</td>\n",
       "      <td>2</td>\n",
       "      <td>2</td>\n",
       "      <td>8</td>\n",
       "      <td>2</td>\n",
       "      <td>251</td>\n",
       "      <td>7</td>\n",
       "      <td>40</td>\n",
       "      <td>2</td>\n",
       "      <td>114</td>\n",
       "      <td>182806</td>\n",
       "    </tr>\n",
       "    <tr>\n",
       "      <th>top</th>\n",
       "      <td>2016-03-24 14:49:47</td>\n",
       "      <td>Ford_Fiesta</td>\n",
       "      <td>privat</td>\n",
       "      <td>Angebot</td>\n",
       "      <td>test</td>\n",
       "      <td>limousine</td>\n",
       "      <td>manuell</td>\n",
       "      <td>golf</td>\n",
       "      <td>benzin</td>\n",
       "      <td>volkswagen</td>\n",
       "      <td>nein</td>\n",
       "      <td>2016-04-03 00:00:00</td>\n",
       "      <td>2016-04-07 06:45:59</td>\n",
       "    </tr>\n",
       "    <tr>\n",
       "      <th>freq</th>\n",
       "      <td>7</td>\n",
       "      <td>657</td>\n",
       "      <td>371525</td>\n",
       "      <td>371516</td>\n",
       "      <td>192585</td>\n",
       "      <td>95894</td>\n",
       "      <td>274214</td>\n",
       "      <td>30070</td>\n",
       "      <td>223857</td>\n",
       "      <td>79640</td>\n",
       "      <td>263182</td>\n",
       "      <td>14450</td>\n",
       "      <td>17</td>\n",
       "    </tr>\n",
       "  </tbody>\n",
       "</table>\n",
       "</div>"
      ],
      "text/plain": [
       "                dateCrawled         name  seller offerType  abtest  \\\n",
       "count                371528       371528  371528    371528  371528   \n",
       "unique               280500       233531       2         2       2   \n",
       "top     2016-03-24 14:49:47  Ford_Fiesta  privat   Angebot    test   \n",
       "freq                      7          657  371525    371516  192585   \n",
       "\n",
       "       vehicleType  gearbox   model fuelType       brand notRepairedDamage  \\\n",
       "count       333659   351319  351044   338142      371528            299468   \n",
       "unique           8        2     251        7          40                 2   \n",
       "top      limousine  manuell    golf   benzin  volkswagen              nein   \n",
       "freq         95894   274214   30070   223857       79640            263182   \n",
       "\n",
       "                dateCreated             lastSeen  \n",
       "count                371528               371528  \n",
       "unique                  114               182806  \n",
       "top     2016-04-03 00:00:00  2016-04-07 06:45:59  \n",
       "freq                  14450                   17  "
      ]
     },
     "execution_count": 14,
     "metadata": {},
     "output_type": "execute_result"
    }
   ],
   "source": [
    "autos.describe(include='object')"
   ]
  },
  {
   "cell_type": "markdown",
   "metadata": {},
   "source": [
    "**Analysis**:\n",
    "\n",
    "**Numerical Columns**\n",
    "- For nrOfPictures, no descriptive statistics shown cz the only value present in this column is 0 for all records.\n",
    "- For price min is shown as 0.000000e+00.\n",
    "- For powerPS 75% quartile is 150.000000 however max is 2000, very high value might skew distribution.\n",
    "- For km 50%, 75% quartile and max values are same which is 150000.000000.\n",
    "\n",
    "\n",
    "**Categorical columns**\n",
    "- For seller column freq of privat is almost 100% in comparison to other possible class gewerblich.\n",
    "- Similarly for offerType, freq for Angebot is almost 100% in comparison to other possible class Gesuch.\n",
    "- For abtest almost equal division b/w 2 groups - test and control group.\n",
    "- Most of cars are manuell in comparison to automatik."
   ]
  },
  {
   "cell_type": "code",
   "execution_count": 15,
   "metadata": {},
   "outputs": [
    {
     "data": {
      "text/plain": [
       "privat        371525\n",
       "gewerblich         3\n",
       "Name: seller, dtype: int64"
      ]
     },
     "execution_count": 15,
     "metadata": {},
     "output_type": "execute_result"
    }
   ],
   "source": [
    "autos[\"seller\"].value_counts()"
   ]
  },
  {
   "cell_type": "code",
   "execution_count": 16,
   "metadata": {},
   "outputs": [
    {
     "name": "stdout",
     "output_type": "stream",
     "text": [
      "Angebot    371516\n",
      "Gesuch         12\n",
      "Name: offerType, dtype: int64\n"
     ]
    },
    {
     "data": {
      "text/plain": [
       "pandas.core.series.Series"
      ]
     },
     "execution_count": 16,
     "metadata": {},
     "output_type": "execute_result"
    }
   ],
   "source": [
    "c = autos[\"offerType\"].value_counts()\n",
    "print(c)\n",
    "type(c)"
   ]
  },
  {
   "cell_type": "code",
   "execution_count": 17,
   "metadata": {},
   "outputs": [
    {
     "data": {
      "text/plain": [
       "0    371528\n",
       "Name: nrOfPictures, dtype: int64"
      ]
     },
     "execution_count": 17,
     "metadata": {},
     "output_type": "execute_result"
    }
   ],
   "source": [
    "autos[\"nrOfPictures\"].value_counts()"
   ]
  },
  {
   "cell_type": "markdown",
   "metadata": {},
   "source": [
    "**Drop irrelevant Columns**"
   ]
  },
  {
   "cell_type": "markdown",
   "metadata": {},
   "source": [
    "**Analysis:**\n",
    "- Since seller and offertype both are almost 100% confined to one class, there is no variation hence these would not add much value in modelling to differentiate b/w records.\n",
    "- nrOfPictures as seen from value counts all records have 0 value hence not useful for modellling.\n",
    "- abtest, dateCrawled, lastSeen not much significant w.r.t factors affecting price. Same for monthOfRegistration & postalCode.\n",
    "- dateCreated majority of records in 2016, no variation in data, so not useful for model."
   ]
  },
  {
   "cell_type": "code",
   "execution_count": 18,
   "metadata": {},
   "outputs": [
    {
     "data": {
      "text/html": [
       "<div>\n",
       "<style scoped>\n",
       "    .dataframe tbody tr th:only-of-type {\n",
       "        vertical-align: middle;\n",
       "    }\n",
       "\n",
       "    .dataframe tbody tr th {\n",
       "        vertical-align: top;\n",
       "    }\n",
       "\n",
       "    .dataframe thead th {\n",
       "        text-align: right;\n",
       "    }\n",
       "</style>\n",
       "<table border=\"1\" class=\"dataframe\">\n",
       "  <thead>\n",
       "    <tr style=\"text-align: right;\">\n",
       "      <th></th>\n",
       "      <th>name</th>\n",
       "      <th>price</th>\n",
       "      <th>vehicleType</th>\n",
       "      <th>yearOfRegistration</th>\n",
       "      <th>gearbox</th>\n",
       "      <th>powerPS</th>\n",
       "      <th>model</th>\n",
       "      <th>kilometer</th>\n",
       "      <th>fuelType</th>\n",
       "      <th>brand</th>\n",
       "      <th>notRepairedDamage</th>\n",
       "      <th>dateCreated</th>\n",
       "    </tr>\n",
       "  </thead>\n",
       "  <tbody>\n",
       "    <tr>\n",
       "      <th>0</th>\n",
       "      <td>Golf_3_1.6</td>\n",
       "      <td>480</td>\n",
       "      <td>NaN</td>\n",
       "      <td>1993</td>\n",
       "      <td>manuell</td>\n",
       "      <td>0</td>\n",
       "      <td>golf</td>\n",
       "      <td>150000</td>\n",
       "      <td>benzin</td>\n",
       "      <td>volkswagen</td>\n",
       "      <td>NaN</td>\n",
       "      <td>2016-03-24 00:00:00</td>\n",
       "    </tr>\n",
       "  </tbody>\n",
       "</table>\n",
       "</div>"
      ],
      "text/plain": [
       "         name  price vehicleType  yearOfRegistration  gearbox  powerPS model  \\\n",
       "0  Golf_3_1.6    480         NaN                1993  manuell        0  golf   \n",
       "\n",
       "   kilometer fuelType       brand notRepairedDamage          dateCreated  \n",
       "0     150000   benzin  volkswagen               NaN  2016-03-24 00:00:00  "
      ]
     },
     "execution_count": 18,
     "metadata": {},
     "output_type": "execute_result"
    }
   ],
   "source": [
    "#Drop unnecessary columns\n",
    "drop_col=['seller', 'offerType', 'abtest', 'dateCrawled', 'nrOfPictures', 'monthOfRegistration', 'postalCode','lastSeen']\n",
    "autos = autos.drop(drop_col, axis=1)\n",
    "autos.head(1)"
   ]
  },
  {
   "cell_type": "code",
   "execution_count": 19,
   "metadata": {},
   "outputs": [
    {
     "data": {
      "text/plain": [
       "3934"
      ]
     },
     "execution_count": 19,
     "metadata": {},
     "output_type": "execute_result"
    }
   ],
   "source": [
    "# Find out how many rows are duplicated\n",
    "sum(autos.duplicated())"
   ]
  },
  {
   "cell_type": "code",
   "execution_count": 20,
   "metadata": {},
   "outputs": [
    {
     "data": {
      "text/plain": [
       "367594"
      ]
     },
     "execution_count": 20,
     "metadata": {},
     "output_type": "execute_result"
    }
   ],
   "source": [
    "# Drop duplicated rows\n",
    "autos.drop_duplicates(inplace=True)\n",
    "len(autos)"
   ]
  },
  {
   "cell_type": "markdown",
   "metadata": {},
   "source": [
    "### Step1_2. Clean Column name"
   ]
  },
  {
   "cell_type": "code",
   "execution_count": 21,
   "metadata": {},
   "outputs": [
    {
     "data": {
      "text/plain": [
       "Index(['name', 'price', 'vehicleType', 'yearOfRegistration', 'gearbox',\n",
       "       'powerPS', 'model', 'kilometer', 'fuelType', 'brand',\n",
       "       'notRepairedDamage', 'dateCreated'],\n",
       "      dtype='object')"
      ]
     },
     "execution_count": 21,
     "metadata": {},
     "output_type": "execute_result"
    }
   ],
   "source": [
    "autos.columns"
   ]
  },
  {
   "cell_type": "markdown",
   "metadata": {},
   "source": [
    "**Analysis**:\n",
    "\n",
    "- We give meaningful names to columns like change dateCreated to ad_created and notRepairedDamage to unrepaired_damage."
   ]
  },
  {
   "cell_type": "code",
   "execution_count": 22,
   "metadata": {},
   "outputs": [
    {
     "data": {
      "text/html": [
       "<div>\n",
       "<style scoped>\n",
       "    .dataframe tbody tr th:only-of-type {\n",
       "        vertical-align: middle;\n",
       "    }\n",
       "\n",
       "    .dataframe tbody tr th {\n",
       "        vertical-align: top;\n",
       "    }\n",
       "\n",
       "    .dataframe thead th {\n",
       "        text-align: right;\n",
       "    }\n",
       "</style>\n",
       "<table border=\"1\" class=\"dataframe\">\n",
       "  <thead>\n",
       "    <tr style=\"text-align: right;\">\n",
       "      <th></th>\n",
       "      <th>name</th>\n",
       "      <th>price</th>\n",
       "      <th>vehicle_type</th>\n",
       "      <th>registration_year</th>\n",
       "      <th>gearbox</th>\n",
       "      <th>power_ps</th>\n",
       "      <th>model</th>\n",
       "      <th>kilometer</th>\n",
       "      <th>fuel_type</th>\n",
       "      <th>brand</th>\n",
       "      <th>unrepaired_damage</th>\n",
       "      <th>ad_created</th>\n",
       "    </tr>\n",
       "  </thead>\n",
       "  <tbody>\n",
       "    <tr>\n",
       "      <th>0</th>\n",
       "      <td>Golf_3_1.6</td>\n",
       "      <td>480</td>\n",
       "      <td>NaN</td>\n",
       "      <td>1993</td>\n",
       "      <td>manuell</td>\n",
       "      <td>0</td>\n",
       "      <td>golf</td>\n",
       "      <td>150000</td>\n",
       "      <td>benzin</td>\n",
       "      <td>volkswagen</td>\n",
       "      <td>NaN</td>\n",
       "      <td>2016-03-24 00:00:00</td>\n",
       "    </tr>\n",
       "  </tbody>\n",
       "</table>\n",
       "</div>"
      ],
      "text/plain": [
       "         name  price vehicle_type  registration_year  gearbox  power_ps model  \\\n",
       "0  Golf_3_1.6    480          NaN               1993  manuell         0  golf   \n",
       "\n",
       "   kilometer fuel_type       brand unrepaired_damage           ad_created  \n",
       "0     150000    benzin  volkswagen               NaN  2016-03-24 00:00:00  "
      ]
     },
     "execution_count": 22,
     "metadata": {},
     "output_type": "execute_result"
    }
   ],
   "source": [
    "autos.columns = ['name', 'price', 'vehicle_type', 'registration_year', 'gearbox', 'power_ps', 'model',\n",
    "       'kilometer','fuel_type', 'brand','unrepaired_damage', 'ad_created']\n",
    "autos.head(1)"
   ]
  },
  {
   "cell_type": "markdown",
   "metadata": {},
   "source": [
    "### Step1_3 Investigate the columns (1.'price', 2.'registration_year', 3.'power_ps') that have abnormal values:\n",
    "\n",
    "### Many rows in these three columns have unrealistic values."
   ]
  },
  {
   "cell_type": "markdown",
   "metadata": {},
   "source": [
    "**1. Investigate on \"price\" column** - If very high price skews data very much remove those rows from naalysis and if very low price does not make sense remove those rows as well."
   ]
  },
  {
   "cell_type": "code",
   "execution_count": 23,
   "metadata": {},
   "outputs": [
    {
     "data": {
      "image/png": "[encoded data removed]",
      "text/plain": [
       "<Figure size 432x288 with 1 Axes>"
      ]
     },
     "metadata": {
      "needs_background": "light"
     },
     "output_type": "display_data"
    }
   ],
   "source": [
    "import matplotlib.pyplot as plt\n",
    "plt.hist(autos['price'])\n",
    "plt.title(\"Price\")\n",
    "plt.show()"
   ]
  },
  {
   "cell_type": "code",
   "execution_count": 24,
   "metadata": {},
   "outputs": [
    {
     "data": {
      "text/plain": [
       "2147483647"
      ]
     },
     "execution_count": 24,
     "metadata": {},
     "output_type": "execute_result"
    }
   ],
   "source": [
    "# Find out max value on price.\n",
    "autos[\"price\"].max()"
   ]
  },
  {
   "cell_type": "code",
   "execution_count": 25,
   "metadata": {},
   "outputs": [
    {
     "data": {
      "text/plain": [
       "0"
      ]
     },
     "execution_count": 25,
     "metadata": {},
     "output_type": "execute_result"
    }
   ],
   "source": [
    "# Find out min value on price.\n",
    "autos[\"price\"].min()"
   ]
  },
  {
   "cell_type": "code",
   "execution_count": 26,
   "metadata": {},
   "outputs": [
    {
     "data": {
      "text/plain": [
       "17423.379826656583"
      ]
     },
     "execution_count": 26,
     "metadata": {},
     "output_type": "execute_result"
    }
   ],
   "source": [
    "# Find out mean value on price.\n",
    "autos[\"price\"].mean()"
   ]
  },
  {
   "cell_type": "code",
   "execution_count": 27,
   "metadata": {},
   "outputs": [
    {
     "data": {
      "text/plain": [
       "2950.0"
      ]
     },
     "execution_count": 27,
     "metadata": {},
     "output_type": "execute_result"
    }
   ],
   "source": [
    "# Find Median price\n",
    "autos[\"price\"].median()"
   ]
  },
  {
   "cell_type": "code",
   "execution_count": 28,
   "metadata": {},
   "outputs": [
    {
     "data": {
      "text/plain": [
       "350559"
      ]
     },
     "execution_count": 28,
     "metadata": {},
     "output_type": "execute_result"
    }
   ],
   "source": [
    "# Filter rows where price < 20K\n",
    "\n",
    "rows = autos[autos[\"price\"] <= 20000]\n",
    "len(rows)"
   ]
  },
  {
   "cell_type": "code",
   "execution_count": 29,
   "metadata": {},
   "outputs": [
    {
     "data": {
      "text/plain": [
       "367424"
      ]
     },
     "execution_count": 29,
     "metadata": {},
     "output_type": "execute_result"
    }
   ],
   "source": [
    "# Filter rows where price < 200K\n",
    "\n",
    "rows = autos[autos[\"price\"] <= 200000]\n",
    "len(rows)"
   ]
  },
  {
   "cell_type": "code",
   "execution_count": 30,
   "metadata": {},
   "outputs": [
    {
     "name": "stdout",
     "output_type": "stream",
     "text": [
      "14218\n",
      "3.826898645593334\n"
     ]
    }
   ],
   "source": [
    "# Filter rows where price < 100\n",
    "\n",
    "rows = autos[autos[\"price\"] <= 100]\n",
    "a = len(rows)\n",
    "print(a)\n",
    "prcnt = (a/371528)*100\n",
    "print(prcnt)"
   ]
  },
  {
   "cell_type": "code",
   "execution_count": 31,
   "metadata": {},
   "outputs": [
    {
     "name": "stdout",
     "output_type": "stream",
     "text": [
      "170\n",
      "0.04575698197713228\n"
     ]
    }
   ],
   "source": [
    "# Filter rows where price > 200K\n",
    "\n",
    "rows = autos[autos[\"price\"] > 200000]\n",
    "b = len(rows)\n",
    "print(b)\n",
    "prcnt = (b/371528)*100\n",
    "print(prcnt)"
   ]
  },
  {
   "cell_type": "markdown",
   "metadata": {},
   "source": [
    "**Analysis:**\n",
    "\n",
    "- Out of 371528 cars price of about 350559 concentrated in a just a range 0 to 20K.\n",
    "- Out of 371528 cars price of about 367424 concentrated in a just a range 0 to 200K.\n",
    "- As ebay is an auction site, it is possible to have listing with opening bid very low, based on common sense, we assume any price under 100 is too low. The amount of cars with price under 100 is less than 4%, so we will remove these rows. \n",
    "- Although it is possible for luxury cars with very high price, we will limit the price within 200000 in our analysis"
   ]
  },
  {
   "cell_type": "code",
   "execution_count": 32,
   "metadata": {},
   "outputs": [
    {
     "data": {
      "text/plain": [
       "354235"
      ]
     },
     "execution_count": 32,
     "metadata": {},
     "output_type": "execute_result"
    }
   ],
   "source": [
    "# Remove the rows with price values under 100 and above 200000\n",
    "autos=autos[autos['price'].between(100,200000)]\n",
    "len(autos)\n"
   ]
  },
  {
   "cell_type": "markdown",
   "metadata": {},
   "source": [
    "**2. Investigate on 'registration_year' column**"
   ]
  },
  {
   "cell_type": "code",
   "execution_count": 33,
   "metadata": {},
   "outputs": [
    {
     "data": {
      "text/plain": [
       "2000    0.063639\n",
       "1999    0.061366\n",
       "2005    0.059918\n",
       "2006    0.055545\n",
       "2001    0.055099\n",
       "2003    0.054447\n",
       "2004    0.053944\n",
       "2002    0.052431\n",
       "2007    0.048598\n",
       "1998    0.047872\n",
       "2008    0.044465\n",
       "2009    0.043127\n",
       "1997    0.038912\n",
       "2010    0.034127\n",
       "2011    0.033241\n",
       "1996    0.028857\n",
       "2017    0.027897\n",
       "2012    0.026090\n",
       "2016    0.025511\n",
       "1995    0.024560\n",
       "2013    0.016986\n",
       "2014    0.013274\n",
       "1994    0.012867\n",
       "2018    0.010645\n",
       "1993    0.009073\n",
       "1992    0.008043\n",
       "2015    0.007961\n",
       "1991    0.007396\n",
       "1990    0.006798\n",
       "1989    0.003501\n",
       "1988    0.002566\n",
       "1985    0.001874\n",
       "1987    0.001841\n",
       "1986    0.001493\n",
       "1980    0.001403\n",
       "1983    0.001191\n",
       "1984    0.001132\n",
       "1982    0.000889\n",
       "1979    0.000824\n",
       "1970    0.000821\n",
       "1978    0.000819\n",
       "1981    0.000751\n",
       "1972    0.000680\n",
       "1974    0.000553\n",
       "1973    0.000539\n",
       "1971    0.000536\n",
       "1977    0.000522\n",
       "1976    0.000480\n",
       "1966    0.000443\n",
       "1969    0.000426\n",
       "1975    0.000404\n",
       "1960    0.000401\n",
       "1968    0.000401\n",
       "1967    0.000378\n",
       "1965    0.000333\n",
       "1964    0.000215\n",
       "1963    0.000212\n",
       "1962    0.000130\n",
       "1961    0.000130\n",
       "1959    0.000119\n",
       "1910    0.000099\n",
       "1956    0.000085\n",
       "1958    0.000079\n",
       "1957    0.000076\n",
       "1955    0.000065\n",
       "1000    0.000065\n",
       "1950    0.000051\n",
       "1953    0.000048\n",
       "1951    0.000048\n",
       "2019    0.000045\n",
       "1954    0.000040\n",
       "9999    0.000037\n",
       "5000    0.000037\n",
       "1937    0.000034\n",
       "1952    0.000028\n",
       "1938    0.000023\n",
       "1936    0.000020\n",
       "1929    0.000020\n",
       "6000    0.000017\n",
       "1947    0.000014\n",
       "1943    0.000014\n",
       "1935    0.000014\n",
       "1945    0.000014\n",
       "9000    0.000011\n",
       "1932    0.000011\n",
       "1234    0.000011\n",
       "1939    0.000011\n",
       "1931    0.000011\n",
       "1800    0.000011\n",
       "3000    0.000011\n",
       "7000    0.000011\n",
       "1930    0.000011\n",
       "1941    0.000011\n",
       "1933    0.000011\n",
       "1923    0.000008\n",
       "4000    0.000008\n",
       "1934    0.000008\n",
       "1948    0.000008\n",
       "1500    0.000008\n",
       "1949    0.000008\n",
       "2500    0.000006\n",
       "1300    0.000006\n",
       "5911    0.000006\n",
       "1944    0.000006\n",
       "5555    0.000006\n",
       "1600    0.000006\n",
       "1940    0.000006\n",
       "1928    0.000006\n",
       "1942    0.000006\n",
       "1927    0.000006\n",
       "4500    0.000006\n",
       "1946    0.000006\n",
       "8888    0.000006\n",
       "1039    0.000003\n",
       "2222    0.000003\n",
       "2800    0.000003\n",
       "1925    0.000003\n",
       "1111    0.000003\n",
       "5600    0.000003\n",
       "7777    0.000003\n",
       "1602    0.000003\n",
       "7800    0.000003\n",
       "7500    0.000003\n",
       "7100    0.000003\n",
       "1400    0.000003\n",
       "3200    0.000003\n",
       "2200    0.000003\n",
       "5900    0.000003\n",
       "2900    0.000003\n",
       "8500    0.000003\n",
       "5300    0.000003\n",
       "1255    0.000003\n",
       "2066    0.000003\n",
       "3700    0.000003\n",
       "3800    0.000003\n",
       "4800    0.000003\n",
       "1911    0.000003\n",
       "2290    0.000003\n",
       "4100    0.000003\n",
       "1001    0.000003\n",
       "6200    0.000003\n",
       "9450    0.000003\n",
       "8200    0.000003\n",
       "Name: registration_year, dtype: float64"
      ]
     },
     "execution_count": 33,
     "metadata": {},
     "output_type": "execute_result"
    }
   ],
   "source": [
    "autos['registration_year'].value_counts(ascending=False,normalize=True)"
   ]
  },
  {
   "cell_type": "code",
   "execution_count": 34,
   "metadata": {},
   "outputs": [
    {
     "name": "stdout",
     "output_type": "stream",
     "text": [
      "1000    23\n",
      "1001     1\n",
      "1039     1\n",
      "1111     1\n",
      "1234     4\n",
      "1255     1\n",
      "1300     2\n",
      "1400     1\n",
      "1500     3\n",
      "1600     2\n",
      "1602     1\n",
      "1800     4\n",
      "1910    35\n",
      "1911     1\n",
      "1923     3\n",
      "Name: registration_year, dtype: int64\n"
     ]
    },
    {
     "data": {
      "text/plain": [
       "2014    4702\n",
       "2015    2820\n",
       "2016    9037\n",
       "2017    9882\n",
       "2018    3771\n",
       "2019      16\n",
       "2066       1\n",
       "2200       1\n",
       "2222       1\n",
       "2290       1\n",
       "2500       2\n",
       "2800       1\n",
       "2900       1\n",
       "3000       4\n",
       "3200       1\n",
       "3700       1\n",
       "3800       1\n",
       "4000       3\n",
       "4100       1\n",
       "4500       2\n",
       "4800       1\n",
       "5000      13\n",
       "5300       1\n",
       "5555       2\n",
       "5600       1\n",
       "5900       1\n",
       "5911       2\n",
       "6000       6\n",
       "6200       1\n",
       "7000       4\n",
       "7100       1\n",
       "7500       1\n",
       "7777       1\n",
       "7800       1\n",
       "8200       1\n",
       "8500       1\n",
       "8888       2\n",
       "9000       4\n",
       "9450       1\n",
       "9999      13\n",
       "Name: registration_year, dtype: int64"
      ]
     },
     "execution_count": 34,
     "metadata": {},
     "output_type": "execute_result"
    }
   ],
   "source": [
    "s = autos['registration_year'].value_counts().sort_index()\n",
    "print(s.head(15))\n",
    "s.tail(40)"
   ]
  },
  {
   "cell_type": "markdown",
   "metadata": {},
   "source": [
    "**Analysis**\n",
    "\n",
    "1. Based on normalized data for years we can take 1950 as the lower cut off for registration year\n",
    "2. Based on value counts for years we can take 2019 as the upper cut off for registration year\n"
   ]
  },
  {
   "cell_type": "code",
   "execution_count": 35,
   "metadata": {},
   "outputs": [],
   "source": [
    "autos['registration_year'] = autos['registration_year'].astype(object)"
   ]
  },
  {
   "cell_type": "markdown",
   "metadata": {},
   "source": [
    "#### Use sort_index() to sort by index and sort_values() to sort by values"
   ]
  },
  {
   "cell_type": "code",
   "execution_count": 36,
   "metadata": {},
   "outputs": [
    {
     "data": {
      "text/plain": [
       "2016    354205\n",
       "2015        29\n",
       "2014         1\n",
       "Name: ad_created, dtype: int64"
      ]
     },
     "execution_count": 36,
     "metadata": {},
     "output_type": "execute_result"
    }
   ],
   "source": [
    "# To get an idea of when listing was put up, to check any relation with date registered\n",
    "autos['ad_created'].str[:4].value_counts().sort_values(ascending=False) \n",
    "\n",
    "# Most of listing adds created in year 2016."
   ]
  },
  {
   "cell_type": "code",
   "execution_count": 37,
   "metadata": {},
   "outputs": [
    {
     "name": "stdout",
     "output_type": "stream",
     "text": [
      "354235\n"
     ]
    },
    {
     "data": {
      "text/plain": [
       "354112"
      ]
     },
     "execution_count": 37,
     "metadata": {},
     "output_type": "execute_result"
    }
   ],
   "source": [
    "# We only keep records for car registered from 1900-2020\n",
    "\n",
    "print(len(autos))\n",
    "autos=autos[autos['registration_year'].between(1900,2020)]\n",
    "len(autos)"
   ]
  },
  {
   "cell_type": "markdown",
   "metadata": {},
   "source": [
    "**Analysis:**\n",
    "\n",
    "- Based on value counts of registration years we select cut off or lower and upper limit for registration year as 1900 and 2020. "
   ]
  },
  {
   "cell_type": "markdown",
   "metadata": {},
   "source": [
    "**3. Investigate on 'power_ps' column and do the same analysis and remove the rows with unrealistic values**"
   ]
  },
  {
   "cell_type": "code",
   "execution_count": 38,
   "metadata": {},
   "outputs": [
    {
     "data": {
      "image/png": "[encoded data removed]",
      "text/plain": [
       "<Figure size 432x288 with 1 Axes>"
      ]
     },
     "metadata": {
      "needs_background": "light"
     },
     "output_type": "display_data"
    }
   ],
   "source": [
    "import matplotlib.pyplot as plt\n",
    "plt.hist(autos['power_ps'])\n",
    "plt.title(\"power_ps\")\n",
    "plt.show()"
   ]
  },
  {
   "cell_type": "code",
   "execution_count": 39,
   "metadata": {},
   "outputs": [
    {
     "data": {
      "text/plain": [
       "117.01730808331827"
      ]
     },
     "execution_count": 39,
     "metadata": {},
     "output_type": "execute_result"
    }
   ],
   "source": [
    "autos['power_ps'].mean()"
   ]
  },
  {
   "cell_type": "code",
   "execution_count": 40,
   "metadata": {},
   "outputs": [
    {
     "data": {
      "text/plain": [
       "107.0"
      ]
     },
     "execution_count": 40,
     "metadata": {},
     "output_type": "execute_result"
    }
   ],
   "source": [
    "autos['power_ps'].median()"
   ]
  },
  {
   "cell_type": "code",
   "execution_count": 41,
   "metadata": {},
   "outputs": [
    {
     "data": {
      "text/plain": [
       "20000"
      ]
     },
     "execution_count": 41,
     "metadata": {},
     "output_type": "execute_result"
    }
   ],
   "source": [
    "autos['power_ps'].max()"
   ]
  },
  {
   "cell_type": "code",
   "execution_count": 42,
   "metadata": {},
   "outputs": [
    {
     "data": {
      "text/plain": [
       "0"
      ]
     },
     "execution_count": 42,
     "metadata": {},
     "output_type": "execute_result"
    }
   ],
   "source": [
    "autos['power_ps'].min()"
   ]
  },
  {
   "cell_type": "code",
   "execution_count": 43,
   "metadata": {},
   "outputs": [
    {
     "data": {
      "text/plain": [
       "113"
      ]
     },
     "execution_count": 43,
     "metadata": {},
     "output_type": "execute_result"
    }
   ],
   "source": [
    "# Find number of records having power_ps > 2000\n",
    "\n",
    "rcrds = autos[autos['power_ps'] > 2000]\n",
    "len(rcrds)"
   ]
  },
  {
   "cell_type": "code",
   "execution_count": 44,
   "metadata": {},
   "outputs": [
    {
     "data": {
      "text/plain": [
       "762"
      ]
     },
     "execution_count": 44,
     "metadata": {},
     "output_type": "execute_result"
    }
   ],
   "source": [
    "\n",
    "rcrds = autos[autos['power_ps'] > 500]\n",
    "len(rcrds)"
   ]
  },
  {
   "cell_type": "code",
   "execution_count": 45,
   "metadata": {
    "scrolled": true
   },
   "outputs": [
    {
     "data": {
      "image/png": "[encoded data removed]",
      "text/plain": [
       "<Figure size 432x288 with 1 Axes>"
      ]
     },
     "metadata": {
      "needs_background": "light"
     },
     "output_type": "display_data"
    }
   ],
   "source": [
    "import matplotlib.pyplot as plt\n",
    "sns.boxplot(x=autos['power_ps'])\n",
    "plt.title('power_ps distribution analysis')\n",
    "plt.show()\n"
   ]
  },
  {
   "cell_type": "code",
   "execution_count": 46,
   "metadata": {},
   "outputs": [],
   "source": [
    "autos=autos[autos['power_ps'].between(10,500)]"
   ]
  },
  {
   "cell_type": "markdown",
   "metadata": {},
   "source": [
    "**Analysis**\n",
    "\n",
    "1. Although power of car is till 20K, however only 113 records out of 350K are > 2000 & 788 > 500. So we limit range b/w 10 and 500 only."
   ]
  },
  {
   "cell_type": "markdown",
   "metadata": {},
   "source": [
    "### Step1_ 4 Change the values in the columns ( 1. gearbox, 2. 'unrepaired_damage')  which have only 2 unique values and are not in English "
   ]
  },
  {
   "cell_type": "markdown",
   "metadata": {},
   "source": [
    "**1.'gearbox'**"
   ]
  },
  {
   "cell_type": "code",
   "execution_count": 47,
   "metadata": {},
   "outputs": [
    {
     "data": {
      "text/plain": [
       "manuell      242969\n",
       "automatik     69486\n",
       "Name: gearbox, dtype: int64"
      ]
     },
     "execution_count": 47,
     "metadata": {},
     "output_type": "execute_result"
    }
   ],
   "source": [
    "autos.gearbox.value_counts()"
   ]
  },
  {
   "cell_type": "code",
   "execution_count": 48,
   "metadata": {},
   "outputs": [
    {
     "data": {
      "text/plain": [
       "manual       242969\n",
       "automatic     69486\n",
       "Name: gearbox, dtype: int64"
      ]
     },
     "execution_count": 48,
     "metadata": {},
     "output_type": "execute_result"
    }
   ],
   "source": [
    "mapping_dict2={'manuell':'manual', 'automatik':'automatic'}\n",
    "autos['gearbox']=autos['gearbox'].map(mapping_dict2)\n",
    "autos['gearbox'].value_counts()"
   ]
  },
  {
   "cell_type": "markdown",
   "metadata": {},
   "source": [
    "**2.'unrepaired_damage'**"
   ]
  },
  {
   "cell_type": "code",
   "execution_count": 49,
   "metadata": {},
   "outputs": [
    {
     "data": {
      "text/plain": [
       "nein    242351\n",
       "ja       29318\n",
       "Name: unrepaired_damage, dtype: int64"
      ]
     },
     "execution_count": 49,
     "metadata": {},
     "output_type": "execute_result"
    }
   ],
   "source": [
    "autos.unrepaired_damage.value_counts()"
   ]
  },
  {
   "cell_type": "code",
   "execution_count": 50,
   "metadata": {},
   "outputs": [
    {
     "data": {
      "text/plain": [
       "no     242351\n",
       "yes     29318\n",
       "Name: unrepaired_damage, dtype: int64"
      ]
     },
     "execution_count": 50,
     "metadata": {},
     "output_type": "execute_result"
    }
   ],
   "source": [
    "mapping_dict4={'nein':'no', 'ja':'yes'}\n",
    "autos['unrepaired_damage']=autos['unrepaired_damage'].map(mapping_dict4)\n",
    "autos['unrepaired_damage'].value_counts()"
   ]
  },
  {
   "cell_type": "markdown",
   "metadata": {},
   "source": [
    "### Step1_ 5 Investigate Null-values"
   ]
  },
  {
   "cell_type": "code",
   "execution_count": 51,
   "metadata": {},
   "outputs": [
    {
     "data": {
      "text/plain": [
       "name                     0\n",
       "price                    0\n",
       "vehicle_type         21117\n",
       "registration_year        0\n",
       "gearbox               5965\n",
       "power_ps                 0\n",
       "model                12651\n",
       "kilometer                0\n",
       "fuel_type            19596\n",
       "brand                    0\n",
       "unrepaired_damage    46751\n",
       "ad_created               0\n",
       "dtype: int64"
      ]
     },
     "execution_count": 51,
     "metadata": {},
     "output_type": "execute_result"
    }
   ],
   "source": [
    "autos.isnull().sum()"
   ]
  },
  {
   "cell_type": "code",
   "execution_count": 52,
   "metadata": {},
   "outputs": [
    {
     "data": {
      "text/html": [
       "<div>\n",
       "<style scoped>\n",
       "    .dataframe tbody tr th:only-of-type {\n",
       "        vertical-align: middle;\n",
       "    }\n",
       "\n",
       "    .dataframe tbody tr th {\n",
       "        vertical-align: top;\n",
       "    }\n",
       "\n",
       "    .dataframe thead th {\n",
       "        text-align: right;\n",
       "    }\n",
       "</style>\n",
       "<table border=\"1\" class=\"dataframe\">\n",
       "  <thead>\n",
       "    <tr style=\"text-align: right;\">\n",
       "      <th></th>\n",
       "      <th>price</th>\n",
       "      <th>power_ps</th>\n",
       "      <th>kilometer</th>\n",
       "    </tr>\n",
       "  </thead>\n",
       "  <tbody>\n",
       "    <tr>\n",
       "      <th>count</th>\n",
       "      <td>318420.000000</td>\n",
       "      <td>318420.000000</td>\n",
       "      <td>318420.000000</td>\n",
       "    </tr>\n",
       "    <tr>\n",
       "      <th>mean</th>\n",
       "      <td>6161.892877</td>\n",
       "      <td>125.466786</td>\n",
       "      <td>125645.028579</td>\n",
       "    </tr>\n",
       "    <tr>\n",
       "      <th>std</th>\n",
       "      <td>8162.133831</td>\n",
       "      <td>59.865037</td>\n",
       "      <td>39172.558765</td>\n",
       "    </tr>\n",
       "    <tr>\n",
       "      <th>min</th>\n",
       "      <td>100.000000</td>\n",
       "      <td>10.000000</td>\n",
       "      <td>5000.000000</td>\n",
       "    </tr>\n",
       "    <tr>\n",
       "      <th>25%</th>\n",
       "      <td>1400.000000</td>\n",
       "      <td>80.000000</td>\n",
       "      <td>100000.000000</td>\n",
       "    </tr>\n",
       "    <tr>\n",
       "      <th>50%</th>\n",
       "      <td>3490.000000</td>\n",
       "      <td>116.000000</td>\n",
       "      <td>150000.000000</td>\n",
       "    </tr>\n",
       "    <tr>\n",
       "      <th>75%</th>\n",
       "      <td>7900.000000</td>\n",
       "      <td>150.000000</td>\n",
       "      <td>150000.000000</td>\n",
       "    </tr>\n",
       "    <tr>\n",
       "      <th>max</th>\n",
       "      <td>200000.000000</td>\n",
       "      <td>500.000000</td>\n",
       "      <td>150000.000000</td>\n",
       "    </tr>\n",
       "  </tbody>\n",
       "</table>\n",
       "</div>"
      ],
      "text/plain": [
       "               price       power_ps      kilometer\n",
       "count  318420.000000  318420.000000  318420.000000\n",
       "mean     6161.892877     125.466786  125645.028579\n",
       "std      8162.133831      59.865037   39172.558765\n",
       "min       100.000000      10.000000    5000.000000\n",
       "25%      1400.000000      80.000000  100000.000000\n",
       "50%      3490.000000     116.000000  150000.000000\n",
       "75%      7900.000000     150.000000  150000.000000\n",
       "max    200000.000000     500.000000  150000.000000"
      ]
     },
     "execution_count": 52,
     "metadata": {},
     "output_type": "execute_result"
    }
   ],
   "source": [
    "autos.describe()    \n",
    "# Basically price and power_ps was heavily skewed cz of outliers, so we change it to reasonable range,"
   ]
  },
  {
   "cell_type": "code",
   "execution_count": 53,
   "metadata": {},
   "outputs": [
    {
     "data": {
      "text/html": [
       "<div>\n",
       "<style scoped>\n",
       "    .dataframe tbody tr th:only-of-type {\n",
       "        vertical-align: middle;\n",
       "    }\n",
       "\n",
       "    .dataframe tbody tr th {\n",
       "        vertical-align: top;\n",
       "    }\n",
       "\n",
       "    .dataframe thead th {\n",
       "        text-align: right;\n",
       "    }\n",
       "</style>\n",
       "<table border=\"1\" class=\"dataframe\">\n",
       "  <thead>\n",
       "    <tr style=\"text-align: right;\">\n",
       "      <th></th>\n",
       "      <th>name</th>\n",
       "      <th>vehicle_type</th>\n",
       "      <th>registration_year</th>\n",
       "      <th>gearbox</th>\n",
       "      <th>model</th>\n",
       "      <th>fuel_type</th>\n",
       "      <th>brand</th>\n",
       "      <th>unrepaired_damage</th>\n",
       "      <th>ad_created</th>\n",
       "    </tr>\n",
       "  </thead>\n",
       "  <tbody>\n",
       "    <tr>\n",
       "      <th>count</th>\n",
       "      <td>318420</td>\n",
       "      <td>297303</td>\n",
       "      <td>318420</td>\n",
       "      <td>312455</td>\n",
       "      <td>305769</td>\n",
       "      <td>298824</td>\n",
       "      <td>318420</td>\n",
       "      <td>271669</td>\n",
       "      <td>318420</td>\n",
       "    </tr>\n",
       "    <tr>\n",
       "      <th>unique</th>\n",
       "      <td>197688</td>\n",
       "      <td>8</td>\n",
       "      <td>95</td>\n",
       "      <td>2</td>\n",
       "      <td>250</td>\n",
       "      <td>7</td>\n",
       "      <td>40</td>\n",
       "      <td>2</td>\n",
       "      <td>111</td>\n",
       "    </tr>\n",
       "    <tr>\n",
       "      <th>top</th>\n",
       "      <td>BMW_318i</td>\n",
       "      <td>limousine</td>\n",
       "      <td>1999</td>\n",
       "      <td>manual</td>\n",
       "      <td>golf</td>\n",
       "      <td>benzin</td>\n",
       "      <td>volkswagen</td>\n",
       "      <td>no</td>\n",
       "      <td>2016-04-03 00:00:00</td>\n",
       "    </tr>\n",
       "    <tr>\n",
       "      <th>freq</th>\n",
       "      <td>616</td>\n",
       "      <td>86097</td>\n",
       "      <td>19364</td>\n",
       "      <td>242969</td>\n",
       "      <td>26432</td>\n",
       "      <td>196450</td>\n",
       "      <td>68533</td>\n",
       "      <td>242351</td>\n",
       "      <td>12665</td>\n",
       "    </tr>\n",
       "  </tbody>\n",
       "</table>\n",
       "</div>"
      ],
      "text/plain": [
       "            name vehicle_type  registration_year gearbox   model fuel_type  \\\n",
       "count     318420       297303             318420  312455  305769    298824   \n",
       "unique    197688            8                 95       2     250         7   \n",
       "top     BMW_318i    limousine               1999  manual    golf    benzin   \n",
       "freq         616        86097              19364  242969   26432    196450   \n",
       "\n",
       "             brand unrepaired_damage           ad_created  \n",
       "count       318420            271669               318420  \n",
       "unique          40                 2                  111  \n",
       "top     volkswagen                no  2016-04-03 00:00:00  \n",
       "freq         68533            242351                12665  "
      ]
     },
     "execution_count": 53,
     "metadata": {},
     "output_type": "execute_result"
    }
   ],
   "source": [
    "# Check our changes\n",
    "autos.describe(include='object')"
   ]
  },
  {
   "cell_type": "markdown",
   "metadata": {},
   "source": [
    "<a id='eda'></a>\n",
    "## Exploratory Data Analysis"
   ]
  },
  {
   "cell_type": "code",
   "execution_count": 54,
   "metadata": {},
   "outputs": [
    {
     "data": {
      "text/plain": [
       "Index(['name', 'price', 'vehicle_type', 'registration_year', 'gearbox',\n",
       "       'power_ps', 'model', 'kilometer', 'fuel_type', 'brand',\n",
       "       'unrepaired_damage', 'ad_created'],\n",
       "      dtype='object')"
      ]
     },
     "execution_count": 54,
     "metadata": {},
     "output_type": "execute_result"
    }
   ],
   "source": [
    "autos.columns"
   ]
  },
  {
   "cell_type": "markdown",
   "metadata": {},
   "source": [
    "### Visualizations continuous variables"
   ]
  },
  {
   "cell_type": "code",
   "execution_count": 55,
   "metadata": {},
   "outputs": [
    {
     "data": {
      "image/png": "[encoded data removed]",
      "text/plain": [
       "<Figure size 1440x360 with 3 Axes>"
      ]
     },
     "metadata": {
      "needs_background": "light"
     },
     "output_type": "display_data"
    }
   ],
   "source": [
    "import seaborn as sns\n",
    "fig, ax = plt.subplots(nrows=1,ncols=3,figsize=(20,5))     \n",
    "\n",
    "sns.distplot(autos['price'], kde=True, bins=20, hist=True, ax=ax[0])\n",
    "sns.distplot(autos['power_ps'], kde=True, bins=20, hist=True, ax=ax[1])\n",
    "sns.distplot(autos['kilometer'], kde=True, bins=20, hist=True, ax=ax[2])\n",
    "\n",
    "plt.xticks(rotation = 45)\n",
    "\n",
    "ax[0].set_title('price')\n",
    "ax[1].set_title('power_ps')\n",
    "ax[2].set_title('kilometer');"
   ]
  },
  {
   "cell_type": "markdown",
   "metadata": {},
   "source": [
    "### Visualizations discrete variables"
   ]
  },
  {
   "cell_type": "code",
   "execution_count": 56,
   "metadata": {},
   "outputs": [],
   "source": [
    "v = autos['vehicle_type'].value_counts()\n",
    "g = autos['gearbox'].value_counts()\n",
    "f = autos['fuel_type'].value_counts()\n",
    "b = autos['brand'].value_counts()\n",
    "u = autos['unrepaired_damage'].value_counts()\n",
    "\n"
   ]
  },
  {
   "cell_type": "code",
   "execution_count": 57,
   "metadata": {},
   "outputs": [
    {
     "name": "stdout",
     "output_type": "stream",
     "text": [
      "limousine     86097\n",
      "kleinwagen    69215\n",
      "kombi         60744\n",
      "bus           27318\n",
      "cabrio        21141\n",
      "coupe         16978\n",
      "suv           13348\n",
      "andere         2462\n",
      "Name: vehicle_type, dtype: int64\n"
     ]
    },
    {
     "data": {
      "image/png": "[encoded data removed]",
      "text/plain": [
       "<Figure size 576x360 with 1 Axes>"
      ]
     },
     "metadata": {
      "needs_background": "light"
     },
     "output_type": "display_data"
    },
    {
     "name": "stdout",
     "output_type": "stream",
     "text": [
      "manual       242969\n",
      "automatic     69486\n",
      "Name: gearbox, dtype: int64\n"
     ]
    },
    {
     "data": {
      "image/png": "[encoded data removed]",
      "text/plain": [
       "<Figure size 576x360 with 1 Axes>"
      ]
     },
     "metadata": {
      "needs_background": "light"
     },
     "output_type": "display_data"
    },
    {
     "name": "stdout",
     "output_type": "stream",
     "text": [
      "benzin     196450\n",
      "diesel      96670\n",
      "lpg          4803\n",
      "cng           499\n",
      "hybrid        244\n",
      "andere         88\n",
      "elektro        70\n",
      "Name: fuel_type, dtype: int64\n"
     ]
    },
    {
     "data": {
      "image/png": "[encoded data removed]",
      "text/plain": [
       "<Figure size 576x360 with 1 Axes>"
      ]
     },
     "metadata": {
      "needs_background": "light"
     },
     "output_type": "display_data"
    },
    {
     "name": "stdout",
     "output_type": "stream",
     "text": [
      "volkswagen        68533\n",
      "bmw               35753\n",
      "opel              33553\n",
      "mercedes_benz     30666\n",
      "audi              29221\n",
      "ford              21475\n",
      "renault           14439\n",
      "peugeot            9564\n",
      "fiat               7902\n",
      "seat               6196\n",
      "skoda              5149\n",
      "mazda              4910\n",
      "smart              4576\n",
      "citroen            4393\n",
      "nissan             4218\n",
      "toyota             4163\n",
      "hyundai            3220\n",
      "mini               3206\n",
      "volvo              2945\n",
      "mitsubishi         2589\n",
      "honda              2462\n",
      "kia                2226\n",
      "sonstige_autos     2189\n",
      "alfa_romeo         2034\n",
      "suzuki             1994\n",
      "porsche            1934\n",
      "chevrolet          1549\n",
      "chrysler           1193\n",
      "dacia               820\n",
      "jeep                715\n",
      "land_rover          679\n",
      "subaru              667\n",
      "daihatsu            625\n",
      "jaguar              527\n",
      "saab                484\n",
      "daewoo              420\n",
      "lancia              402\n",
      "rover               378\n",
      "trabant             293\n",
      "lada                158\n",
      "Name: brand, dtype: int64\n"
     ]
    },
    {
     "data": {
      "image/png": "[encoded data removed]",
      "text/plain": [
       "<Figure size 576x360 with 1 Axes>"
      ]
     },
     "metadata": {
      "needs_background": "light"
     },
     "output_type": "display_data"
    },
    {
     "name": "stdout",
     "output_type": "stream",
     "text": [
      "no     242351\n",
      "yes     29318\n",
      "Name: unrepaired_damage, dtype: int64\n"
     ]
    },
    {
     "data": {
      "image/png": "[encoded data removed]",
      "text/plain": [
       "<Figure size 576x360 with 1 Axes>"
      ]
     },
     "metadata": {
      "needs_background": "light"
     },
     "output_type": "display_data"
    }
   ],
   "source": [
    "cat_var = [v,g,f,b,u]\n",
    "\n",
    "import matplotlib.pyplot as plt\n",
    "from matplotlib.pyplot import figure\n",
    "\n",
    "for i in cat_var:\n",
    "    print(i)\n",
    "    plt.figure(figsize=(8, 5))\n",
    "    plt.bar(i.index,i.values)\n",
    "    plt.show();"
   ]
  },
  {
   "cell_type": "markdown",
   "metadata": {},
   "source": [
    "## Question 1: What are the common brands of vehicles in Germany and their average price ?"
   ]
  },
  {
   "cell_type": "markdown",
   "metadata": {},
   "source": [
    "### Method 1"
   ]
  },
  {
   "cell_type": "code",
   "execution_count": 58,
   "metadata": {},
   "outputs": [
    {
     "data": {
      "text/html": [
       "<div>\n",
       "<style scoped>\n",
       "    .dataframe tbody tr th:only-of-type {\n",
       "        vertical-align: middle;\n",
       "    }\n",
       "\n",
       "    .dataframe tbody tr th {\n",
       "        vertical-align: top;\n",
       "    }\n",
       "\n",
       "    .dataframe thead th {\n",
       "        text-align: right;\n",
       "    }\n",
       "</style>\n",
       "<table border=\"1\" class=\"dataframe\">\n",
       "  <thead>\n",
       "    <tr style=\"text-align: right;\">\n",
       "      <th></th>\n",
       "      <th>name</th>\n",
       "      <th>price</th>\n",
       "      <th>vehicle_type</th>\n",
       "      <th>registration_year</th>\n",
       "      <th>gearbox</th>\n",
       "      <th>power_ps</th>\n",
       "      <th>model</th>\n",
       "      <th>kilometer</th>\n",
       "      <th>fuel_type</th>\n",
       "      <th>brand</th>\n",
       "      <th>unrepaired_damage</th>\n",
       "      <th>ad_created</th>\n",
       "    </tr>\n",
       "  </thead>\n",
       "  <tbody>\n",
       "    <tr>\n",
       "      <th>1</th>\n",
       "      <td>A5_Sportback_2.7_Tdi</td>\n",
       "      <td>18300</td>\n",
       "      <td>coupe</td>\n",
       "      <td>2011</td>\n",
       "      <td>manual</td>\n",
       "      <td>190</td>\n",
       "      <td>NaN</td>\n",
       "      <td>125000</td>\n",
       "      <td>diesel</td>\n",
       "      <td>audi</td>\n",
       "      <td>yes</td>\n",
       "      <td>2016-03-24 00:00:00</td>\n",
       "    </tr>\n",
       "    <tr>\n",
       "      <th>2</th>\n",
       "      <td>Jeep_Grand_Cherokee_\"Overland\"</td>\n",
       "      <td>9800</td>\n",
       "      <td>suv</td>\n",
       "      <td>2004</td>\n",
       "      <td>automatic</td>\n",
       "      <td>163</td>\n",
       "      <td>grand</td>\n",
       "      <td>125000</td>\n",
       "      <td>diesel</td>\n",
       "      <td>jeep</td>\n",
       "      <td>NaN</td>\n",
       "      <td>2016-03-14 00:00:00</td>\n",
       "    </tr>\n",
       "    <tr>\n",
       "      <th>3</th>\n",
       "      <td>GOLF_4_1_4__3TÜRER</td>\n",
       "      <td>1500</td>\n",
       "      <td>kleinwagen</td>\n",
       "      <td>2001</td>\n",
       "      <td>manual</td>\n",
       "      <td>75</td>\n",
       "      <td>golf</td>\n",
       "      <td>150000</td>\n",
       "      <td>benzin</td>\n",
       "      <td>volkswagen</td>\n",
       "      <td>no</td>\n",
       "      <td>2016-03-17 00:00:00</td>\n",
       "    </tr>\n",
       "    <tr>\n",
       "      <th>4</th>\n",
       "      <td>Skoda_Fabia_1.4_TDI_PD_Classic</td>\n",
       "      <td>3600</td>\n",
       "      <td>kleinwagen</td>\n",
       "      <td>2008</td>\n",
       "      <td>manual</td>\n",
       "      <td>69</td>\n",
       "      <td>fabia</td>\n",
       "      <td>90000</td>\n",
       "      <td>diesel</td>\n",
       "      <td>skoda</td>\n",
       "      <td>no</td>\n",
       "      <td>2016-03-31 00:00:00</td>\n",
       "    </tr>\n",
       "    <tr>\n",
       "      <th>5</th>\n",
       "      <td>BMW_316i___e36_Limousine___Bastlerfahrzeug__Ex...</td>\n",
       "      <td>650</td>\n",
       "      <td>limousine</td>\n",
       "      <td>1995</td>\n",
       "      <td>manual</td>\n",
       "      <td>102</td>\n",
       "      <td>3er</td>\n",
       "      <td>150000</td>\n",
       "      <td>benzin</td>\n",
       "      <td>bmw</td>\n",
       "      <td>yes</td>\n",
       "      <td>2016-04-04 00:00:00</td>\n",
       "    </tr>\n",
       "  </tbody>\n",
       "</table>\n",
       "</div>"
      ],
      "text/plain": [
       "                                                name  price vehicle_type  \\\n",
       "1                               A5_Sportback_2.7_Tdi  18300        coupe   \n",
       "2                     Jeep_Grand_Cherokee_\"Overland\"   9800          suv   \n",
       "3                                 GOLF_4_1_4__3TÜRER   1500   kleinwagen   \n",
       "4                     Skoda_Fabia_1.4_TDI_PD_Classic   3600   kleinwagen   \n",
       "5  BMW_316i___e36_Limousine___Bastlerfahrzeug__Ex...    650    limousine   \n",
       "\n",
       "  registration_year    gearbox  power_ps  model  kilometer fuel_type  \\\n",
       "1              2011     manual       190    NaN     125000    diesel   \n",
       "2              2004  automatic       163  grand     125000    diesel   \n",
       "3              2001     manual        75   golf     150000    benzin   \n",
       "4              2008     manual        69  fabia      90000    diesel   \n",
       "5              1995     manual       102    3er     150000    benzin   \n",
       "\n",
       "        brand unrepaired_damage           ad_created  \n",
       "1        audi               yes  2016-03-24 00:00:00  \n",
       "2        jeep               NaN  2016-03-14 00:00:00  \n",
       "3  volkswagen                no  2016-03-17 00:00:00  \n",
       "4       skoda                no  2016-03-31 00:00:00  \n",
       "5         bmw               yes  2016-04-04 00:00:00  "
      ]
     },
     "execution_count": 58,
     "metadata": {},
     "output_type": "execute_result"
    }
   ],
   "source": [
    "autos.head()"
   ]
  },
  {
   "cell_type": "code",
   "execution_count": 59,
   "metadata": {},
   "outputs": [
    {
     "data": {
      "text/plain": [
       "volkswagen       0.215228\n",
       "bmw              0.112283\n",
       "opel             0.105373\n",
       "mercedes_benz    0.096307\n",
       "audi             0.091769\n",
       "ford             0.067442\n",
       "renault          0.045346\n",
       "peugeot          0.030036\n",
       "fiat             0.024816\n",
       "seat             0.019459\n",
       "Name: brand, dtype: float64"
      ]
     },
     "execution_count": 59,
     "metadata": {},
     "output_type": "execute_result"
    }
   ],
   "source": [
    "br = autos['brand'].value_counts(normalize=True).head(10)\n",
    "br"
   ]
  },
  {
   "cell_type": "markdown",
   "metadata": {},
   "source": [
    "Select brands which have more than 5% market share as the most common brands"
   ]
  },
  {
   "cell_type": "code",
   "execution_count": 60,
   "metadata": {},
   "outputs": [
    {
     "data": {
      "text/plain": [
       "volkswagen       0.215228\n",
       "bmw              0.112283\n",
       "opel             0.105373\n",
       "mercedes_benz    0.096307\n",
       "audi             0.091769\n",
       "ford             0.067442\n",
       "Name: brand, dtype: float64"
      ]
     },
     "execution_count": 60,
     "metadata": {},
     "output_type": "execute_result"
    }
   ],
   "source": [
    "top_brands = br[br > 0.05]\n",
    "top_brands"
   ]
  },
  {
   "cell_type": "code",
   "execution_count": 61,
   "metadata": {},
   "outputs": [
    {
     "data": {
      "image/png": "[encoded data removed]",
      "text/plain": [
       "<Figure size 432x288 with 1 Axes>"
      ]
     },
     "metadata": {
      "needs_background": "light"
     },
     "output_type": "display_data"
    }
   ],
   "source": [
    "top_brands.plot(kind='bar', title='Popular car brands')\n",
    "plt.ylabel('proportion in the market');"
   ]
  },
  {
   "cell_type": "markdown",
   "metadata": {},
   "source": [
    "\n",
    "**Analysis**\n",
    ">- Volkswagen is the most polular choice, counting more than 20% of the market\n",
    ">- BMW, Opel, mercedes_benz and audi are the next popular one, but far from volkswagen's popularity"
   ]
  },
  {
   "cell_type": "code",
   "execution_count": 62,
   "metadata": {},
   "outputs": [
    {
     "data": {
      "text/plain": [
       "Index(['volkswagen', 'bmw', 'opel', 'mercedes_benz', 'audi', 'ford'], dtype='object')"
      ]
     },
     "execution_count": 62,
     "metadata": {},
     "output_type": "execute_result"
    }
   ],
   "source": [
    "top_brands.index"
   ]
  },
  {
   "cell_type": "code",
   "execution_count": 63,
   "metadata": {},
   "outputs": [
    {
     "data": {
      "text/plain": [
       "{'volkswagen': 5617,\n",
       " 'bmw': 8601,\n",
       " 'opel': 3150,\n",
       " 'mercedes_benz': 8605,\n",
       " 'audi': 9273,\n",
       " 'ford': 3913}"
      ]
     },
     "execution_count": 63,
     "metadata": {},
     "output_type": "execute_result"
    }
   ],
   "source": [
    "brand_m_prices_dict = {}   # empty dictionary\n",
    "\n",
    "for brand in top_brands.index:\n",
    "    one_brand_data = autos[autos[\"brand\"] == brand]\n",
    "    mean_price = one_brand_data[\"price\"].mean()\n",
    "    brand_m_prices_dict[brand] = int(mean_price)     # add item in dict as ---> my_dict5['address'] = \"Cantt\"\n",
    "\n",
    "brand_m_prices_dict"
   ]
  },
  {
   "cell_type": "code",
   "execution_count": 64,
   "metadata": {},
   "outputs": [
    {
     "data": {
      "text/plain": [
       "dict_keys(['volkswagen', 'bmw', 'opel', 'mercedes_benz', 'audi', 'ford'])"
      ]
     },
     "execution_count": 64,
     "metadata": {},
     "output_type": "execute_result"
    }
   ],
   "source": [
    "brand_m_prices_dict.keys()"
   ]
  },
  {
   "cell_type": "code",
   "execution_count": 65,
   "metadata": {},
   "outputs": [
    {
     "data": {
      "text/plain": [
       "dict_values([5617, 8601, 3150, 8605, 9273, 3913])"
      ]
     },
     "execution_count": 65,
     "metadata": {},
     "output_type": "execute_result"
    }
   ],
   "source": [
    "brand_m_prices_dict.values()"
   ]
  },
  {
   "cell_type": "code",
   "execution_count": 66,
   "metadata": {},
   "outputs": [
    {
     "data": {
      "image/png": "[encoded data removed]",
      "text/plain": [
       "<Figure size 432x288 with 1 Axes>"
      ]
     },
     "metadata": {
      "needs_background": "light"
     },
     "output_type": "display_data"
    }
   ],
   "source": [
    "plt.bar(brand_m_prices_dict.keys(), brand_m_prices_dict.values())\n",
    "plt.xlabel('top brands')\n",
    "plt.ylabel('mean price')\n",
    "plt.title('Price of top car brands');"
   ]
  },
  {
   "cell_type": "markdown",
   "metadata": {},
   "source": [
    "For sorted values-\n",
    "1. either convert dict to series & sort\n",
    "2. directly sort a doctionary"
   ]
  },
  {
   "cell_type": "code",
   "execution_count": 67,
   "metadata": {},
   "outputs": [
    {
     "ename": "NameError",
     "evalue": "name 'brand_mean_prices' is not defined",
     "output_type": "error",
     "traceback": [
      "\u001b[0;31m---------------------------------------------------------------------------\u001b[0m",
      "\u001b[0;31mNameError\u001b[0m                                 Traceback (most recent call last)",
      "\u001b[0;32m/var/folders/1j/6bqwtp0x00z_279498pht7ym0000gn/T/ipykernel_38647/1504802791.py\u001b[0m in \u001b[0;36m<module>\u001b[0;34m\u001b[0m\n\u001b[1;32m      1\u001b[0m \u001b[0;31m# For sorted vales, first convert dict to series\u001b[0m\u001b[0;34m\u001b[0m\u001b[0;34m\u001b[0m\u001b[0;34m\u001b[0m\u001b[0m\n\u001b[0;32m----> 2\u001b[0;31m \u001b[0mmean_prices\u001b[0m \u001b[0;34m=\u001b[0m \u001b[0mpd\u001b[0m\u001b[0;34m.\u001b[0m\u001b[0mSeries\u001b[0m\u001b[0;34m(\u001b[0m\u001b[0mbrand_mean_prices\u001b[0m\u001b[0;34m)\u001b[0m\u001b[0;34m.\u001b[0m\u001b[0msort_values\u001b[0m\u001b[0;34m(\u001b[0m\u001b[0mascending\u001b[0m\u001b[0;34m=\u001b[0m\u001b[0;32mFalse\u001b[0m\u001b[0;34m)\u001b[0m\u001b[0;34m\u001b[0m\u001b[0;34m\u001b[0m\u001b[0m\n\u001b[0m\u001b[1;32m      3\u001b[0m \u001b[0mmean_prices\u001b[0m\u001b[0;34m\u001b[0m\u001b[0;34m\u001b[0m\u001b[0m\n",
      "\u001b[0;31mNameError\u001b[0m: name 'brand_mean_prices' is not defined"
     ]
    }
   ],
   "source": [
    "# For sorted vales, first convert dict to series\n",
    "mean_prices = pd.Series(brand_mean_prices).sort_values(ascending=False)\n",
    "mean_prices"
   ]
  },
  {
   "cell_type": "code",
   "execution_count": null,
   "metadata": {},
   "outputs": [],
   "source": [
    "mean_prices.index"
   ]
  },
  {
   "cell_type": "code",
   "execution_count": null,
   "metadata": {},
   "outputs": [],
   "source": [
    "mean_prices.values"
   ]
  },
  {
   "cell_type": "code",
   "execution_count": null,
   "metadata": {},
   "outputs": [],
   "source": [
    "plt.bar(mean_prices.index, mean_prices.values)\n",
    "plt.xlabel('top brands')\n",
    "plt.ylabel('mean price')\n",
    "plt.title('Price of top car brands');"
   ]
  },
  {
   "cell_type": "markdown",
   "metadata": {},
   "source": [
    "### Answer 1:###  \n",
    "\n",
    ">- Among these popular brands, Audi is the most expensive, average price is 9381 dollars, followed by 8680 for BMW and 8664 for Mercedes. Volkswagen is more affordable ofr most people, average price is 5688. Ford and Opel are least expensive with average price under 4000."
   ]
  },
  {
   "cell_type": "markdown",
   "metadata": {},
   "source": [
    "### Question 2: Among common brands,  are there large differences on kilometer that can affect listing price?"
   ]
  },
  {
   "cell_type": "code",
   "execution_count": null,
   "metadata": {},
   "outputs": [],
   "source": [
    "top_brands"
   ]
  },
  {
   "cell_type": "code",
   "execution_count": null,
   "metadata": {},
   "outputs": [],
   "source": [
    "km_dict = {}\n",
    "\n",
    "for i in top_brands.index:\n",
    "    one_brand_data = autos[autos['brand'] == i]\n",
    "    km = one_brand_data['kilometer'].mean()\n",
    "    # add into dictionary values\n",
    "    km_dict[i] = int(km)\n",
    "print(km_dict)\n",
    "\n",
    "sorted_dict = {k: v for k, v in sorted(km_dict.items(), key=lambda item: item[1])}\n",
    "sorted_dict"
   ]
  },
  {
   "cell_type": "code",
   "execution_count": null,
   "metadata": {},
   "outputs": [],
   "source": [
    "# plot on sorted dictionary\n",
    "plt.bar(sorted_dict.keys(), sorted_dict.values())\n",
    "plt.xlabel('top brands')\n",
    "plt.ylabel('avg km')\n",
    "plt.title('Avg km top car brands');"
   ]
  },
  {
   "cell_type": "markdown",
   "metadata": {},
   "source": [
    "### Answer 2:###\n",
    "\n",
    "- Among these common brands of cars on sale, the average of odometers are all ablove 100000km. The range of car mileages does not vary as much as the prices do by brand."
   ]
  },
  {
   "cell_type": "markdown",
   "metadata": {},
   "source": [
    "### Question 3: What are the factors that affect car price?\n",
    "Visualizatins used-\n",
    "1. Numerical columns - Correlation plot and scatterplot\n",
    "2. Categorical columns - bar chart   (use groupby to access each categorical variable w.r.t price)"
   ]
  },
  {
   "cell_type": "markdown",
   "metadata": {},
   "source": [
    "### Q3_Step1: First we will analyze using correlation heatmap (only numerical columns can be analysed in correlation plot) & check how they are correlated with the car price. Also check scatter chart."
   ]
  },
  {
   "cell_type": "code",
   "execution_count": null,
   "metadata": {
    "scrolled": true
   },
   "outputs": [],
   "source": [
    "# plot correlation heatmap\n",
    "sns.heatmap(autos.corr(),annot=True,cmap='coolwarm');"
   ]
  },
  {
   "cell_type": "markdown",
   "metadata": {},
   "source": [
    "**Analysis**\n",
    ">- Prices are positively correlated with power_ps and registration_year. Power_ps has stronger correlation.\n",
    ">- Prices are negatively correlated with kilometer"
   ]
  },
  {
   "cell_type": "code",
   "execution_count": null,
   "metadata": {},
   "outputs": [],
   "source": [
    "# plot scatter chart to check the relation between 'registration_year' and 'price'\n",
    "autos.plot(kind='scatter', x='registration_year', y='price');"
   ]
  },
  {
   "cell_type": "markdown",
   "metadata": {},
   "source": [
    "**Analysis**\n",
    ">- In general, the newer the cars, the higher the prices, but for a given registration year, there are still huge gap on prices"
   ]
  },
  {
   "cell_type": "code",
   "execution_count": null,
   "metadata": {},
   "outputs": [],
   "source": [
    "# plot scatter chart to check the relation between 'power_ps' and 'price'\n",
    "autos.plot(kind='scatter', x='power_ps', y='price');"
   ]
  },
  {
   "cell_type": "markdown",
   "metadata": {},
   "source": [
    "**Analysis**\n",
    "\n",
    "1. Most cars have pow_ps under 400\n",
    "2. In general the higher the power_ps, the higher the price\n",
    "3. there are cars with extremely high power_ps, but prices range is still very large. "
   ]
  },
  {
   "cell_type": "markdown",
   "metadata": {},
   "source": [
    "### Q3_Step2: We will analyze the columns with catergorical string values using bar chart."
   ]
  },
  {
   "cell_type": "markdown",
   "metadata": {},
   "source": [
    "**1.'vehicle_type'**"
   ]
  },
  {
   "cell_type": "code",
   "execution_count": null,
   "metadata": {},
   "outputs": [],
   "source": [
    "vtype_price=autos.groupby('vehicle_type')['price'].mean()\n",
    "vtype_price.sort_values().plot(kind='bar')\n",
    "\n",
    "plt.ylabel('price');"
   ]
  },
  {
   "cell_type": "markdown",
   "metadata": {},
   "source": [
    "**Analyze**\n",
    ">- As we can see, suv is the most expensive ones, and kleinwagen the lease expensive. "
   ]
  },
  {
   "cell_type": "markdown",
   "metadata": {},
   "source": [
    "**2.'gearbox'**"
   ]
  },
  {
   "cell_type": "code",
   "execution_count": null,
   "metadata": {},
   "outputs": [],
   "source": [
    "# Analyze whether the damege is repaired can positively influnce the price\n",
    "gearbox_price=autos.groupby('gearbox')['price'].mean()\n",
    "gearbox_price.sort_values().plot(kind='bar')\n",
    "\n",
    "plt.ylabel('price');"
   ]
  },
  {
   "cell_type": "markdown",
   "metadata": {},
   "source": [
    "**Analysis**\n",
    ">- In general, automatic cars are more expensive"
   ]
  },
  {
   "cell_type": "markdown",
   "metadata": {},
   "source": [
    "**3.'fuel_type'**"
   ]
  },
  {
   "cell_type": "code",
   "execution_count": null,
   "metadata": {},
   "outputs": [],
   "source": [
    "fuel_price=autos.groupby('fuel_type')['price'].mean()\n",
    "fuel_price.sort_values().plot(kind='bar')\n",
    "\n",
    "plt.ylabel('price');"
   ]
  },
  {
   "cell_type": "markdown",
   "metadata": {},
   "source": [
    "**Analysis**\n",
    "\n",
    ">- hybrid are most expensive one and tightlt followed by elektro, diesel and benzin."
   ]
  },
  {
   "cell_type": "markdown",
   "metadata": {},
   "source": [
    "**4.'unrepaired_damage'**"
   ]
  },
  {
   "cell_type": "code",
   "execution_count": null,
   "metadata": {},
   "outputs": [],
   "source": [
    "# Analyze whether the damege is repaired can positively influnce the price\n",
    "unrepaired_price=autos.groupby('unrepaired_damage')['price'].mean()\n",
    "unrepaired_price.sort_values().plot(kind='bar')\n",
    "\n",
    "plt.ylabel('price');"
   ]
  },
  {
   "cell_type": "markdown",
   "metadata": {},
   "source": [
    "**Analysis**\n",
    "\n",
    ">- In general, when the demage is repaired, the car prices are higher"
   ]
  },
  {
   "cell_type": "markdown",
   "metadata": {},
   "source": [
    "**5.'brand'**\n",
    "\n",
    "- If u need top 20 brands then ascending parameter in sorting is important. When you use head(20) you will get top ones only if they are sorted from high to low."
   ]
  },
  {
   "cell_type": "code",
   "execution_count": null,
   "metadata": {},
   "outputs": [],
   "source": [
    "top_20_expensive=autos.groupby('brand')['price'].mean()\n",
    "\n",
    "top_20_expensive.sort_values(ascending=False).head(20).plot(kind='bar',title='Top 20 expensive brands', figsize=(10, 5));   # ascending=False to get top 20 values\n",
    "\n"
   ]
  },
  {
   "cell_type": "markdown",
   "metadata": {},
   "source": [
    "**Analysis**\n",
    ">- Porsche is the most expensive brand, the average price double the following competitor 'land_rover'. \n",
    ">- The top 6 most expensive brands are all not the most common brands. The most popular brand volkswagen has very affordable average price."
   ]
  },
  {
   "cell_type": "markdown",
   "metadata": {},
   "source": [
    "### Q3_Step4: Let's analyze the most popular brand 'volkswagen', and see how car model and car name length can affect prices"
   ]
  },
  {
   "cell_type": "code",
   "execution_count": null,
   "metadata": {},
   "outputs": [],
   "source": [
    "# Selet the rows that are volkswagen for analyze\n",
    "volkswagen=autos[autos['brand']=='volkswagen']\n",
    "print(len(volkswagen))\n",
    "volkswagen.head()\n"
   ]
  },
  {
   "cell_type": "code",
   "execution_count": null,
   "metadata": {},
   "outputs": [],
   "source": [
    "volkswagen.describe(include='all')"
   ]
  },
  {
   "cell_type": "markdown",
   "metadata": {},
   "source": [
    "**Analyse Models w.r.t most popular brand volkswagen**"
   ]
  },
  {
   "cell_type": "code",
   "execution_count": null,
   "metadata": {},
   "outputs": [],
   "source": [
    "m = volkswagen['model'].value_counts().sort_values(ascending=False)                            "
   ]
  },
  {
   "cell_type": "markdown",
   "metadata": {},
   "source": [
    "Using pandas inbuilt function to plot (plotting series here)"
   ]
  },
  {
   "cell_type": "code",
   "execution_count": null,
   "metadata": {},
   "outputs": [],
   "source": [
    "# Most common model under brand volkswagen\n",
    "\n",
    "m.plot(kind='bar', figsize=(10,5), title=('Models most sold for Volkswagen'));"
   ]
  },
  {
   "cell_type": "markdown",
   "metadata": {},
   "source": [
    "**Analysis**\n",
    "\n",
    "- There are huge gap on number of different car model sold. \n",
    "- For volkswagen, amorok is the most expensive ones however least sold brand.\n",
    "- Golf is most sold and cheaper model.\n"
   ]
  },
  {
   "cell_type": "code",
   "execution_count": null,
   "metadata": {},
   "outputs": [],
   "source": [
    "p = volkswagen.groupby('model')['price'].mean()\n",
    "p.sort_values(ascending=False).plot(kind='bar', figsize=(10,5), title=('Prices range for car models for Volkswagen'));\n"
   ]
  },
  {
   "cell_type": "markdown",
   "metadata": {},
   "source": [
    "**Analysis**\n",
    "\n",
    ">- There are huge price gap on different car model. For volkswagen, amorok is the most expensive ones, and lupo the least expensive one.\n",
    "\n"
   ]
  },
  {
   "cell_type": "markdown",
   "metadata": {},
   "source": [
    "**Analyse Models w.r.t name length for most popular brand volkswagen**"
   ]
  },
  {
   "cell_type": "code",
   "execution_count": null,
   "metadata": {},
   "outputs": [],
   "source": [
    "# Add a new columns for the name length\n",
    "volkswagen['name_length']=volkswagen['name'].apply(len)\n"
   ]
  },
  {
   "cell_type": "code",
   "execution_count": null,
   "metadata": {},
   "outputs": [],
   "source": [
    "volkswagen[['price','name_length']].corr()"
   ]
  },
  {
   "cell_type": "code",
   "execution_count": null,
   "metadata": {},
   "outputs": [],
   "source": [
    "volkswagen.head(2)"
   ]
  },
  {
   "cell_type": "markdown",
   "metadata": {},
   "source": [
    "**Analysis**\n",
    ">- name_lenth is positively correlated with price, as the longer the name is, the more features are added, so the price is higher, but the correlation is not strong."
   ]
  },
  {
   "cell_type": "markdown",
   "metadata": {},
   "source": [
    "### Answer 3: \n",
    "> - From the correlation heatmap and scatter chart, we can conclude `price` are positively correlated with `power_ps` and `registration_year` and are negatively correlated with `kilometer` in general, and `power_ps` is has stronger influence.\n",
    "> - The other strong catagorical factors that affect the car price are the brand and whether the damage is repaired or not; Also automic are much mroe expensive than manual\n",
    "> - vehicle_type and fuel_type have strong effects too\n",
    "> - By analyzing data for volkswagen which is the most common brand in Germany, we can see the above conclusions are consistent for specific car brand. And for the same brand, different models have high price ranges too."
   ]
  },
  {
   "cell_type": "code",
   "execution_count": null,
   "metadata": {},
   "outputs": [],
   "source": []
  }
 ],
 "metadata": {
  "kernelspec": {
   "display_name": "Python 3 (ipykernel)",
   "language": "python",
   "name": "python3"
  },
  "language_info": {
   "codemirror_mode": {
    "name": "ipython",
    "version": 3
   },
   "file_extension": ".py",
   "mimetype": "text/x-python",
   "name": "python",
   "nbconvert_exporter": "python",
   "pygments_lexer": "ipython3",
   "version": "3.7.7"
  }
 },
 "nbformat": 4,
 "nbformat_minor": 2
}
