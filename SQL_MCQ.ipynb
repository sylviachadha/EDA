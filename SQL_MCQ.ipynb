{
 "cells": [
  {
   "cell_type": "markdown",
   "id": "8964c984",
   "metadata": {},
   "source": [
    "#### Few Topics\n",
    "\n",
    "1. views  \n",
    "2. cursor  \n",
    "3. subqueries  \n",
    "4. triggers\n",
    "5. stored procedures\n",
    "6. constraints\n",
    "7. math operations\n",
    "8. Time related\n",
    "9. IFNULL, DEFAULT keywords\n",
    "10. Alter\n"
   ]
  },
  {
   "cell_type": "markdown",
   "id": "3dd3c90a",
   "metadata": {},
   "source": [
    "Queries from Database (Quiz3)\n",
    "\n",
    "https://data-flair.training/blogs/sql-online-quiz-questions-answers/\n"
   ]
  },
  {
   "cell_type": "code",
   "execution_count": null,
   "id": "4fa316bb",
   "metadata": {},
   "outputs": [],
   "source": []
  }
 ],
 "metadata": {
  "kernelspec": {
   "display_name": "Python 3 (ipykernel)",
   "language": "python",
   "name": "python3"
  },
  "language_info": {
   "codemirror_mode": {
    "name": "ipython",
    "version": 3
   },
   "file_extension": ".py",
   "mimetype": "text/x-python",
   "name": "python",
   "nbconvert_exporter": "python",
   "pygments_lexer": "ipython3",
   "version": "3.8.15"
  }
 },
 "nbformat": 4,
 "nbformat_minor": 5
}
