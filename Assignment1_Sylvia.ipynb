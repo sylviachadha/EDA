{
 "cells": [
  {
   "cell_type": "markdown",
   "id": "baa1c86d",
   "metadata": {},
   "source": [
    "## Assignment 1"
   ]
  },
  {
   "cell_type": "markdown",
   "id": "7d6de6c1",
   "metadata": {},
   "source": [
    "## Exploratory Data Analysis \n"
   ]
  },
  {
   "cell_type": "markdown",
   "id": "f3452301",
   "metadata": {},
   "source": [
    "## PGCP DSML IITR-TimesPro\n"
   ]
  },
  {
   "cell_type": "markdown",
   "id": "a7edb20a",
   "metadata": {},
   "source": [
    "### Submitted by - Sylvia Chadha"
   ]
  },
  {
   "cell_type": "markdown",
   "id": "e77c928a",
   "metadata": {},
   "source": [
    "### Problem Statement\n",
    "\n",
    "Using the waiter’s tip data set, perform the following analysis to understand what how tips to waiter is influenced by various parameters \n",
    "\n"
   ]
  },
  {
   "cell_type": "markdown",
   "id": "767c4b04",
   "metadata": {},
   "source": [
    "### Dataset Description \n",
    "\n",
    "Filename: tips.csv \n",
    "\n",
    "Description for individual columns are listed below \n",
    "\n",
    "- total_bill: bill in dollars \n",
    "\n",
    "- tip: tip in dollars \n",
    "\n",
    "- sex: gender of the bill payer \n",
    "\n",
    "- smoker: whether there were smokers in the party \n",
    "\n",
    "- day: day of the week \n",
    "\n",
    "- time: time of day \n",
    "\n",
    "- size: size of the party "
   ]
  },
  {
   "cell_type": "markdown",
   "id": "227c4451",
   "metadata": {},
   "source": [
    "### Import libraries, Load dataset, Basic info for dataset."
   ]
  },
  {
   "cell_type": "code",
   "execution_count": 23,
   "id": "e7a26d7d",
   "metadata": {},
   "outputs": [],
   "source": [
    "import pandas as pd\n",
    "import matplotlib.pyplot as plt\n",
    "import seaborn as sns"
   ]
  },
  {
   "cell_type": "code",
   "execution_count": 2,
   "id": "c813e0ef",
   "metadata": {},
   "outputs": [
    {
     "name": "stdout",
     "output_type": "stream",
     "text": [
      "(244, 7)\n"
     ]
    },
    {
     "data": {
      "text/html": [
       "<div>\n",
       "<style scoped>\n",
       "    .dataframe tbody tr th:only-of-type {\n",
       "        vertical-align: middle;\n",
       "    }\n",
       "\n",
       "    .dataframe tbody tr th {\n",
       "        vertical-align: top;\n",
       "    }\n",
       "\n",
       "    .dataframe thead th {\n",
       "        text-align: right;\n",
       "    }\n",
       "</style>\n",
       "<table border=\"1\" class=\"dataframe\">\n",
       "  <thead>\n",
       "    <tr style=\"text-align: right;\">\n",
       "      <th></th>\n",
       "      <th>total_bill</th>\n",
       "      <th>tip</th>\n",
       "      <th>sex</th>\n",
       "      <th>smoker</th>\n",
       "      <th>day</th>\n",
       "      <th>time</th>\n",
       "      <th>size</th>\n",
       "    </tr>\n",
       "  </thead>\n",
       "  <tbody>\n",
       "    <tr>\n",
       "      <th>0</th>\n",
       "      <td>16.99</td>\n",
       "      <td>1.01</td>\n",
       "      <td>Female</td>\n",
       "      <td>No</td>\n",
       "      <td>Sun</td>\n",
       "      <td>Dinner</td>\n",
       "      <td>2</td>\n",
       "    </tr>\n",
       "    <tr>\n",
       "      <th>1</th>\n",
       "      <td>10.34</td>\n",
       "      <td>1.66</td>\n",
       "      <td>Male</td>\n",
       "      <td>No</td>\n",
       "      <td>Sun</td>\n",
       "      <td>Dinner</td>\n",
       "      <td>3</td>\n",
       "    </tr>\n",
       "    <tr>\n",
       "      <th>2</th>\n",
       "      <td>21.01</td>\n",
       "      <td>3.50</td>\n",
       "      <td>Male</td>\n",
       "      <td>No</td>\n",
       "      <td>Sun</td>\n",
       "      <td>Dinner</td>\n",
       "      <td>3</td>\n",
       "    </tr>\n",
       "    <tr>\n",
       "      <th>3</th>\n",
       "      <td>23.68</td>\n",
       "      <td>3.31</td>\n",
       "      <td>Male</td>\n",
       "      <td>No</td>\n",
       "      <td>Sun</td>\n",
       "      <td>Dinner</td>\n",
       "      <td>2</td>\n",
       "    </tr>\n",
       "    <tr>\n",
       "      <th>4</th>\n",
       "      <td>24.59</td>\n",
       "      <td>3.61</td>\n",
       "      <td>Female</td>\n",
       "      <td>No</td>\n",
       "      <td>Sun</td>\n",
       "      <td>Dinner</td>\n",
       "      <td>4</td>\n",
       "    </tr>\n",
       "  </tbody>\n",
       "</table>\n",
       "</div>"
      ],
      "text/plain": [
       "   total_bill   tip     sex smoker  day    time  size\n",
       "0       16.99  1.01  Female     No  Sun  Dinner     2\n",
       "1       10.34  1.66    Male     No  Sun  Dinner     3\n",
       "2       21.01  3.50    Male     No  Sun  Dinner     3\n",
       "3       23.68  3.31    Male     No  Sun  Dinner     2\n",
       "4       24.59  3.61  Female     No  Sun  Dinner     4"
      ]
     },
     "execution_count": 2,
     "metadata": {},
     "output_type": "execute_result"
    }
   ],
   "source": [
    "data = pd.read_csv('/Users/sylvia/Desktop/datasets/tips.csv')\n",
    "print(data.shape)\n",
    "data.head()"
   ]
  },
  {
   "cell_type": "code",
   "execution_count": 3,
   "id": "f8a3f7f9",
   "metadata": {},
   "outputs": [
    {
     "name": "stdout",
     "output_type": "stream",
     "text": [
      "<class 'pandas.core.frame.DataFrame'>\n",
      "RangeIndex: 244 entries, 0 to 243\n",
      "Data columns (total 7 columns):\n",
      " #   Column      Non-Null Count  Dtype  \n",
      "---  ------      --------------  -----  \n",
      " 0   total_bill  244 non-null    float64\n",
      " 1   tip         244 non-null    float64\n",
      " 2   sex         244 non-null    object \n",
      " 3   smoker      244 non-null    object \n",
      " 4   day         244 non-null    object \n",
      " 5   time        244 non-null    object \n",
      " 6   size        244 non-null    int64  \n",
      "dtypes: float64(2), int64(1), object(4)\n",
      "memory usage: 13.5+ KB\n"
     ]
    }
   ],
   "source": [
    "data.info()"
   ]
  },
  {
   "cell_type": "code",
   "execution_count": 4,
   "id": "65a3810b",
   "metadata": {},
   "outputs": [
    {
     "data": {
      "text/html": [
       "<div>\n",
       "<style scoped>\n",
       "    .dataframe tbody tr th:only-of-type {\n",
       "        vertical-align: middle;\n",
       "    }\n",
       "\n",
       "    .dataframe tbody tr th {\n",
       "        vertical-align: top;\n",
       "    }\n",
       "\n",
       "    .dataframe thead th {\n",
       "        text-align: right;\n",
       "    }\n",
       "</style>\n",
       "<table border=\"1\" class=\"dataframe\">\n",
       "  <thead>\n",
       "    <tr style=\"text-align: right;\">\n",
       "      <th></th>\n",
       "      <th>total_bill</th>\n",
       "      <th>tip</th>\n",
       "      <th>size</th>\n",
       "    </tr>\n",
       "  </thead>\n",
       "  <tbody>\n",
       "    <tr>\n",
       "      <th>count</th>\n",
       "      <td>244.000000</td>\n",
       "      <td>244.000000</td>\n",
       "      <td>244.000000</td>\n",
       "    </tr>\n",
       "    <tr>\n",
       "      <th>mean</th>\n",
       "      <td>19.785943</td>\n",
       "      <td>2.998279</td>\n",
       "      <td>2.569672</td>\n",
       "    </tr>\n",
       "    <tr>\n",
       "      <th>std</th>\n",
       "      <td>8.902412</td>\n",
       "      <td>1.383638</td>\n",
       "      <td>0.951100</td>\n",
       "    </tr>\n",
       "    <tr>\n",
       "      <th>min</th>\n",
       "      <td>3.070000</td>\n",
       "      <td>1.000000</td>\n",
       "      <td>1.000000</td>\n",
       "    </tr>\n",
       "    <tr>\n",
       "      <th>25%</th>\n",
       "      <td>13.347500</td>\n",
       "      <td>2.000000</td>\n",
       "      <td>2.000000</td>\n",
       "    </tr>\n",
       "    <tr>\n",
       "      <th>50%</th>\n",
       "      <td>17.795000</td>\n",
       "      <td>2.900000</td>\n",
       "      <td>2.000000</td>\n",
       "    </tr>\n",
       "    <tr>\n",
       "      <th>75%</th>\n",
       "      <td>24.127500</td>\n",
       "      <td>3.562500</td>\n",
       "      <td>3.000000</td>\n",
       "    </tr>\n",
       "    <tr>\n",
       "      <th>max</th>\n",
       "      <td>50.810000</td>\n",
       "      <td>10.000000</td>\n",
       "      <td>6.000000</td>\n",
       "    </tr>\n",
       "  </tbody>\n",
       "</table>\n",
       "</div>"
      ],
      "text/plain": [
       "       total_bill         tip        size\n",
       "count  244.000000  244.000000  244.000000\n",
       "mean    19.785943    2.998279    2.569672\n",
       "std      8.902412    1.383638    0.951100\n",
       "min      3.070000    1.000000    1.000000\n",
       "25%     13.347500    2.000000    2.000000\n",
       "50%     17.795000    2.900000    2.000000\n",
       "75%     24.127500    3.562500    3.000000\n",
       "max     50.810000   10.000000    6.000000"
      ]
     },
     "execution_count": 4,
     "metadata": {},
     "output_type": "execute_result"
    }
   ],
   "source": [
    "data.describe()"
   ]
  },
  {
   "cell_type": "code",
   "execution_count": 5,
   "id": "808eb98e",
   "metadata": {},
   "outputs": [
    {
     "data": {
      "text/html": [
       "<div>\n",
       "<style scoped>\n",
       "    .dataframe tbody tr th:only-of-type {\n",
       "        vertical-align: middle;\n",
       "    }\n",
       "\n",
       "    .dataframe tbody tr th {\n",
       "        vertical-align: top;\n",
       "    }\n",
       "\n",
       "    .dataframe thead th {\n",
       "        text-align: right;\n",
       "    }\n",
       "</style>\n",
       "<table border=\"1\" class=\"dataframe\">\n",
       "  <thead>\n",
       "    <tr style=\"text-align: right;\">\n",
       "      <th></th>\n",
       "      <th>sex</th>\n",
       "      <th>smoker</th>\n",
       "      <th>day</th>\n",
       "      <th>time</th>\n",
       "    </tr>\n",
       "  </thead>\n",
       "  <tbody>\n",
       "    <tr>\n",
       "      <th>count</th>\n",
       "      <td>244</td>\n",
       "      <td>244</td>\n",
       "      <td>244</td>\n",
       "      <td>244</td>\n",
       "    </tr>\n",
       "    <tr>\n",
       "      <th>unique</th>\n",
       "      <td>2</td>\n",
       "      <td>2</td>\n",
       "      <td>4</td>\n",
       "      <td>2</td>\n",
       "    </tr>\n",
       "    <tr>\n",
       "      <th>top</th>\n",
       "      <td>Male</td>\n",
       "      <td>No</td>\n",
       "      <td>Sat</td>\n",
       "      <td>Dinner</td>\n",
       "    </tr>\n",
       "    <tr>\n",
       "      <th>freq</th>\n",
       "      <td>157</td>\n",
       "      <td>151</td>\n",
       "      <td>87</td>\n",
       "      <td>176</td>\n",
       "    </tr>\n",
       "  </tbody>\n",
       "</table>\n",
       "</div>"
      ],
      "text/plain": [
       "         sex smoker  day    time\n",
       "count    244    244  244     244\n",
       "unique     2      2    4       2\n",
       "top     Male     No  Sat  Dinner\n",
       "freq     157    151   87     176"
      ]
     },
     "execution_count": 5,
     "metadata": {},
     "output_type": "execute_result"
    }
   ],
   "source": [
    "data.describe(include='object')"
   ]
  },
  {
   "cell_type": "markdown",
   "id": "81ff1f70",
   "metadata": {},
   "source": [
    "### Identify kpi - tips and remove outliers from kpi"
   ]
  },
  {
   "cell_type": "code",
   "execution_count": 6,
   "id": "03d39f04",
   "metadata": {},
   "outputs": [
    {
     "data": {
      "image/png": "[encoded data removed]",
      "text/plain": [
       "<Figure size 432x288 with 1 Axes>"
      ]
     },
     "metadata": {
      "needs_background": "light"
     },
     "output_type": "display_data"
    }
   ],
   "source": [
    "sns.boxplot(x=data['tip'])\n",
    "plt.title('tip distribution analysis')\n",
    "plt.show();"
   ]
  },
  {
   "cell_type": "code",
   "execution_count": 7,
   "id": "4c56298c",
   "metadata": {},
   "outputs": [
    {
     "data": {
      "text/plain": [
       "5.90625"
      ]
     },
     "execution_count": 7,
     "metadata": {},
     "output_type": "execute_result"
    }
   ],
   "source": [
    "q1 = data['tip'].quantile(0.25)\n",
    "q3 = data['tip'].quantile(0.75)\n",
    "iqr = q3 - q1\n",
    "uw = q3 + 1.5 * iqr\n",
    "\n",
    "uw"
   ]
  },
  {
   "cell_type": "code",
   "execution_count": 8,
   "id": "05d618da",
   "metadata": {},
   "outputs": [
    {
     "name": "stdout",
     "output_type": "stream",
     "text": [
      "Number of tips greater than upper whisker = 9 tips\n"
     ]
    }
   ],
   "source": [
    "outl = data[data['tip'] > uw]\n",
    "print('Number of tips greater than upper whisker =', len(outl),'tips')"
   ]
  },
  {
   "cell_type": "code",
   "execution_count": 9,
   "id": "ce6e3816",
   "metadata": {},
   "outputs": [
    {
     "data": {
      "text/html": [
       "<div>\n",
       "<style scoped>\n",
       "    .dataframe tbody tr th:only-of-type {\n",
       "        vertical-align: middle;\n",
       "    }\n",
       "\n",
       "    .dataframe tbody tr th {\n",
       "        vertical-align: top;\n",
       "    }\n",
       "\n",
       "    .dataframe thead th {\n",
       "        text-align: right;\n",
       "    }\n",
       "</style>\n",
       "<table border=\"1\" class=\"dataframe\">\n",
       "  <thead>\n",
       "    <tr style=\"text-align: right;\">\n",
       "      <th></th>\n",
       "      <th>total_bill</th>\n",
       "      <th>tip</th>\n",
       "      <th>sex</th>\n",
       "      <th>smoker</th>\n",
       "      <th>day</th>\n",
       "      <th>time</th>\n",
       "      <th>size</th>\n",
       "    </tr>\n",
       "  </thead>\n",
       "  <tbody>\n",
       "    <tr>\n",
       "      <th>23</th>\n",
       "      <td>39.42</td>\n",
       "      <td>7.58</td>\n",
       "      <td>Male</td>\n",
       "      <td>No</td>\n",
       "      <td>Sat</td>\n",
       "      <td>Dinner</td>\n",
       "      <td>4</td>\n",
       "    </tr>\n",
       "    <tr>\n",
       "      <th>47</th>\n",
       "      <td>32.40</td>\n",
       "      <td>6.00</td>\n",
       "      <td>Male</td>\n",
       "      <td>No</td>\n",
       "      <td>Sun</td>\n",
       "      <td>Dinner</td>\n",
       "      <td>4</td>\n",
       "    </tr>\n",
       "    <tr>\n",
       "      <th>59</th>\n",
       "      <td>48.27</td>\n",
       "      <td>6.73</td>\n",
       "      <td>Male</td>\n",
       "      <td>No</td>\n",
       "      <td>Sat</td>\n",
       "      <td>Dinner</td>\n",
       "      <td>4</td>\n",
       "    </tr>\n",
       "    <tr>\n",
       "      <th>141</th>\n",
       "      <td>34.30</td>\n",
       "      <td>6.70</td>\n",
       "      <td>Male</td>\n",
       "      <td>No</td>\n",
       "      <td>Thur</td>\n",
       "      <td>Lunch</td>\n",
       "      <td>6</td>\n",
       "    </tr>\n",
       "    <tr>\n",
       "      <th>170</th>\n",
       "      <td>50.81</td>\n",
       "      <td>10.00</td>\n",
       "      <td>Male</td>\n",
       "      <td>Yes</td>\n",
       "      <td>Sat</td>\n",
       "      <td>Dinner</td>\n",
       "      <td>3</td>\n",
       "    </tr>\n",
       "    <tr>\n",
       "      <th>183</th>\n",
       "      <td>23.17</td>\n",
       "      <td>6.50</td>\n",
       "      <td>Male</td>\n",
       "      <td>Yes</td>\n",
       "      <td>Sun</td>\n",
       "      <td>Dinner</td>\n",
       "      <td>4</td>\n",
       "    </tr>\n",
       "    <tr>\n",
       "      <th>212</th>\n",
       "      <td>48.33</td>\n",
       "      <td>9.00</td>\n",
       "      <td>Male</td>\n",
       "      <td>No</td>\n",
       "      <td>Sat</td>\n",
       "      <td>Dinner</td>\n",
       "      <td>4</td>\n",
       "    </tr>\n",
       "    <tr>\n",
       "      <th>214</th>\n",
       "      <td>28.17</td>\n",
       "      <td>6.50</td>\n",
       "      <td>Female</td>\n",
       "      <td>Yes</td>\n",
       "      <td>Sat</td>\n",
       "      <td>Dinner</td>\n",
       "      <td>3</td>\n",
       "    </tr>\n",
       "    <tr>\n",
       "      <th>239</th>\n",
       "      <td>29.03</td>\n",
       "      <td>5.92</td>\n",
       "      <td>Male</td>\n",
       "      <td>No</td>\n",
       "      <td>Sat</td>\n",
       "      <td>Dinner</td>\n",
       "      <td>3</td>\n",
       "    </tr>\n",
       "  </tbody>\n",
       "</table>\n",
       "</div>"
      ],
      "text/plain": [
       "     total_bill    tip     sex smoker   day    time  size\n",
       "23        39.42   7.58    Male     No   Sat  Dinner     4\n",
       "47        32.40   6.00    Male     No   Sun  Dinner     4\n",
       "59        48.27   6.73    Male     No   Sat  Dinner     4\n",
       "141       34.30   6.70    Male     No  Thur   Lunch     6\n",
       "170       50.81  10.00    Male    Yes   Sat  Dinner     3\n",
       "183       23.17   6.50    Male    Yes   Sun  Dinner     4\n",
       "212       48.33   9.00    Male     No   Sat  Dinner     4\n",
       "214       28.17   6.50  Female    Yes   Sat  Dinner     3\n",
       "239       29.03   5.92    Male     No   Sat  Dinner     3"
      ]
     },
     "execution_count": 9,
     "metadata": {},
     "output_type": "execute_result"
    }
   ],
   "source": [
    "outl"
   ]
  },
  {
   "cell_type": "code",
   "execution_count": 10,
   "id": "dfb69378",
   "metadata": {},
   "outputs": [
    {
     "name": "stdout",
     "output_type": "stream",
     "text": [
      "% of outliers 3.6885245901639343\n"
     ]
    }
   ],
   "source": [
    "# % of outliers\n",
    "\n",
    "print('% of outliers',(len(outl)/len(data)*100))"
   ]
  },
  {
   "cell_type": "code",
   "execution_count": 11,
   "id": "e75250b3",
   "metadata": {},
   "outputs": [
    {
     "name": "stdout",
     "output_type": "stream",
     "text": [
      "Num of records after removing outliers 235\n"
     ]
    }
   ],
   "source": [
    "data.drop(data[data['tip'] > uw].index, inplace = True)\n",
    "\n",
    "print('Num of records after removing outliers', len(data))"
   ]
  },
  {
   "cell_type": "markdown",
   "id": "78eae902",
   "metadata": {},
   "source": [
    "### Question 1\n",
    "\n",
    "Calculate average tip by the following groups and visualize the same using bar charts (use subplots) \n",
    "- Gender,  \n",
    "- Size of the party \n",
    "- Smoker vs Non-Smoker \n",
    "- Day of the week "
   ]
  },
  {
   "cell_type": "markdown",
   "id": "9eabd9ce",
   "metadata": {},
   "source": [
    "### Groupby kpi w.r.t categorical variables"
   ]
  },
  {
   "cell_type": "code",
   "execution_count": 12,
   "id": "036fec43",
   "metadata": {},
   "outputs": [
    {
     "data": {
      "text/plain": [
       "sex\n",
       "Female    2.790814\n",
       "Male      2.863356\n",
       "Name: tip, dtype: float64"
      ]
     },
     "execution_count": 12,
     "metadata": {},
     "output_type": "execute_result"
    }
   ],
   "source": [
    "d_gender = data.groupby('sex')['tip'].mean()\n",
    "d_gender"
   ]
  },
  {
   "cell_type": "code",
   "execution_count": 13,
   "id": "5ef7199d",
   "metadata": {},
   "outputs": [
    {
     "data": {
      "text/plain": [
       "size\n",
       "1    1.437500\n",
       "2    2.582308\n",
       "3    3.043429\n",
       "4    3.662500\n",
       "5    4.028000\n",
       "6    4.733333\n",
       "Name: tip, dtype: float64"
      ]
     },
     "execution_count": 13,
     "metadata": {},
     "output_type": "execute_result"
    }
   ],
   "source": [
    "d_size = data.groupby('size')['tip'].mean()\n",
    "d_size"
   ]
  },
  {
   "cell_type": "code",
   "execution_count": 14,
   "id": "28e35e98",
   "metadata": {},
   "outputs": [
    {
     "data": {
      "text/plain": [
       "smoker\n",
       "No     2.826483\n",
       "Yes    2.853444\n",
       "Name: tip, dtype: float64"
      ]
     },
     "execution_count": 14,
     "metadata": {},
     "output_type": "execute_result"
    }
   ],
   "source": [
    "d_smoker = data.groupby('smoker')['tip'].mean()\n",
    "d_smoker"
   ]
  },
  {
   "cell_type": "code",
   "execution_count": 15,
   "id": "edfcfe39",
   "metadata": {},
   "outputs": [
    {
     "data": {
      "text/plain": [
       "day\n",
       "Fri     2.734737\n",
       "Sat     2.650247\n",
       "Sun     3.174189\n",
       "Thur    2.707049\n",
       "Name: tip, dtype: float64"
      ]
     },
     "execution_count": 15,
     "metadata": {},
     "output_type": "execute_result"
    }
   ],
   "source": [
    "d_day = data.groupby('day')['tip'].mean()\n",
    "d_day"
   ]
  },
  {
   "cell_type": "markdown",
   "id": "e7e724d1",
   "metadata": {},
   "source": [
    "### Visualize kpi w.r.t categorical variables"
   ]
  },
  {
   "cell_type": "code",
   "execution_count": 16,
   "id": "e032f217",
   "metadata": {},
   "outputs": [
    {
     "data": {
      "image/png": "[encoded data removed]",
      "text/plain": [
       "<Figure size 720x720 with 4 Axes>"
      ]
     },
     "metadata": {
      "needs_background": "light"
     },
     "output_type": "display_data"
    }
   ],
   "source": [
    "fig, ax = plt.subplots(nrows=2,ncols=2,figsize=(10,10)) # to refer to each, use indexing\n",
    "\n",
    "d_gender.plot(kind='bar', ax=ax[0,0],title='tips w.r.t Gender')\n",
    "d_size.plot(kind='bar', ax=ax[0,1],title='tips w.r.t size',color='green')\n",
    "d_day.plot(kind='bar', ax=ax[1,0],title='tips w.r.t day', color='orange');\n",
    "d_smoker.plot(kind='bar', ax=ax[1,1],title='tips w.r.t smoker', color='red');\n"
   ]
  },
  {
   "cell_type": "markdown",
   "id": "b9eb9024",
   "metadata": {},
   "source": [
    "**Analysis**\n",
    "\n",
    "- We see that tip amount increases w.r.t size.\n",
    "- Sunday is when highest tip is given compared to other days.\n",
    "- Tips do not seem to differ w.r.t Gender and Smoker columns."
   ]
  },
  {
   "cell_type": "markdown",
   "id": "55eddca5",
   "metadata": {},
   "source": [
    "### Question 2\n",
    "\n",
    "Create box plot for tip amount column. Split the box plot by above mentioned categories (use subplots).\n"
   ]
  },
  {
   "cell_type": "markdown",
   "id": "cbdc5812",
   "metadata": {},
   "source": [
    "### Solution 2"
   ]
  },
  {
   "cell_type": "markdown",
   "id": "6390f614",
   "metadata": {},
   "source": [
    "### Boxplot for tip amount column"
   ]
  },
  {
   "cell_type": "code",
   "execution_count": 17,
   "id": "edc30979",
   "metadata": {},
   "outputs": [
    {
     "data": {
      "image/png": "[encoded data removed]",
      "text/plain": [
       "<Figure size 432x288 with 1 Axes>"
      ]
     },
     "metadata": {
      "needs_background": "light"
     },
     "output_type": "display_data"
    }
   ],
   "source": [
    "sns.boxplot(x=data['tip'])\n",
    "plt.title('tip distribution analysis')\n",
    "plt.show();"
   ]
  },
  {
   "cell_type": "code",
   "execution_count": 18,
   "id": "6310242c",
   "metadata": {},
   "outputs": [
    {
     "data": {
      "image/png": "[encoded data removed]",
      "text/plain": [
       "<Figure size 1080x360 with 4 Axes>"
      ]
     },
     "metadata": {
      "needs_background": "light"
     },
     "output_type": "display_data"
    }
   ],
   "source": [
    "fig, ax = plt.subplots(nrows=1,ncols=4,figsize=(15,5)) # to refer to each, use indexing\n",
    "\n",
    "sns.boxplot(data=data, x='day', y='tip', ax=ax[0]).set(title='day')\n",
    "sns.boxplot(data=data, x='size', y='tip', ax=ax[1]).set(title='size')\n",
    "sns.boxplot(data=data, x='sex', y='tip', ax=ax[2]).set(title='Gender')\n",
    "sns.boxplot(data=data, x='smoker', y='tip', ax=ax[3]).set(title='smoker')\n",
    "\n",
    "plt.show()"
   ]
  },
  {
   "cell_type": "markdown",
   "id": "d5d1d0be",
   "metadata": {},
   "source": [
    "### Question 3\n",
    "\n",
    "Using the above bar charts & box plots, identify which group influences the tip amount the most "
   ]
  },
  {
   "cell_type": "markdown",
   "id": "068910db",
   "metadata": {},
   "source": [
    "### Solution 3"
   ]
  },
  {
   "cell_type": "markdown",
   "id": "4e1eda20",
   "metadata": {},
   "source": [
    "**Most important factor which influences top the most is the size of party**\n",
    "- Based on above bar chart and boxplot we observe that size of the party influences tip the most.\n",
    "- Below is barchart which shows as size increases, tip also increase.\n",
    "- BAsed on boxplots we can see the IQR is very different for each size and overall tip range seems to increase w.r.t size."
   ]
  },
  {
   "cell_type": "code",
   "execution_count": 19,
   "id": "84813650",
   "metadata": {},
   "outputs": [
    {
     "data": {
      "image/png": "[encoded data removed]",
      "text/plain": [
       "<Figure size 720x360 with 2 Axes>"
      ]
     },
     "metadata": {
      "needs_background": "light"
     },
     "output_type": "display_data"
    }
   ],
   "source": [
    "fig, ax = plt.subplots(nrows=1,ncols=2,figsize=(10,5))\n",
    "\n",
    "d_size.plot(kind='bar', ax=ax[0],title='histogram- tips w.r.t size',color='green')\n",
    "sns.boxplot(data=data, x='size', y='tip', ax=ax[1]).set(title='boxplot - tips w.r.t size');\n"
   ]
  },
  {
   "cell_type": "markdown",
   "id": "6e866475",
   "metadata": {},
   "source": [
    "### Question 4\n",
    "\n",
    "Visualize the relationship between total bill amount vs tip amount using scatter plot. The metric of interest should always be in the Y-axis. Here we are interested in understanding the tip pattern. Hence Y-axis should be tip amount and X axis should be total bill "
   ]
  },
  {
   "cell_type": "markdown",
   "id": "917524bb",
   "metadata": {},
   "source": [
    "### Solution 4"
   ]
  },
  {
   "cell_type": "markdown",
   "id": "37ac86cd",
   "metadata": {},
   "source": [
    "### Scatter Plot"
   ]
  },
  {
   "cell_type": "code",
   "execution_count": 20,
   "id": "0d29d177",
   "metadata": {},
   "outputs": [
    {
     "data": {
      "image/png": "[encoded data removed]",
      "text/plain": [
       "<Figure size 432x288 with 1 Axes>"
      ]
     },
     "metadata": {
      "needs_background": "light"
     },
     "output_type": "display_data"
    }
   ],
   "source": [
    "plt.scatter(x=data['total_bill'],y=data['tip'])\n",
    "plt.xlabel('total bill amount')\n",
    "plt.ylabel('tip amount')\n",
    "plt.title('Scatter-plot - Bill amount vs tip');"
   ]
  },
  {
   "cell_type": "markdown",
   "id": "8e17348d",
   "metadata": {},
   "source": [
    "### Question 5\n",
    "\n",
    "Based on the above scatter plot, what do you think the waiter will do. Will he/she make you eat more or less to get good tip?  \n"
   ]
  },
  {
   "cell_type": "markdown",
   "id": "91792e50",
   "metadata": {},
   "source": [
    "### Solution 5"
   ]
  },
  {
   "cell_type": "markdown",
   "id": "780a1440",
   "metadata": {},
   "source": [
    "1. From scatter plot we see in general as bill amount increases, tip also increases. \n",
    "2. However towards higher bill amounts data is much more scattered. Inspite of higher bills, sometimes tip amount might be same as compared to lower bill amount so the two variables look moderately correlated."
   ]
  },
  {
   "cell_type": "markdown",
   "id": "9910aacb",
   "metadata": {},
   "source": [
    "### Question 6\n",
    "\n",
    "Substantiate your above inference through appropriate statistical test "
   ]
  },
  {
   "cell_type": "markdown",
   "id": "9853bfe7",
   "metadata": {},
   "source": [
    "### Solution 6"
   ]
  },
  {
   "cell_type": "code",
   "execution_count": 21,
   "id": "ff08c3c3",
   "metadata": {},
   "outputs": [
    {
     "data": {
      "text/html": [
       "<div>\n",
       "<style scoped>\n",
       "    .dataframe tbody tr th:only-of-type {\n",
       "        vertical-align: middle;\n",
       "    }\n",
       "\n",
       "    .dataframe tbody tr th {\n",
       "        vertical-align: top;\n",
       "    }\n",
       "\n",
       "    .dataframe thead th {\n",
       "        text-align: right;\n",
       "    }\n",
       "</style>\n",
       "<table border=\"1\" class=\"dataframe\">\n",
       "  <thead>\n",
       "    <tr style=\"text-align: right;\">\n",
       "      <th></th>\n",
       "      <th>total_bill</th>\n",
       "      <th>tip</th>\n",
       "      <th>size</th>\n",
       "    </tr>\n",
       "  </thead>\n",
       "  <tbody>\n",
       "    <tr>\n",
       "      <th>total_bill</th>\n",
       "      <td>1.000000</td>\n",
       "      <td>0.595065</td>\n",
       "      <td>0.581462</td>\n",
       "    </tr>\n",
       "    <tr>\n",
       "      <th>tip</th>\n",
       "      <td>0.595065</td>\n",
       "      <td>1.000000</td>\n",
       "      <td>0.450306</td>\n",
       "    </tr>\n",
       "    <tr>\n",
       "      <th>size</th>\n",
       "      <td>0.581462</td>\n",
       "      <td>0.450306</td>\n",
       "      <td>1.000000</td>\n",
       "    </tr>\n",
       "  </tbody>\n",
       "</table>\n",
       "</div>"
      ],
      "text/plain": [
       "            total_bill       tip      size\n",
       "total_bill    1.000000  0.595065  0.581462\n",
       "tip           0.595065  1.000000  0.450306\n",
       "size          0.581462  0.450306  1.000000"
      ]
     },
     "execution_count": 21,
     "metadata": {},
     "output_type": "execute_result"
    }
   ],
   "source": [
    "data.corr()"
   ]
  },
  {
   "cell_type": "markdown",
   "id": "2d0957fc",
   "metadata": {},
   "source": [
    "1. Correlation is a statistical measure that expresses the extent to which two variables are linearly related.\n",
    "2. To check if predictor variable(total_bill) has a statistically significant relationship with an outcome variable(tip) we calculate the correlation coefficient.\n",
    "3. We observe that correlation coefficient, r, is 0.595 which indicates that total_bill and tip are moderately correlated."
   ]
  },
  {
   "cell_type": "markdown",
   "id": "635df215",
   "metadata": {},
   "source": [
    "### Question 7\n",
    "In the above scatter plot, color each circle by gender and list down your inferences "
   ]
  },
  {
   "cell_type": "markdown",
   "id": "59c57d39",
   "metadata": {},
   "source": [
    "### Solution 7"
   ]
  },
  {
   "cell_type": "code",
   "execution_count": 22,
   "id": "c3c6b40b",
   "metadata": {},
   "outputs": [
    {
     "data": {
      "image/png": "[encoded data removed]",
      "text/plain": [
       "<Figure size 432x288 with 1 Axes>"
      ]
     },
     "metadata": {
      "needs_background": "light"
     },
     "output_type": "display_data"
    }
   ],
   "source": [
    "sns.scatterplot(data=data, x=\"total_bill\", y=\"tip\",hue='sex').set(title='tip across genders');\n",
    "\n"
   ]
  },
  {
   "cell_type": "markdown",
   "id": "e65ab67a",
   "metadata": {},
   "source": [
    "1. Based on above scatter plot, it seems gender is not a significant variable w.r.t tip given.\n",
    "2. Tips do not vary w.r.t genders. There is no specific pattern."
   ]
  },
  {
   "cell_type": "code",
   "execution_count": null,
   "id": "5c19e322",
   "metadata": {},
   "outputs": [],
   "source": []
  }
 ],
 "metadata": {
  "kernelspec": {
   "display_name": "Python 3 (ipykernel)",
   "language": "python",
   "name": "python3"
  },
  "language_info": {
   "codemirror_mode": {
    "name": "ipython",
    "version": 3
   },
   "file_extension": ".py",
   "mimetype": "text/x-python",
   "name": "python",
   "nbconvert_exporter": "python",
   "pygments_lexer": "ipython3",
   "version": "3.7.7"
  }
 },
 "nbformat": 4,
 "nbformat_minor": 5
}
