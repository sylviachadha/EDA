{
 "cells": [
  {
   "cell_type": "markdown",
   "id": "72f9b5d5-ecb1-45a8-9948-93fbbb9d8852",
   "metadata": {},
   "source": [
    "# Built-in Datasets"
   ]
  },
  {
   "cell_type": "markdown",
   "id": "328e2fe3-7436-44a6-a73e-f57349d84145",
   "metadata": {},
   "source": [
    "# 1. Seaborn Library"
   ]
  },
  {
   "cell_type": "markdown",
   "id": "50fe9f55-3c44-4b2f-8a77-992b8feb14dd",
   "metadata": {},
   "source": [
    "- iris\n",
    "- tips\n",
    "- flights\n",
    "- titanic\n",
    "- diamonds\n",
    "- planets\n",
    "- exercise"
   ]
  },
  {
   "cell_type": "markdown",
   "id": "1289bedd-711d-46a4-895e-53a835ed7c7c",
   "metadata": {},
   "source": [
    "# 2. Scikit-Learn Library"
   ]
  },
  {
   "cell_type": "markdown",
   "id": "1e552ac5-ee8e-4609-a197-85dd644c0d34",
   "metadata": {},
   "source": [
    "- iris\n",
    "- digits\n",
    "- wine\n",
    "- breast_cancer"
   ]
  },
  {
   "cell_type": "markdown",
   "id": "ba968b73-2d74-4000-86c5-46bd023caeb0",
   "metadata": {},
   "source": [
    "# 3. Statsmodels Library"
   ]
  },
  {
   "cell_type": "markdown",
   "id": "8b0affc2-d32a-42ab-b158-881175dbe494",
   "metadata": {},
   "source": [
    "- longley\n",
    "- co2\n",
    "- heart\n",
    "- cancer\n",
    "- sunspots"
   ]
  },
  {
   "cell_type": "markdown",
   "id": "123afcd1-018e-4b62-bbc1-9d072ce08096",
   "metadata": {},
   "source": [
    "# 4. Tensorflow and Keras"
   ]
  },
  {
   "cell_type": "markdown",
   "id": "27a2e241-1f0a-441b-ac39-3014a423e955",
   "metadata": {},
   "source": [
    "- mnist\n",
    "- fashion_mnist\n",
    "- cifar10\n",
    "- cifar100\n",
    "- imdb\n",
    "- boston"
   ]
  },
  {
   "cell_type": "markdown",
   "id": "d00ad3d7-6681-48b8-a308-3c80f55f4397",
   "metadata": {},
   "source": [
    "# 5. Pytorch"
   ]
  },
  {
   "cell_type": "markdown",
   "id": "a931e081-2352-4b0d-b7f0-b490b493d46d",
   "metadata": {},
   "source": [
    "- MNIST\n",
    "- CIFAR10\n",
    "- ImageNet\n",
    "- LibriSpeech"
   ]
  },
  {
   "cell_type": "markdown",
   "id": "fadeadfd-9928-43d2-9720-bc1351cd650c",
   "metadata": {},
   "source": [
    "# 6. Vega"
   ]
  },
  {
   "cell_type": "markdown",
   "id": "9bd0eafc-b482-488f-afba-94e2bf898895",
   "metadata": {},
   "source": [
    "- cars\n",
    "- stocks\n",
    "- seattle_weather\n",
    "- barley"
   ]
  },
  {
   "cell_type": "markdown",
   "id": "8ffec105-dace-4e71-90a2-115a26d2cdc7",
   "metadata": {},
   "source": [
    "# 7. openml"
   ]
  },
  {
   "cell_type": "code",
   "execution_count": 5,
   "id": "2182ad0b-1a1d-4022-837b-e717152efc36",
   "metadata": {},
   "outputs": [],
   "source": [
    "# pip install openml"
   ]
  },
  {
   "cell_type": "code",
   "execution_count": 6,
   "id": "c170b2cb-722b-4108-8e75-564657a387ba",
   "metadata": {},
   "outputs": [
    {
     "name": "stdout",
     "output_type": "stream",
     "text": [
      "   did        name  version uploader  status format  MajorityClassSize  \\\n",
      "2    2      anneal        1        1  active   ARFF              684.0   \n",
      "3    3    kr-vs-kp        1        1  active   ARFF             1669.0   \n",
      "4    4       labor        1        1  active   ARFF               37.0   \n",
      "5    5  arrhythmia        1        1  active   ARFF              245.0   \n",
      "6    6      letter        1        1  active   ARFF              813.0   \n",
      "\n",
      "   MaxNominalAttDistinctValues  MinorityClassSize  NumberOfClasses  \\\n",
      "2                          7.0                8.0              5.0   \n",
      "3                          3.0             1527.0              2.0   \n",
      "4                          3.0               20.0              2.0   \n",
      "5                         13.0                2.0             13.0   \n",
      "6                         26.0              734.0             26.0   \n",
      "\n",
      "   NumberOfFeatures  NumberOfInstances  NumberOfInstancesWithMissingValues  \\\n",
      "2              39.0              898.0                               898.0   \n",
      "3              37.0             3196.0                                 0.0   \n",
      "4              17.0               57.0                                56.0   \n",
      "5             280.0              452.0                               384.0   \n",
      "6              17.0            20000.0                                 0.0   \n",
      "\n",
      "   NumberOfMissingValues  NumberOfNumericFeatures  NumberOfSymbolicFeatures  \n",
      "2                22175.0                      6.0                      33.0  \n",
      "3                    0.0                      0.0                      37.0  \n",
      "4                  326.0                      8.0                       9.0  \n",
      "5                  408.0                    206.0                      74.0  \n",
      "6                    0.0                     16.0                       1.0  \n"
     ]
    },
    {
     "name": "stderr",
     "output_type": "stream",
     "text": [
      "/var/folders/1j/6bqwtp0x00z_279498pht7ym0000gn/T/ipykernel_1698/4247961361.py:8: FutureWarning: Starting from Version 0.15 `download_data`, `download_qualities`, and `download_features_meta_data` will all be ``False`` instead of ``True`` by default to enable lazy loading. To disable this message until version 0.15 explicitly set `download_data`, `download_qualities`, and `download_features_meta_data` to a bool while calling `get_dataset`.\n",
      "  dataset = openml.datasets.get_dataset(31)\n"
     ]
    },
    {
     "name": "stdout",
     "output_type": "stream",
     "text": [
      "  checking_status  duration                  credit_history  \\\n",
      "0              <0         6  critical/other existing credit   \n",
      "1        0<=X<200        48                   existing paid   \n",
      "2     no checking        12  critical/other existing credit   \n",
      "3              <0        42                   existing paid   \n",
      "4              <0        24              delayed previously   \n",
      "\n",
      "               purpose  credit_amount    savings_status employment  \\\n",
      "0             radio/tv         1169.0  no known savings        >=7   \n",
      "1             radio/tv         5951.0              <100     1<=X<4   \n",
      "2            education         2096.0              <100     4<=X<7   \n",
      "3  furniture/equipment         7882.0              <100     4<=X<7   \n",
      "4              new car         4870.0              <100     1<=X<4   \n",
      "\n",
      "   installment_commitment     personal_status other_parties  ...  \\\n",
      "0                       4         male single          none  ...   \n",
      "1                       2  female div/dep/mar          none  ...   \n",
      "2                       2         male single          none  ...   \n",
      "3                       2         male single     guarantor  ...   \n",
      "4                       3         male single          none  ...   \n",
      "\n",
      "   property_magnitude age  other_payment_plans   housing existing_credits  \\\n",
      "0         real estate  67                 none       own                2   \n",
      "1         real estate  22                 none       own                1   \n",
      "2         real estate  49                 none       own                1   \n",
      "3      life insurance  45                 none  for free                1   \n",
      "4   no known property  53                 none  for free                2   \n",
      "\n",
      "                  job num_dependents  own_telephone foreign_worker class  \n",
      "0             skilled              1            yes            yes  good  \n",
      "1             skilled              1           none            yes   bad  \n",
      "2  unskilled resident              2           none            yes  good  \n",
      "3             skilled              2           none            yes  good  \n",
      "4             skilled              2           none            yes   bad  \n",
      "\n",
      "[5 rows x 21 columns]\n"
     ]
    }
   ],
   "source": [
    "import openml\n",
    "\n",
    "# List available datasets\n",
    "datasets = openml.datasets.list_datasets(output_format='dataframe')\n",
    "print(datasets.head())\n",
    "\n",
    "# Load a specific dataset by ID\n",
    "dataset = openml.datasets.get_dataset(31)\n",
    "data, _, _, _ = dataset.get_data()\n",
    "print(data.head())\n"
   ]
  },
  {
   "cell_type": "code",
   "execution_count": null,
   "id": "49b1ee31-3e80-4dad-a585-17989e66172d",
   "metadata": {},
   "outputs": [],
   "source": []
  },
  {
   "cell_type": "code",
   "execution_count": null,
   "id": "e1482213-917b-45ee-bbfe-fbbf914a2547",
   "metadata": {},
   "outputs": [],
   "source": []
  },
  {
   "cell_type": "code",
   "execution_count": null,
   "id": "6e9de427-08c8-48d3-83ac-27337259b266",
   "metadata": {},
   "outputs": [],
   "source": []
  },
  {
   "cell_type": "code",
   "execution_count": null,
   "id": "e1d9cd18-31fa-434c-8f45-adcc966f9481",
   "metadata": {},
   "outputs": [],
   "source": []
  }
 ],
 "metadata": {
  "kernelspec": {
   "display_name": "Python 3 (ipykernel)",
   "language": "python",
   "name": "python3"
  },
  "language_info": {
   "codemirror_mode": {
    "name": "ipython",
    "version": 3
   },
   "file_extension": ".py",
   "mimetype": "text/x-python",
   "name": "python",
   "nbconvert_exporter": "python",
   "pygments_lexer": "ipython3",
   "version": "3.8.19"
  }
 },
 "nbformat": 4,
 "nbformat_minor": 5
}
